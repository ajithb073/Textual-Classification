{
  "nbformat": 4,
  "nbformat_minor": 0,
  "metadata": {
    "colab": {
      "name": "Text_classfctn.ipynb",
      "provenance": [],
      "collapsed_sections": [],
      "toc_visible": true
    },
    "kernelspec": {
      "name": "python3",
      "display_name": "Python 3"
    }
  },
  "cells": [
    {
      "cell_type": "code",
      "metadata": {
        "colab": {
          "base_uri": "https://localhost:8080/"
        },
        "id": "u-F2IgGrCemt",
        "outputId": "742723e3-7e6e-4bc9-8a28-21fe4a46f0d6"
      },
      "source": [
        "#Data cleaning and preprocessing\n",
        "import re\n",
        "import nltk\n",
        "nltk.download('stopwords')\n",
        "\n",
        "from nltk.corpus import stopwords\n",
        "from nltk.stem.porter import PorterStemmer\n",
        "ps = PorterStemmer()"
      ],
      "execution_count": 15,
      "outputs": [
        {
          "output_type": "stream",
          "text": [
            "[nltk_data] Downloading package stopwords to /root/nltk_data...\n",
            "[nltk_data]   Package stopwords is already up-to-date!\n"
          ],
          "name": "stdout"
        }
      ]
    },
    {
      "cell_type": "code",
      "metadata": {
        "id": "b7AAvx0sCvEC"
      },
      "source": [
        "import matplotlib.pyplot as plt\n",
        "from sklearn.model_selection import train_test_split\n",
        "from sklearn.feature_extraction.text import CountVectorizer\n",
        "from sklearn.feature_extraction.text import TfidfTransformer"
      ],
      "execution_count": 16,
      "outputs": []
    },
    {
      "cell_type": "code",
      "metadata": {
        "colab": {
          "base_uri": "https://localhost:8080/",
          "height": 35
        },
        "id": "zvpZLDaqC1B9",
        "outputId": "2cdbf8bc-b744-4c9e-f402-d77db0103c61"
      },
      "source": [
        "import pandas as pd\n",
        "pd.__version__"
      ],
      "execution_count": 17,
      "outputs": [
        {
          "output_type": "execute_result",
          "data": {
            "application/vnd.google.colaboratory.intrinsic+json": {
              "type": "string"
            },
            "text/plain": [
              "'1.1.5'"
            ]
          },
          "metadata": {
            "tags": []
          },
          "execution_count": 17
        }
      ]
    },
    {
      "cell_type": "code",
      "metadata": {
        "id": "pm4-_dqgC7pL"
      },
      "source": [
        "import tensorflow as tf\n",
        "from tensorflow.keras.models import Sequential\n",
        "from tensorflow.keras.layers import Dense, Activation, Dropout\n",
        "from tensorflow.keras.callbacks import EarlyStopping"
      ],
      "execution_count": null,
      "outputs": []
    },
    {
      "cell_type": "code",
      "metadata": {
        "colab": {
          "base_uri": "https://localhost:8080/",
          "height": 394
        },
        "id": "S5tZr-VvDDQb",
        "outputId": "850bc885-ea46-41ca-8fc5-51ae482c17d2"
      },
      "source": [
        "data=pd.read_csv('/content/final_training_data.csv')\n",
        "data.head()"
      ],
      "execution_count": 51,
      "outputs": [
        {
          "output_type": "execute_result",
          "data": {
            "text/html": [
              "<div>\n",
              "<style scoped>\n",
              "    .dataframe tbody tr th:only-of-type {\n",
              "        vertical-align: middle;\n",
              "    }\n",
              "\n",
              "    .dataframe tbody tr th {\n",
              "        vertical-align: top;\n",
              "    }\n",
              "\n",
              "    .dataframe thead th {\n",
              "        text-align: right;\n",
              "    }\n",
              "</style>\n",
              "<table border=\"1\" class=\"dataframe\">\n",
              "  <thead>\n",
              "    <tr style=\"text-align: right;\">\n",
              "      <th></th>\n",
              "      <th>sentence</th>\n",
              "      <th>ipo_status</th>\n",
              "      <th>funding_status</th>\n",
              "      <th>m&amp;a_status</th>\n",
              "      <th>investment_status</th>\n",
              "      <th>parnership_status</th>\n",
              "      <th>product_launch_status</th>\n",
              "      <th>government_regulations_status</th>\n",
              "      <th>product_survey_status</th>\n",
              "      <th>market_growth_status</th>\n",
              "    </tr>\n",
              "  </thead>\n",
              "  <tbody>\n",
              "    <tr>\n",
              "      <th>0</th>\n",
              "      <td>The Daily Beast\\n\\nPoolPrince Harry and Meghan...</td>\n",
              "      <td>n</td>\n",
              "      <td>n</td>\n",
              "      <td>n</td>\n",
              "      <td>n</td>\n",
              "      <td>n</td>\n",
              "      <td>n</td>\n",
              "      <td>n</td>\n",
              "      <td>n</td>\n",
              "      <td>n</td>\n",
              "    </tr>\n",
              "    <tr>\n",
              "      <th>1</th>\n",
              "      <td>Meghan, 39, said in the interview, âYou know...</td>\n",
              "      <td>n</td>\n",
              "      <td>n</td>\n",
              "      <td>n</td>\n",
              "      <td>n</td>\n",
              "      <td>n</td>\n",
              "      <td>n</td>\n",
              "      <td>n</td>\n",
              "      <td>n</td>\n",
              "      <td>n</td>\n",
              "    </tr>\n",
              "    <tr>\n",
              "      <th>2</th>\n",
              "      <td>No one knows that.</td>\n",
              "      <td>n</td>\n",
              "      <td>n</td>\n",
              "      <td>n</td>\n",
              "      <td>n</td>\n",
              "      <td>n</td>\n",
              "      <td>n</td>\n",
              "      <td>n</td>\n",
              "      <td>n</td>\n",
              "      <td>n</td>\n",
              "    </tr>\n",
              "    <tr>\n",
              "      <th>3</th>\n",
              "      <td>The vows that we have framed in our room are j...</td>\n",
              "      <td>n</td>\n",
              "      <td>n</td>\n",
              "      <td>n</td>\n",
              "      <td>n</td>\n",
              "      <td>n</td>\n",
              "      <td>n</td>\n",
              "      <td>n</td>\n",
              "      <td>n</td>\n",
              "      <td>n</td>\n",
              "    </tr>\n",
              "    <tr>\n",
              "      <th>4</th>\n",
              "      <td>Others argued, however, that Meghan was merely...</td>\n",
              "      <td>n</td>\n",
              "      <td>n</td>\n",
              "      <td>n</td>\n",
              "      <td>n</td>\n",
              "      <td>n</td>\n",
              "      <td>n</td>\n",
              "      <td>n</td>\n",
              "      <td>n</td>\n",
              "      <td>n</td>\n",
              "    </tr>\n",
              "  </tbody>\n",
              "</table>\n",
              "</div>"
            ],
            "text/plain": [
              "                                            sentence  ... market_growth_status\n",
              "0  The Daily Beast\\n\\nPoolPrince Harry and Meghan...  ...                    n\n",
              "1  Meghan, 39, said in the interview, âYou know...  ...                    n\n",
              "2                                 No one knows that.  ...                    n\n",
              "3  The vows that we have framed in our room are j...  ...                    n\n",
              "4  Others argued, however, that Meghan was merely...  ...                    n\n",
              "\n",
              "[5 rows x 10 columns]"
            ]
          },
          "metadata": {
            "tags": []
          },
          "execution_count": 51
        }
      ]
    },
    {
      "cell_type": "code",
      "metadata": {
        "colab": {
          "base_uri": "https://localhost:8080/"
        },
        "id": "cQ-uu0VaR1pb",
        "outputId": "8afcb238-89ed-4d08-deaa-5358f0fcb06a"
      },
      "source": [
        "data['Category class'].value_counts()"
      ],
      "execution_count": 19,
      "outputs": [
        {
          "output_type": "execute_result",
          "data": {
            "text/plain": [
              "Technologies                                  107\n",
              "company announcements or information          103\n",
              "Innovation                                    103\n",
              "awards and recognition                        103\n",
              "Research and development                      101\n",
              "Junk                                          100\n",
              "Product Launch                                100\n",
              "collaboration or agreement or partnerships     98\n",
              "Name: Category class, dtype: int64"
            ]
          },
          "metadata": {
            "tags": []
          },
          "execution_count": 19
        }
      ]
    },
    {
      "cell_type": "code",
      "metadata": {
        "id": "PJO41pbDRrDz"
      },
      "source": [
        "data['Domain_Type'] = data['Domain_Type'].replace({'Syndicate Domain':1,'News Domain':2,'Consultancy Domain':3})\n",
        "#data['Domain_Type'].astype(int)"
      ],
      "execution_count": null,
      "outputs": []
    },
    {
      "cell_type": "code",
      "metadata": {
        "id": "-noB8jObD9Od",
        "colab": {
          "base_uri": "https://localhost:8080/"
        },
        "outputId": "fe99cd20-ad7b-4192-aeff-c9df4adcabc0"
      },
      "source": [
        "# checking unique value of review and followers and their counts\n",
        "data['Description'].isna().sum()\n",
        "#data.dropna(inplace=True)\n",
        "#data"
      ],
      "execution_count": null,
      "outputs": [
        {
          "output_type": "execute_result",
          "data": {
            "text/plain": [
              "0"
            ]
          },
          "metadata": {
            "tags": []
          },
          "execution_count": 7
        }
      ]
    },
    {
      "cell_type": "code",
      "metadata": {
        "colab": {
          "base_uri": "https://localhost:8080/"
        },
        "id": "faNgS9JITOVF",
        "outputId": "0db47296-e1bf-40f9-96e4-5baf363e16d2"
      },
      "source": [
        "data.isnull().sum()"
      ],
      "execution_count": null,
      "outputs": [
        {
          "output_type": "execute_result",
          "data": {
            "text/plain": [
              "Unnamed: 0     86\n",
              "Domain         12\n",
              "Description     0\n",
              "Domain_Type     0\n",
              "dtype: int64"
            ]
          },
          "metadata": {
            "tags": []
          },
          "execution_count": 7
        }
      ]
    },
    {
      "cell_type": "code",
      "metadata": {
        "colab": {
          "base_uri": "https://localhost:8080/",
          "height": 204
        },
        "id": "xzfjb68iEv7c",
        "outputId": "f71fdd29-064f-4a46-8317-ab6b9fd48fa8"
      },
      "source": [
        "d2=data[['Domain','Description','Domain_Type']]\n",
        "#d2 = d2.dropna(inplace=True)\n",
        "d2.head()"
      ],
      "execution_count": null,
      "outputs": [
        {
          "output_type": "execute_result",
          "data": {
            "text/html": [
              "<div>\n",
              "<style scoped>\n",
              "    .dataframe tbody tr th:only-of-type {\n",
              "        vertical-align: middle;\n",
              "    }\n",
              "\n",
              "    .dataframe tbody tr th {\n",
              "        vertical-align: top;\n",
              "    }\n",
              "\n",
              "    .dataframe thead th {\n",
              "        text-align: right;\n",
              "    }\n",
              "</style>\n",
              "<table border=\"1\" class=\"dataframe\">\n",
              "  <thead>\n",
              "    <tr style=\"text-align: right;\">\n",
              "      <th></th>\n",
              "      <th>Domain</th>\n",
              "      <th>Description</th>\n",
              "      <th>Domain_Type</th>\n",
              "    </tr>\n",
              "  </thead>\n",
              "  <tbody>\n",
              "    <tr>\n",
              "      <th>0</th>\n",
              "      <td>https://servest.co.za</td>\n",
              "      <td>Our high-performance culture is focused on our...</td>\n",
              "      <td>Syndicate Domain</td>\n",
              "    </tr>\n",
              "    <tr>\n",
              "      <th>1</th>\n",
              "      <td>https://tsx.com</td>\n",
              "      <td>The Exchanges have provided companies with acc...</td>\n",
              "      <td>Syndicate Domain</td>\n",
              "    </tr>\n",
              "    <tr>\n",
              "      <th>2</th>\n",
              "      <td>https://eastspring.com</td>\n",
              "      <td>Eastspring Investments, part of Prudential plc...</td>\n",
              "      <td>Syndicate Domain</td>\n",
              "    </tr>\n",
              "    <tr>\n",
              "      <th>3</th>\n",
              "      <td>https://financialbuzz.com</td>\n",
              "      <td>It seems we can’t find what you’re looking for...</td>\n",
              "      <td>News Domain</td>\n",
              "    </tr>\n",
              "    <tr>\n",
              "      <th>4</th>\n",
              "      <td>https://aarkstore.com</td>\n",
              "      <td>Aarkstore Enterprise is among global marketing...</td>\n",
              "      <td>Syndicate Domain</td>\n",
              "    </tr>\n",
              "  </tbody>\n",
              "</table>\n",
              "</div>"
            ],
            "text/plain": [
              "                      Domain  ...       Domain_Type\n",
              "0      https://servest.co.za  ...  Syndicate Domain\n",
              "1            https://tsx.com  ...  Syndicate Domain\n",
              "2     https://eastspring.com  ...  Syndicate Domain\n",
              "3  https://financialbuzz.com  ...       News Domain\n",
              "4      https://aarkstore.com  ...  Syndicate Domain\n",
              "\n",
              "[5 rows x 3 columns]"
            ]
          },
          "metadata": {
            "tags": []
          },
          "execution_count": 8
        }
      ]
    },
    {
      "cell_type": "code",
      "metadata": {
        "id": "gaUOw2XFGqGn"
      },
      "source": [
        "# Data Preprocessing \n",
        "data['sentence_lower'] = data[\"Sentences\"].str.lower() # converting text into lower\n",
        "data['sentence_no_punctuation'] = data['sentence_lower'].str.replace('[^\\w\\s]','')# replace white and non white space characters by ''\n",
        "#d2['sentence_no_punctuation'] = d2[\"sentence_no_punctuation\"].fillna(\"fillna\")# replace null values by fillna\n",
        "#for i in d2['sentence_no_punctuation'].values:\n",
        "    #review = re.sub('[^a-zA-Z]',' ',dff['sentence_no_punctuation'][i])# getting alphabets only and eliminating others\n",
        "    #review = review.lower()# convert into lower letters\n",
        "    #review = i.split()\n",
        "    #review = d2['sentence_no_punctuation'][i].split()# splitting sentences\n",
        "    #review = [ps.stem(word) for word in review if not word in stopwords.words('english')]# removing stop words\n",
        "    #review = ' '.join(review)\n",
        "    #d2['sentence_no_punctuation'].append(review)\n",
        "    #d2['sentence'] = review    \n",
        "#d2['sentence_no_punctuation'] = review \n",
        "#d2['sentence_no_punctuation'] = d2['sentence_no_punctuation'].split() \n",
        "#d2['sentence] = [ps.stem(word) for word in review if not word in stopwords.words('english')]  \n"
      ],
      "execution_count": 20,
      "outputs": []
    },
    {
      "cell_type": "code",
      "metadata": {
        "colab": {
          "base_uri": "https://localhost:8080/",
          "height": 306
        },
        "id": "V7OELEKMZkk9",
        "outputId": "f584c6c5-2704-4c05-d009-5380693f246c"
      },
      "source": [
        "data.head()"
      ],
      "execution_count": 21,
      "outputs": [
        {
          "output_type": "execute_result",
          "data": {
            "text/html": [
              "<div>\n",
              "<style scoped>\n",
              "    .dataframe tbody tr th:only-of-type {\n",
              "        vertical-align: middle;\n",
              "    }\n",
              "\n",
              "    .dataframe tbody tr th {\n",
              "        vertical-align: top;\n",
              "    }\n",
              "\n",
              "    .dataframe thead th {\n",
              "        text-align: right;\n",
              "    }\n",
              "</style>\n",
              "<table border=\"1\" class=\"dataframe\">\n",
              "  <thead>\n",
              "    <tr style=\"text-align: right;\">\n",
              "      <th></th>\n",
              "      <th>Sentences</th>\n",
              "      <th>Category class</th>\n",
              "      <th>sentence_lower</th>\n",
              "      <th>sentence_no_punctuation</th>\n",
              "    </tr>\n",
              "  </thead>\n",
              "  <tbody>\n",
              "    <tr>\n",
              "      <th>0</th>\n",
              "      <td>Meesho launched Farmiso, a product that anyone...</td>\n",
              "      <td>Product Launch</td>\n",
              "      <td>meesho launched farmiso, a product that anyone...</td>\n",
              "      <td>meesho launched farmiso a product that anyone ...</td>\n",
              "    </tr>\n",
              "    <tr>\n",
              "      <th>1</th>\n",
              "      <td>TCEB LAUNCHES ‘MICE WINNOVATION’ TO GIVE MICE ...</td>\n",
              "      <td>Product Launch</td>\n",
              "      <td>tceb launches ‘mice winnovation’ to give mice ...</td>\n",
              "      <td>tceb launches mice winnovation to give mice en...</td>\n",
              "    </tr>\n",
              "    <tr>\n",
              "      <th>2</th>\n",
              "      <td>On April 6th, 2021, Niu Technologies launched ...</td>\n",
              "      <td>Product Launch</td>\n",
              "      <td>on april 6th, 2021, niu technologies launched ...</td>\n",
              "      <td>on april 6th 2021 niu technologies launched 4 ...</td>\n",
              "    </tr>\n",
              "    <tr>\n",
              "      <th>3</th>\n",
              "      <td>Niu Technologies also launched a new series fo...</td>\n",
              "      <td>Product Launch</td>\n",
              "      <td>niu technologies also launched a new series fo...</td>\n",
              "      <td>niu technologies also launched a new series fo...</td>\n",
              "    </tr>\n",
              "    <tr>\n",
              "      <th>4</th>\n",
              "      <td>Reliance is expected to complete the developme...</td>\n",
              "      <td>Product Launch</td>\n",
              "      <td>reliance is expected to complete the developme...</td>\n",
              "      <td>reliance is expected to complete the developme...</td>\n",
              "    </tr>\n",
              "  </tbody>\n",
              "</table>\n",
              "</div>"
            ],
            "text/plain": [
              "                                           Sentences  ...                            sentence_no_punctuation\n",
              "0  Meesho launched Farmiso, a product that anyone...  ...  meesho launched farmiso a product that anyone ...\n",
              "1  TCEB LAUNCHES ‘MICE WINNOVATION’ TO GIVE MICE ...  ...  tceb launches mice winnovation to give mice en...\n",
              "2  On April 6th, 2021, Niu Technologies launched ...  ...  on april 6th 2021 niu technologies launched 4 ...\n",
              "3  Niu Technologies also launched a new series fo...  ...  niu technologies also launched a new series fo...\n",
              "4  Reliance is expected to complete the developme...  ...  reliance is expected to complete the developme...\n",
              "\n",
              "[5 rows x 4 columns]"
            ]
          },
          "metadata": {
            "tags": []
          },
          "execution_count": 21
        }
      ]
    },
    {
      "cell_type": "code",
      "metadata": {
        "id": "V36y5BW3zSET"
      },
      "source": [
        "def stem_sentences(sentence):\n",
        "    tokens = sentence.split()\n",
        "    stemmed_tokens = [ps.stem(token) for token in tokens if not token in stopwords.words('english')]\n",
        "    return ' '.join(stemmed_tokens)\n",
        "\n",
        "d2['stemmed'] = d2['sentence_no_punctuation'].apply(stem_sentences)\n",
        "\n"
      ],
      "execution_count": null,
      "outputs": []
    },
    {
      "cell_type": "code",
      "metadata": {
        "colab": {
          "base_uri": "https://localhost:8080/"
        },
        "id": "vGy43wORn-Vr",
        "outputId": "008ca5e5-533f-4bd7-abe2-6e4e2164f4aa"
      },
      "source": [
        "import nltk\n",
        "nltk.download('wordnet')\n",
        "from nltk.stem import WordNetLemmatizer\n",
        "lemma = WordNetLemmatizer()\n",
        "\n",
        "def lemmatization(sentence):\n",
        "  tokens = sentence.split()\n",
        "  lemma_tokens = [lemma.lemmatize(token) for token in tokens if not token in stopwords.words('english')]\n",
        "  return ' '.join(lemma_tokens)\n",
        "\n",
        "data['lemma'] = data['sentence_no_punctuation'].apply(lemmatization)  "
      ],
      "execution_count": null,
      "outputs": [
        {
          "output_type": "stream",
          "text": [
            "[nltk_data] Downloading package wordnet to /root/nltk_data...\n",
            "[nltk_data]   Package wordnet is already up-to-date!\n"
          ],
          "name": "stdout"
        }
      ]
    },
    {
      "cell_type": "code",
      "metadata": {
        "colab": {
          "base_uri": "https://localhost:8080/",
          "height": 374
        },
        "id": "iNrvScgiaCAv",
        "outputId": "57d950cf-6389-4752-f113-817c04adb6ed"
      },
      "source": [
        "data.head()"
      ],
      "execution_count": null,
      "outputs": [
        {
          "output_type": "execute_result",
          "data": {
            "text/html": [
              "<div>\n",
              "<style scoped>\n",
              "    .dataframe tbody tr th:only-of-type {\n",
              "        vertical-align: middle;\n",
              "    }\n",
              "\n",
              "    .dataframe tbody tr th {\n",
              "        vertical-align: top;\n",
              "    }\n",
              "\n",
              "    .dataframe thead th {\n",
              "        text-align: right;\n",
              "    }\n",
              "</style>\n",
              "<table border=\"1\" class=\"dataframe\">\n",
              "  <thead>\n",
              "    <tr style=\"text-align: right;\">\n",
              "      <th></th>\n",
              "      <th>description</th>\n",
              "      <th>category_class</th>\n",
              "      <th>sentence_lower</th>\n",
              "      <th>sentence_no_punctuation</th>\n",
              "      <th>lemma</th>\n",
              "    </tr>\n",
              "  </thead>\n",
              "  <tbody>\n",
              "    <tr>\n",
              "      <th>0</th>\n",
              "      <td>Research and development services our r&amp;d team...</td>\n",
              "      <td>research and development</td>\n",
              "      <td>research and development services our r&amp;d team...</td>\n",
              "      <td>research and development services our rd team ...</td>\n",
              "      <td>research development service rd team constantl...</td>\n",
              "    </tr>\n",
              "    <tr>\n",
              "      <th>1</th>\n",
              "      <td>Motion capture laboratories are often large sp...</td>\n",
              "      <td>research and development</td>\n",
              "      <td>motion capture laboratories are often large sp...</td>\n",
              "      <td>motion capture laboratories are often large sp...</td>\n",
              "      <td>motion capture laboratory often large space op...</td>\n",
              "    </tr>\n",
              "    <tr>\n",
              "      <th>2</th>\n",
              "      <td>R&amp;d projectsnucaps, within its business plan a...</td>\n",
              "      <td>research and development</td>\n",
              "      <td>r&amp;d projectsnucaps, within its business plan a...</td>\n",
              "      <td>rd projectsnucaps within its business plan and...</td>\n",
              "      <td>rd projectsnucaps within business plan activit...</td>\n",
              "    </tr>\n",
              "    <tr>\n",
              "      <th>3</th>\n",
              "      <td>Past projects include: research to prevent bli...</td>\n",
              "      <td>research and development</td>\n",
              "      <td>past projects include: research to prevent bli...</td>\n",
              "      <td>past projects include research to prevent blin...</td>\n",
              "      <td>past project include research prevent blindnes...</td>\n",
              "    </tr>\n",
              "    <tr>\n",
              "      <th>4</th>\n",
              "      <td>Current projects: study of safety and efficacy...</td>\n",
              "      <td>research and development</td>\n",
              "      <td>current projects: study of safety and efficacy...</td>\n",
              "      <td>current projects study of safety and efficacy ...</td>\n",
              "      <td>current project study safety efficacy advanced...</td>\n",
              "    </tr>\n",
              "  </tbody>\n",
              "</table>\n",
              "</div>"
            ],
            "text/plain": [
              "                                         description  ...                                              lemma\n",
              "0  Research and development services our r&d team...  ...  research development service rd team constantl...\n",
              "1  Motion capture laboratories are often large sp...  ...  motion capture laboratory often large space op...\n",
              "2  R&d projectsnucaps, within its business plan a...  ...  rd projectsnucaps within business plan activit...\n",
              "3  Past projects include: research to prevent bli...  ...  past project include research prevent blindnes...\n",
              "4  Current projects: study of safety and efficacy...  ...  current project study safety efficacy advanced...\n",
              "\n",
              "[5 rows x 5 columns]"
            ]
          },
          "metadata": {
            "tags": []
          },
          "execution_count": 68
        }
      ]
    },
    {
      "cell_type": "code",
      "metadata": {
        "id": "pgdnyyw5DI6C"
      },
      "source": [
        "X = data['lemma']"
      ],
      "execution_count": null,
      "outputs": []
    },
    {
      "cell_type": "code",
      "metadata": {
        "id": "nYeuAM55MECp"
      },
      "source": [
        "d2.to_csv(\"Dat_d.csv\", index=True)"
      ],
      "execution_count": null,
      "outputs": []
    },
    {
      "cell_type": "code",
      "metadata": {
        "colab": {
          "base_uri": "https://localhost:8080/"
        },
        "id": "xYVCCr-dzxWw",
        "outputId": "fab2fc66-d8b0-409a-ac70-24181e599081"
      },
      "source": [
        "d2['stemmed'].dropna(inplace=True)\n",
        "d2['stemmed']"
      ],
      "execution_count": null,
      "outputs": [
        {
          "output_type": "execute_result",
          "data": {
            "text/plain": [
              "0      come protect what valuabl dont settl second be...\n",
              "1      highperform cultur focus custom develop serves...\n",
              "2      exchang provid compani access equiti capit 160...\n",
              "3      search suggest team collabor team member team ...\n",
              "4      eastspr invest part prudenti plc global asset ...\n",
              "                             ...                        \n",
              "820    fenetr partner lead consult firm market entri ...\n",
              "821    intern provid research consult programm manag ...\n",
              "822    btc eur classic view btc eur bch eur eth eur b...\n",
              "823    splashbi help organ make best busi decis provi...\n",
              "824    evora global profession real estat sustain con...\n",
              "Name: stemmed, Length: 633, dtype: object"
            ]
          },
          "metadata": {
            "tags": []
          },
          "execution_count": 39
        }
      ]
    },
    {
      "cell_type": "code",
      "metadata": {
        "colab": {
          "base_uri": "https://localhost:8080/",
          "height": 289
        },
        "id": "rzeG4IBTaBra",
        "outputId": "b10c6731-dfd9-4bea-82b2-0a4701044ef1"
      },
      "source": [
        "\n",
        "data = data.sample(frac=1).reset_index(drop=True)\n",
        "#d2.tail()\n",
        "data.head()"
      ],
      "execution_count": 23,
      "outputs": [
        {
          "output_type": "execute_result",
          "data": {
            "text/html": [
              "<div>\n",
              "<style scoped>\n",
              "    .dataframe tbody tr th:only-of-type {\n",
              "        vertical-align: middle;\n",
              "    }\n",
              "\n",
              "    .dataframe tbody tr th {\n",
              "        vertical-align: top;\n",
              "    }\n",
              "\n",
              "    .dataframe thead th {\n",
              "        text-align: right;\n",
              "    }\n",
              "</style>\n",
              "<table border=\"1\" class=\"dataframe\">\n",
              "  <thead>\n",
              "    <tr style=\"text-align: right;\">\n",
              "      <th></th>\n",
              "      <th>Sentences</th>\n",
              "      <th>Category class</th>\n",
              "      <th>sentence_lower</th>\n",
              "      <th>sentence_no_punctuation</th>\n",
              "    </tr>\n",
              "  </thead>\n",
              "  <tbody>\n",
              "    <tr>\n",
              "      <th>0</th>\n",
              "      <td>Like other emerging countries before it, china...</td>\n",
              "      <td>Junk</td>\n",
              "      <td>like other emerging countries before it, china...</td>\n",
              "      <td>like other emerging countries before it china ...</td>\n",
              "    </tr>\n",
              "    <tr>\n",
              "      <th>1</th>\n",
              "      <td>Jsw is setting the benchmark in drilling autom...</td>\n",
              "      <td>Technologies</td>\n",
              "      <td>jsw is setting the benchmark in drilling autom...</td>\n",
              "      <td>jsw is setting the benchmark in drilling autom...</td>\n",
              "    </tr>\n",
              "    <tr>\n",
              "      <th>2</th>\n",
              "      <td>We employ more than 300 scientists and enginee...</td>\n",
              "      <td>Research and development</td>\n",
              "      <td>we employ more than 300 scientists and enginee...</td>\n",
              "      <td>we employ more than 300 scientists and enginee...</td>\n",
              "    </tr>\n",
              "    <tr>\n",
              "      <th>3</th>\n",
              "      <td>Motion capture laboratories are often large sp...</td>\n",
              "      <td>Research and development</td>\n",
              "      <td>motion capture laboratories are often large sp...</td>\n",
              "      <td>motion capture laboratories are often large sp...</td>\n",
              "    </tr>\n",
              "    <tr>\n",
              "      <th>4</th>\n",
              "      <td>Webgl (web graphics library) is a javascript-b...</td>\n",
              "      <td>Technologies</td>\n",
              "      <td>webgl (web graphics library) is a javascript-b...</td>\n",
              "      <td>webgl web graphics library is a javascriptbase...</td>\n",
              "    </tr>\n",
              "  </tbody>\n",
              "</table>\n",
              "</div>"
            ],
            "text/plain": [
              "                                           Sentences  ...                            sentence_no_punctuation\n",
              "0  Like other emerging countries before it, china...  ...  like other emerging countries before it china ...\n",
              "1  Jsw is setting the benchmark in drilling autom...  ...  jsw is setting the benchmark in drilling autom...\n",
              "2  We employ more than 300 scientists and enginee...  ...  we employ more than 300 scientists and enginee...\n",
              "3  Motion capture laboratories are often large sp...  ...  motion capture laboratories are often large sp...\n",
              "4  Webgl (web graphics library) is a javascript-b...  ...  webgl web graphics library is a javascriptbase...\n",
              "\n",
              "[5 rows x 4 columns]"
            ]
          },
          "metadata": {
            "tags": []
          },
          "execution_count": 23
        }
      ]
    },
    {
      "cell_type": "code",
      "metadata": {
        "colab": {
          "base_uri": "https://localhost:8080/"
        },
        "id": "ckrMbZELHVZr",
        "outputId": "d25557b7-d586-488f-9bd6-e29e87830955"
      },
      "source": [
        "import nltk\n",
        "nltk.download('wordnet')\n",
        "from nltk.stem import WordNetLemmatizer\n",
        "lemma = WordNetLemmatizer()\n",
        "\n",
        "# Initialize empty array \n",
        "# to append clean text  \n",
        "corpus = []\n",
        "#for i in range(0, len(data)):\n",
        "for i in data['sentence_no_punctuation'].values:\n",
        "    #review = re.sub('[^a-zA-Z]',' ',dff['sentence_no_punctuation'][i])# getting alphabets only and eliminating others\n",
        "    #review = review.lower()# convert into lower letters\n",
        "    review = i.split()\n",
        "    #review = d2['sentence_no_punctuation'][i].split()# splitting sentences\n",
        "    review = [lemma.lemmatize(token) for token in review if not token in stopwords.words('english')]\n",
        "    review = ' '.join(review)\n",
        "    corpus.append(review)\n",
        "\n",
        "corpus    "
      ],
      "execution_count": 24,
      "outputs": [
        {
          "output_type": "stream",
          "text": [
            "[nltk_data] Downloading package wordnet to /root/nltk_data...\n",
            "[nltk_data]   Package wordnet is already up-to-date!\n"
          ],
          "name": "stdout"
        },
        {
          "output_type": "execute_result",
          "data": {
            "text/plain": [
              "['like emerging country china changing way unlike developed market rapid urbanization growing middle class two trend driving formation innovative company cater trend china population 14bn gained purchasing power chinese company ever focusing domestic consumption service come expense industry connected china past economic strength farming mining trend suggest expanding opportunity china fixed income equity market',\n",
              " 'jsw setting benchmark drilling automation customdeveloped integrated business system deliver quality realtime accurate drill production data company patenting several new technology enhance capability drill automation application live data',\n",
              " 'employ 300 scientist engineer around world dedicated research development rd lubricant fuel vehicle shipping aircraft',\n",
              " 'motion capture laboratory often large space optimally designed research teaching address challenge group university nebraska omaha goal',\n",
              " 'webgl web graphic library javascriptbased api rendering 3d graphic within compatible web browser without use plugins webgl integrated web standard browser allowing graphic processing unit gpu accelerated usage physic image processing webgl program consist control code written javascript shader code written opengl shading language glsl language similar c programming language executed computergraphics processing unit gpu',\n",
              " 'area research include machine learning data mining text mining natural language processing application various domain including fraud detection hr management',\n",
              " '3 year ibm focused electrochemical 3d 2d device architecture electrodeelectrolyte synthesis insitu control interfacial chemistry parallel application energy storage neuromorphic device multiple scale current research interest involve scalable design fabrication combined silicon waferencapsulated silicon electrodeactive energy storage device well development novel electrochemicalram ecram memresistor device john utilization ibms silicon technology knowhow combined waferlevel integration 3d composite active material enable remote power source electrochemicalbased memory device millimeterscale beyond',\n",
              " 'fasten seatbelt arlington launch first ondemand public selfdriving shuttle service',\n",
              " 'tv motor launch augmented reality app arive',\n",
              " 'mercer win investment consultant year award taiwan insight mandate 2020 professional investment award',\n",
              " 'touching global payment innovation side thing continuing see strong innovation rollout realtime payment looking recent report think fis fidelity information service put noted 54 country activated realtime payment system thats huge number significant jump think 30 40 jump even past couple year',\n",
              " 'unilever rd work handinhand marketing creating fantastic innovation science technology used unlock benefit product reach 2 million consumer day truly make difference',\n",
              " 'geliose mobility launched hope electric scooter entity indian institute technology iit delhi incubated startup lot startup fusing business plan based manufacturing low cost lowspeed electric twowheelers fleet use geliose mobility brought back pedalassist reminiscent day yore one could pedal certain part route either save petrol cost one tank ran dry',\n",
              " 'part open innovation tc also supported vale establishing partnership two hospital hospital israelita albert einstein rede mater dei de sa de brazil',\n",
              " 'extensive knowledge year insuring life science business traveler stayed instep need growing industry life science industryspecific coverage service span product development lifecycle research clinical trial product production distribution well track record working multitude customer across life science industry spectrum',\n",
              " 'innovate across eight key global rd centre six country u uk netherlands italy india china ourglobal centre excellence powered world class technology ecosystem food innovation centre wageningen netherlandsour research aim bring together best thinking idea wherever exist including university strategic company innovate boldly people planet strong record breakthrough innovation disruptive technology meet consumer need better available alternative make big impact',\n",
              " 'recently shanghai refire technology co ltd hereinafter referred refire bestpath shanghai lot technology ltd hereinafter referred bestpath lot sinopec hydrogen energy shanghai co ltd hereinafter referred sinopec hydrogen energy signed strategic cooperation agreement cloud signing develop hydrogen energy application scenario together first centered shanghai gradually expanding yangtze river delta',\n",
              " 'immunogen engineered linkers designed stable adc traveling blood stream cancer cell optimize payload release antitumor activity company established rich portfolio intracellularly cleavable noncleavable linkers facilitate assessment alternative linkerpayload pairing optimizing adc design immunogen linkers compatible maytansinoid ign platform',\n",
              " 'innovation creates great new product consumer love unilever research development rd team work breakthrough create superior product experience help make sustainable living commonplacelearn commitment worldclass innovation',\n",
              " 'colworth forefront industrial research 60 year provided much early innovation support unilevers expanding interest new business agribusiness frozen food 1960s 70 responsible breakthrough technology including home pregnancy test kit pyramid tea bag range healthier great tasting exciting ice cream well recently heartage tool support lifestyle behaviour changeunilever occupied colworth science park since 1947 acquired 1000 acre estate',\n",
              " 'rd projectsnucaps within business plan activity proposes continuous commitment new rd project research development project technology transfer marketin collaboration prestigious technology center navarra food pharmaceutical industry nucaps continues researching order improve solution offered technology effective safe oral supply bioactives probioticsthis project count support government navarra european union',\n",
              " 'hightech company operating global business environment mean unprecedented opportunity well new evolving risk',\n",
              " 'learn risk byod create bring device policy business along byod employee training tip',\n",
              " 'gemalto brings trust increasingly connected world heart modern life payment enterprise security internet thing delivers easy use technology service business government authenticating identity protecting data rest motion stay safe',\n",
              " 'ev battery tech partner daymak launch electric vehicle powered ionix pro battery',\n",
              " 'today sanofi 11 drug clinical development approximately 15 additional new molecular entity oncology firstinclass bestinclass potential poised enter clinical development next two three year committed translating scientific discovery potential new treatment addressing critical gap care across variety cancer',\n",
              " 'reno nv december 18 2019 aerion supersonic leader supersonic technology today announced selected safran international hightechnology group operating aircraft propulsion equipment space defense market major partner as2 supersonic business jet joining force company bring century aerospace experience support preliminary design firstever modern supersonic business jet',\n",
              " 'evonik announced launch new peekbased filament suitable extrusionbased 3d printing technology',\n",
              " 'samsung gold digital marketing consumer good category customer service campaign samsungservice film highestviewed advertising video consumer electronics smartphones category worldwide highestviewed advertising video youtube across category india 101 million view adgully digixx award designed celebrate excellence digital marketing advertising recognizing digital initiative innovative creative effective',\n",
              " 'developing novel clean technology renewable energy great honour receive prestigious award ambassador reflecting many year collaboration science technology colleague china many pioneering work started decade ago reaching fruition commercialisation great example team effort uk chinese scientist martin atkinspictured professor martin atkins receiving medal ambassador xiaoming liu',\n",
              " 'total broad energy company produce market fuel natural gas electricity 100000 employee committed better energy affordable reliable cleaner accessible many people possible active 130 country ambition become responsible energy major',\n",
              " 'growing worldwide demand clean reliable costcompetitive energy source drive demand imsr power plant terrestrial energy seeking deploy many hundred imsr reactor next two decade furthermore government policy support emissionfree power generation industrial heat production sharply accelerate deployment scenario technology meet policy market need scaled rapidly nuclear energy demonstrated 1970s',\n",
              " 'infosys inducted prestigious dow jones sustainability index djsi announced september 7 2017 part djsi world djsi emerging market index recognition testimony infosys corporate sustainability leadership service internet software service industr',\n",
              " 'case gold contract feedback led development ice minigold future prior innovation ice minigold contract neither highly efficient effective deliver kilo bar gold contract',\n",
              " 'vaccinessanofi pasteur forefront vaccine research development creating immunological solution prevent cure disease every stage life continuously harness new scientific knowledge technology design safe effective vaccine complex disease innovation key improving people health around world also company success devotes 1 million research development every day sanofi pasteur work every day turn scientific breakthrough personal health insight protective vaccine people around worldvaccines tomorrow',\n",
              " 'awarded samsung smart class samsung technical school initiative samsung smart class initiative awarded excellence leadership csr category support improving quality education samsung technical school initiative awarded golden globe tiger award excellence sustainability leadership category best project collaboration',\n",
              " 'one focus area research incorporating intelligence automation combining domain knowledge data science activity',\n",
              " 'shipping shell working closely partner delivery world first liquefied hydrogen carrier',\n",
              " 'address gap tc created research scholar program improve research talent base country given success delighted increase number student funded another 200 said n chandrasekaran ceo md tata consultancy service',\n",
              " 'toward end developed tc peacock process equipment analytics optimization control see figure 2 framework engineering analytics',\n",
              " 'apart popular internet thing platform also launched research innovation program intelligent autonomous infrastructure personalized medicine smart machine',\n",
              " 'touching global payment innovation side thing continuing see strong innovation rollout realtime payment looking recent report think fis fidelity information service put noted 54 country activated realtime payment system thats huge number significant jump think 30 40 jump even past couple year',\n",
              " 'levil technology virtual foundry sapphire3d partnering introduce allinclusive solution setting complete metal 3d printing lab combining respective expertise three company created turnkey solution additive subtractive manufacturing',\n",
              " 'thirdeye launch healthcare government field service dedicated armr software digital ecosystem',\n",
              " 'unitedhealth group committed revitalizing primary care child lowincome family people dedicated future every person access highquality affordable health care meet unique health care need financial mean',\n",
              " '3d printing service provider ricoh 3d partnered composite 3d printer manufacturer impossible object launch new powderbased 3d composite material range',\n",
              " 'instance profit sustainable business practice present conflict reason mutually exclusive case company need consult shareholder level tradeoff willing take',\n",
              " 'first kias bespoke electric car see world premiere coming week new model previewed 2019 bold imagine concept called ev6 line brand new simple nomenclature strategy',\n",
              " 'thats ademe total committed providing industry france around world array highperformance costeffective technology designed make industrial process energy efficientin particular program involves technology small cogeneration plant heat exchanger boiler drying fluid separation lowtemperature heat recovery refrigeration system compressed air ventilation pumping lighting steam heat transfer fluid',\n",
              " 'well could use data analytics combine natural language processing contract past performance supplier demand forecasting deploy dynamic recommended pricing model procurement specialist directly affecting bottom line learning could also lead redefining right contract ensure winwin',\n",
              " 'forgefx develops komatsuline prominer training simulator provide new veteran operator condition learn practice skill operating multiple piece komatsu mining equipment simulator remove risk costly mistake keep realworld machinery production training part suite simulator forgefx developed komatsu custom training simulator train operator aspect 4100xpc electric rope shovel',\n",
              " 'partnership cole polytechnique develop technology related lowcarbon energy total fund chair cole polytechnique called meeting technological challenge responsible energy part trendx initiative chair assist research capturing storing solar power well development smart building energy management integrate work university course',\n",
              " 'convoy perhaps uber freightmost serious competition space may hold advantage time due partnership existing trucking company convoy ceo dan lewis belief differentiates two company uber essentially go build capacity go get people drive car set whole system really exist whereas convoy leveraged existing trucking company',\n",
              " 'adnox developed patented catalytic converterbased system us normal diesel oil convert dangerous nitrogen compound nox formed diesel engine water nitrogen traditional catalytic convertor system us urea conversion urea better known adblue car industry',\n",
              " 'vigilant aerospace demonstrates flighthorizon 2 autonomous 18mile flight oklahoma state university',\n",
              " 'galaxy gear s2 awarded best smart watch year mobility excellence award 2017 best designed wrist gadget offering innovative comprehensive solution around health fitness connectivity style award organized mobility india leading mobile technology magazine felicitate mobile brand outstanding performance different segment mobility industry',\n",
              " 'microsoft azure machine learning tool allows developer build test deploy predictive analytics solution data machine learning data science technique allows computer use existing data forecast future behavior outcome trend using machine learning computer learn without explicitly programmed forecast prediction machine learning make apps device smarter azure provides software service saas platform service infrastructure service support many different programming language tool framework including microsoftspecific thirdparty software system',\n",
              " 'large emerging technology showcase like telstra vantage interactive workshop customer insight centre stateoftheart demonstration 5g innovation centre many enterprising avenue collaborate help turn ambition reality',\n",
              " 'exelon proud recognized cdp commitment climate change water security b decade exelon participated cdp survey measure disclosure awareness mgt environmental risk best practice environmental leadership',\n",
              " 'boeing research technology brazil company rd facility south american nation studied radiation induced ionospheric disturbance anomaly nation shown red map forthcoming improvement aircraft navigation system correct anomaly',\n",
              " 'already supported many company individually whether small medium large company market leader startup take advantage knowhow infrastructure individual requirement',\n",
              " 'thales netherlands specializes design production advanced sensor command control system defense security application particular naval domain electronic combat system installed naval vessel contribute significant part total power consumption thales investing significant effort number measure reduce impact environment derived production operation system',\n",
              " 'new car technology changing way drive important understand new system stay safer road aarp smart drivertek workshop free 90minute workshop developed jointly aarp driver safety hartford workshop learn new car technology intelligent feature might already current car look buying leasing renting new car',\n",
              " 'cepa foundation award celebrates industry innovation help make pipeline safer reliable globally technical team walked away two prestigious cepa foundation award',\n",
              " 'honored recognized one 75 company included 20th annual list america top corporation woman business enterprise wbes woman business enterprise national council wbenc',\n",
              " 'therefore tc plan develop computational model two important complex organ human anatomy brain heart',\n",
              " 'many country aim primary energy supply netzero emission 2050 government ngo academic expert forecast possible without nuclear energy agree nuclear energy must play critical role energy future however conventional nuclear technology insufficient meet promise advanced reactor technology used imsr potential',\n",
              " 'onyx health launch vr learning platform pharma',\n",
              " 'printed product fails work intended company held liable another company economic loss due error omission negligent act addition risk lawsuit product failure interrupt customer business continuity damage printer maker reputation',\n",
              " 'nace international frank newman speller award extended 2006 leading researcher dr ueda important recognition smi effort oil gas industry',\n",
              " 'luxury passenger vehicle manufacturer jaguar land rover tuesday announced launch first battery electric vehicle jaguar ipace indian market price rs1059 lakh',\n",
              " 'motor driver help easily create compact application smoother motion better protection leverage integrated solution advanced onchip control algorithm protection diagnostic safety feature maximize motor performance',\n",
              " 'forgefx simulation proud training simulator development vendor komatsu mining corporation japanese multinational corporation primarily manufacture construction mining forestry military equipment suite equipment operator training simulator developed forgefx komatsu include underground surface loader rope shovel blasthole drill',\n",
              " 'truly innovative reactor technology imsr technology play critical role achieve resilient clean sustainable energy supply',\n",
              " 'infosys ranked among asia admired brand 2014 world consulting research corporation wcrc leading brand rating ranking company infosys feature among top 50 list 100 brand asia noted loyalty innovation product category brand aesthetic design among global consumer',\n",
              " 'application developer moving application closer consumer competitor application provides advantage responsive user experience critical augmented reality realtime data analytics associated automation edge change everything board plane doctor perform surgery tremendous opportunity next fiveplus year yield next generation disruptive innovator',\n",
              " '2018 announced elysis pioneering partnership alcoa supported apple government canada quebec joint venture develop revolutionary process eliminates direct ghg emission aluminium smelting process replacing pure oxygen technology developed licensed use existing new smelter expected ready commercial sale 2024',\n",
              " 'taste aroma important component alcoholic beverage perform research development component contribute forming taste aroma beverage try increase pleasant aroma decrease unpleasant aroma taste',\n",
              " 'aim develop connectome model networkbased brain simulation platform establishes structuralfunctional relationship resting active brain',\n",
              " 'total pledged process 300000 metric ton palm oil per year representing le half volume raw material used site commitment made possible thanks hard work carried develop promote use product circular economy particularly recycled animal fat could amount least 100000 metric ton per year',\n",
              " 'sih investment prepared cooperation prestigious external investment consultant due diligence consider investment highly innovative technology company ga drilling contribution consistent transformation slovakia innovative sustainable economy focused product service higher added value summs ivan lesay general director sihabout slovak investment holding sih joint stock company 100 ownership slovak republic',\n",
              " 'engine optimisation geo technology bespoke lubricant developed shell together reduced engine friction 30',\n",
              " 'evidation launched research app people opt virtual clinical trial plan offer digital health program company recently raised 153 million new funding',\n",
              " 'cmr surgical cmr today announced launch versius surgical robotic system argenteuil hospital leading public health centre based near paris france',\n",
              " 'immunogen incimmunogen inc develops targeted anticancer therapeutic company adc technology us tumortargeting antibody deliver immunogen cellkilling agent specifically cancer cell company also developed antibody anticancer activity first product immunogen adc technology roches kadcyla immunogen three wholly owned product candidate clinical testing additional compound clinical testing company partnership amgen bayer healthcare biotest novartis sanofi information immunogen found wwwimmunogencom',\n",
              " 'climate change worldwide problem need addressing global level also individual country share responsibility paris agreement great step forward even though u government withdrew program 2017 substitute government action large multinational company could play significant role driving matter forward raising greater awareness',\n",
              " 'vigilant aerospace sign new nasa agreement adding military use detectandavoid system drone',\n",
              " 'uber partnered telstra macquarie create infrastructure telecommunication necessary expand program theyre also working victorian state government spectre group offer trip seven westfield shopping centre melbourne airport flight cbd expected take 10 minute huge reduction 25to60 minute car journey',\n",
              " 'global innovation side may familiar upi india huge launch 365day 24 7 instant payment capability india done fantastic job rolling driving adoption faster payment around uk europe sepa instant credit transfer hitting large part marketplace',\n",
              " 'pilot project ibdata designed intersect healthcare digital technology allow patient ibd track symptom lifestyle factor wearable technology project approximately 100 people ibd using special wearable device track symptom lifestyle factor data collected translated report intended help enhance patientphysician interaction goal improved care',\n",
              " 'traveler dedicated focus insuring technology company one largest highly trained team bringing knowledge technology risk complexity bear underwriter know local market condition understand technology industry unique community state live specialize insuring telecommunication service company insuring information technology company insuring medical technology company insuring electronics manufacturing company contact managing director closest learn',\n",
              " 'terrestrial energy clear leader among advanced reactor developer imsr design many distinct advantage',\n",
              " 'keep simple intuitive cmoo maintains basic functionality switch upgrading device latest iot standard making sure always cmee technology guarantee lowest cost easiest installation smart home diy user',\n",
              " 'used technology demonstrator relevant engineering research vehicle establishing basic feature utility platform',\n",
              " 'hrd canada recognized jacqui parchment gold winner kpmg canada award hr champion ceo',\n",
              " 'goabased navy veteran run ev startup launch ebikes run 150 km one charge',\n",
              " 'property damage risk intellectual property risk learn four key risk category 3d printing technology company understand',\n",
              " 'investor long considered asian economy one dominated export developed world changing today 60 asia export intraasia seeing infrastructure arm race support crossborder development trade within region creating growing universe investment opportunity',\n",
              " 'mahindra mahindra mm japanese subsidiary mitsubishi mahindra agricultural machinery company japan kubota co announced collaboration japanese domestic operation',\n",
              " 'research focused creating accurate profile candidate multiple public source',\n",
              " 'immunology inflammationin recent year sanofi led science immunology introducing new treatment option chronic difficulttotreat inflammatory disease atopic dermatitis eczema asthma rheumatoid arthritis sanofi applying advanced research technology focused inflammatory condition autoimmune disease highest unmet need one key approach develop multispecific antibody therapy combine multiple mechanism action single molecule target two molecular pathway simultaneouslyread',\n",
              " 'early february coronavirus outbreak china negatively affected equity market seen yield fall chinese government bond much similar outbreak past bird flu epidemic example equity price fell first outbreak peak infection quickly regained lost ground three month peak market actually significantly higher outbreak first occurred',\n",
              " 'year partnership biomcn started producing biomtbe methyl tertbutyl ether site geleen netherlands',\n",
              " 'data communication changed almost every aspect life past year development accelerate massively next year goal want become one driver innovation learn',\n",
              " 'hitachi hightech analytical science corporation hitachi hightech corporation wholly owned subsidiary engaged manufacture sale analysis measuring instrument launched nexta dsc new range differential scanning calorimeter advanced material development product quality control',\n",
              " '3d terrain mapping accurate 3d model essential tool lifecycle exploration development earthwork project used plan largescale exploration survey rightofway routing model flooding hydrology large infrastructure site selection many terrain critical activity',\n",
              " 'traveler insurer choice vast range technology company understand mean business technology sector always one step ahead trend always innovating',\n",
              " 'large technology company always trying new thing usually come new risk see help manage risk keep innovating',\n",
              " 'first step incubation business launch business comprehending understanding cause society customer f problem focusing whether new solution maximize customer value addition determine whether business scaled exponentially establishing business',\n",
              " 'catalyst additive developed glt allow energyefficient lowwaste sustainable industrial process produce ultrapure vegetable oil',\n",
              " 'arlington va lausanne switzerlandbusiness wirecaes leading provider rf technology related mission critical electronic solution swissto12 leading provider 3d printed technology rf application aerospace defense industry announced today strategic alliance enable caes bring additive manufacturing 3d printing technology u customer',\n",
              " 'staterun hindustan petroleum corporation ltd hpcl launched first kind ev electric vehicle charger collaboration magenta ev system startup development program',\n",
              " '6000 scientist engineer chef technician work unilevers rd centre around globe inventing new product improving existing product delight consumer everywhere',\n",
              " 'believe future health care look bright start company powering digital transformation health care sector sector notoriously slow adapting new technology covid19 may prove watershed moment contact u learn invest digital transformation',\n",
              " 'navigation benefit wmiitors based proprietary technology series unique property clearly differentiates water meter',\n",
              " 'bulb launched new electric vehicle ev plan offer 100 renewable electricity cheaper charging night key feature',\n",
              " 'large technology company always trying new thing usually come new risk see help manage risk keep innovating',\n",
              " 'ti shaping technology improve quality accessibility digital product revolutionizing health fitness industry',\n",
              " 'current partnership darian estate green solar solution working conjunction darian estate private log cabin community located rural central florida',\n",
              " 'today gonet global open network highspeed payment network us blockchain launched first service connect payment service provider',\n",
              " 'infosys recognized among top six employer australia 2019 randstad global hr consultancy based attractive quality workplace brand recognition',\n",
              " 'growth wearable technology across type industry company never considered technology business face new risk need prepared aware threat following strategy help protect help business focus growth opportunity connected technology make possible',\n",
              " 'new approach artistic creation mean notion authorship shifting add vickers new art form diverse range skill required develop hugely ambitious technical project mean moving individual artist team formation akin hollywood production video game production belief latter crucially important software used develop video game engine becoming interface technology area innovation across industry whether blockchain ai many artist using platform',\n",
              " 'mercer diageo named best vendor partnership 2019 fem emea emmas',\n",
              " 'system integrated hydraulic supply system bring diverse engineering service customer full effect',\n",
              " 'traveler understands life science industry important protect year experience working medical technology digital health company combined increased focus pharmaceutical sector give u unique outlook understand risk facing life science company today prepared whats next exciting industry offering industryspecific coverage product insight',\n",
              " 'help analyze current risk anticipate may face future insurance solution help manage',\n",
              " 'operating region south america north east africa middle east asiapacific region company actively develops local partnership aimed mutually beneficial implementation development project',\n",
              " 'electric car need charging aptera ev claim 1600km total range launch 2021',\n",
              " 'extraordinary opportunity vr contribute skilled industry helping bring new trainee speed quickly low risk said amir rubin ceo sixense vrsim leading way industrial vr training application excited partner make trainee experience realistic possible',\n",
              " 'part initiative reduce environmental burden worked reduce weight plastic bottle cardboard box used packaging achieved lightest level packaging japan',\n",
              " 'new medical device side effect risk traveler open emerging unusual complex technology risk offer insurance solution tailored medical technology industry',\n",
              " 'scottish graphene firm launch flagship product new face',\n",
              " 'applied research center inhouse project tec researcher propose theme obtain budget carry research teruyoshi succeeded inducing differentiation neural crest cell based research finding cira dr makoto ikeya currently part neural crest cell project tcira working development ipscell derived neural crest cell order develop new form cell therapy treatment',\n",
              " 'certain economic loss caused failure device work intended manufacturer may face technology error omission liability addition strategy mentioned bodily injury risk may also help category company evaluate following customer contract provision manage exposure',\n",
              " '2007 study led massachusetts institute technology estimated suitable investment improvement existing technology egs could supply 10 percent countryelectricity need within 50 year price competitive fossilfuel fired generation report future geothermal energy impact enhanced geothermal system egs united state 21st century may found online httpwww1eereenergygovgeothermalfuturegeothermalhtml',\n",
              " 'improve mobility reduce cost industry looking innovative digital service optimise performance increase energy efficiency boost attractiveness rail',\n",
              " 'oncologydespite incredible progress scientist drug developer last 20 year cancer remains second leading cause death worldwide sanofi combining extensive heritage small molecule research new biologic capability move cancer therapy forward achieve company leveraging multiple technology platform including monoclonal antibody messenger rna mrna antibody drug conjugate antibody used unique delivery system deliver drug needed combat cancer bodybreaking new ground oncology',\n",
              " 'ifids true browserbased solution allowing user access system web browser application installed webserver network provisioned turnkey cloudhosted service nothing install individual user computer individual access system enduser maintenance consideration virtually removed',\n",
              " 'development p square model involved immense collaborative industry review validation process culminated 2019 endorsement pipeline research council international industry expert current industry model published 1989 incorporated reference federal regulation worldwide',\n",
              " 'amazfit trex pro 18day battery life auto workout recognition feature launched india',\n",
              " 'clearly future virtual reality education exciting full potential dawn powerful technology designing vr full challenge ready overcome',\n",
              " 'biotangents pioneering new synthetic biology approach diagnostic design process innovation optimisation automation technology generated portfolio technology broad application molecular diagnostic design',\n",
              " 'truly innovative reactor technology like imsr play critical role achieving clean sustainable prosperous world',\n",
              " 'partnershipsto bold vision generating multiple candidate every year sanofi leveraging rapidly growing set technology strengthen rd pipeline collaborating innovative partner break new ground oncology',\n",
              " 'june 7 2018 prnewswire sixense enterprise inc global leader motion tracking vrar software vrsim inc experienced developer immersive training simulation announcing successful adoption sixensetechnology simspraytm immersive virtual reality spray paint coating training simulation using sixensefullpresence platform vrsim able get precise motiontracking data needed simulate evaluate improve skill training activity',\n",
              " 'cyber risk omnipresent technology company 5 risk tech company consider along traveler cyberfirst insurance help',\n",
              " 'traveler best world startup spirit financial strength 165year company invest people technology organization increasing focus enhancing customer experience design thinking driving agility speed market building engineering mindset deep expertise',\n",
              " 'wipro positioned leader focus advanced analytics insight service accelerate client transformation journey intelligent enterprise wipro holmes called strength enabling self service intelligent diagnostics enterprise',\n",
              " 'iot system need accurately sense condition complex environment often space powerconstrained setting ti sensor innovation enable faster smaller precise sensing iot',\n",
              " 'delivering promise innovate bestinclass technology m2m iot marketplace gemalto introduced land grid array lga surface mounting technology 2010 since become industry gold standard',\n",
              " 'number connected device increase number iot security threat since 5g network software defined provide unique feature network slicing virtualization iot cloud interworking new security approach required many element built device ecosystem architecture',\n",
              " 'id like say consumer advancement norm payer side there definitely push bring business understand pain point need collaborate help build solution',\n",
              " 'growing worldwide demand clean reliable costcompetitive energy source drive demand imsr power plant terrestrial energy seeking deploy hundred imsr reactor next two decade furthermore government policy support emissionfree power generation industrial heat production sharply accelerate deployment scenario technology meet policy market need day scaled rapidly nuclear energy demonstrated 1970s',\n",
              " 'etron audis first fully electric suv set launch indian year despite ev get design cue similar member audi family',\n",
              " 'traveler offer expertise people resource help understand mitigate risk business evolves traveler help stay ahead new risk provide peace mind focus whats important',\n",
              " 'forgefx training simulation team expert tool required produce highquality enterprise grade training simulation use offtheshelf middleware development tool technology produce simulationbased training product leveraging industrystandard software development tool popular within game simulation development community able offer client strategic advantage come cost production ease simulation deployment',\n",
              " 'product assessment relies scientific literature chemical analysis biological test based cell culture vitro test resource area continues aimed developing nonanimal based vitro test within research centre external research organisation recognised alternative animal testing involving laboratory rodent may occasionally done meet legal regulatory requirement public health expectation particularly support new potentially reducedrisk product',\n",
              " 'eldercare platform designed fulfill three objective ubiquitous analytics energyfriendly continuous monitoring algorithm development stability fall propensity analysis',\n",
              " 'tc win prestigious oracle excellence award specialized partner year award north america asiapacific engineered system solution',\n",
              " 'infosys recognized 2020 top employer australia singapore among top three employer japan top employer institute',\n",
              " 'addition vodafones iot testing development capability open lab germany enables rapid development certification testing device application internet thing',\n",
              " 'site home global innovation development centre hair laundry scientist developing next generation oral care deodorant household care product also large microbiology facility global fragrance centre unique olfactive expertise pilot plant allows u manufacture prototype shampoo fabric conditioner toothpaste deodorant laundry liquid world class scientific strength expertise substrate material formulation processing product pioneering high throughput experimentation',\n",
              " 'rapido partner zypp launch electric bike taxi service rapido ev',\n",
              " 'research development service rd team constantly developing refining product range ensure remain forefront innovation sport turf industry',\n",
              " 'since joining company noriko participated research creating pancreatic beta cell ip cell pancreatic beta cell therapy project 2 continued work core researcher pancreatic beta cell succeeded producing ip cellderived isletlike cell ipsc aim enable clinical application combination medical devices2 research cell therapy type 1 diabetes',\n",
              " 'know life science take u wherever traveler support next big innovation',\n",
              " 'active collaboration pharmaceutical company competent authority foster development good practice alternative approach across biomedical research example reported efpia brochure putting animal welfare principle 3rs action',\n",
              " 'bird electric mobility subsidiary bird group planning launch es1 electric scooter country official launch detail yet revealed escooter reported see release mid 2021',\n",
              " 'skoda aim launch new ev enyaq ceo say',\n",
              " 'water scarce resource conserving wherever possible constant process research development new innovative solution like iot using 35 million square kilometre nbiot network coverage make intelligent sensing possible benefit individual customer water utility like detecting pressure drop blockage leak water infrastructure detailed usage consumption information',\n",
              " 'december 2014fisker karma solar car roof modulebetween 2010 2012 already team member a2solar developed produced largest spherically curved back 120 watt powerful solar car roof module kind american sport car fisker karma one worldwide advanced vehicles30',\n",
              " 'anycubic leading 3d printer brand preparing official launch april wash cure plus largersized 3d printing postprocessing resin washing curing machine bring exciting innovative feature function 3d printer user',\n",
              " 'currently telstra leading australian marketing 5g adoption expect 200 5genabled mobile base station deployed end 2018 supported ambitious plan roll new technology across major metro area regional centre highdemand area 2019',\n",
              " 'mercer win asian asset consultant year asia asset management 2020 best best award',\n",
              " 'leadership development intern program give firsthand opportunity explore variety discipline build support network also expanded university relationship including scholarship give diverse student opportunity adopt new technology skill strategic partnership girl code grace hopper program help u inspire woman technology',\n",
              " 'immunogen cellkilling payload agent developed specifically delivery cancer cell using targeting vehicle potent traditional chemotherapy agent attached targeting vehicle via immunogen engineered linkers company portfolio proprietary payload agent includes tubulinacting maytansinoids used ten adcs clinic today including marketed product kadcyla immunogen created dnaacting ign family payload agent expand type cancer potentially addressable effective adc therapy cancer insensitive tubulinacting agent lessrobust target expression',\n",
              " 'global team researcher scientist together partner harness cuttingedge science push boundary possible order bring transformative lifechanging therapy patient worldwide',\n",
              " 'present key finding research development international conference meeting encourage discussion build scientific consensuswhere seeking reach scientific consensus publish science conduct',\n",
              " 'freddie mac imagin pilot feature enhanced form mortgage insurance mi designed attract additional source private capital support low payment lending enabling better management taxpayer exposure mortgage counterparty risk',\n",
              " 'find truposture skip content technology adela health develops innovative wearable health sport product consumer market',\n",
              " 'one main reason behind obvious customer satisfaction nippon steel research development capability supported industry leading professional researcher state art testing facility nippon steel corporate rd laboratory cover steel making process product application well fundamental research nippon steel winning lot prestigious technical prize japan past 20 year including one directly related pipe tube technology',\n",
              " 'early 2016 terrestrial energy commenced canadian nuclear safety commissionvendor design review process successfully completed phase 1 process november 2017 industry first advanced nuclear power plant october 2018 terrestrial energy commenced phase 2 expects complete cnscvendor design review process 2021',\n",
              " 'tc peacock framework successfully applied pelletization sintering iron ore prediction silicon content hot metal blast furnace production sponge iron rotary kiln optimization commissioning industrial boiler anomaly detection operation gas turbine failure detection progressive cavity pump global optimization mineral processing plant future research direction currently developing generic software platform based peacock framework',\n",
              " 'ukchina collaboration science technology tweet share shareglt ceo professor martin atkins received award chinese central government recognition excellent contribution promoting science technology cooperation china uk business academiaprofessor atkins long history close',\n",
              " 'tc win 2020 gartner communication award tata consultancy service award excellence building corporate brand customercentric campaign digital transformation business 40',\n",
              " 'immunogen established deep portfolio adc technology enable development optimal adc design cancer target including selection potent payload agent engineered linkers',\n",
              " 'intelligenceled security solution protect organization cybercrime attack worldleading cybersecurity service provider work partnership security vendor include mcafee symantec log rhythm proofpoint check point juniper becrypt forcepoint 40 year experience delivering secure provide comprehensive range security service align pci ds sox iso 270012 iso223012012 range solution include network security big data protection biometrics',\n",
              " 'material prepared address requirement designed promote independence investment research subject prohibition dealing ahead dissemination investment research',\n",
              " 'apollo telehealth launch smart health kiosk',\n",
              " 'equipped various laboratory including analytical lab test production facility address entire process rd basic research product development',\n",
              " 'telematics provide continuous realtime monitoring asset location utilization health activity arent many place manage project asset provide auditable record movement utilize machine learning optimize improve efficiency project rayvens infrastructure construction iot solution',\n",
              " 'establishing sustained partnership supplier safran tailor product service customer need short working together build sustainable supply chain',\n",
              " 'security system sensitive equipment installed building likely use biometric technology due advanced safety data collection feature said jim charron underwriting director technology industry hartford',\n",
              " 'innovation park platform partnershipbased cooperation involve system supplier terminal manufacturer startup university college contact university sector cooperation vf group rd active participation project german ministry education research project identification targeted promotion interesting startup create environment involved party benefit participation prospering innovation park project',\n",
              " 'tool integrated service called ultimatix recommends ongoing research focus extending tool fullfledged personalized career advisory system help employee achieve career goal becoming gui designer solution architect',\n",
              " 'drillform pleased announce selected finalist new technology development year oil gas award southwest midcontinent held oct 15th westin dallas park central dallas tx inaugural canadian award held calgary past june happy selected part fantastic evening look celebrate success industry always pushing boundary innovation learn event',\n",
              " 'drillform exhibitor 2018 iadc advanced rig technology conference exhibition austin texas september 11th 12th 2018 leading edge forum exploring state art rig technology downhole operation seamlessly integrating two minimal human intervention event focus advance challenge land offshore rig technology exploring advance drilling technology delving future technology drilling system automation question reliability cybersecurity',\n",
              " 'perform research ingredient manufacturing process beer related product find way produce highquality tasty beverage stable efficient manner combining new ingredient new brewing technology',\n",
              " 'increased focus automation iot within mining industry jsw building capability drilling technology space driven strategic partnership sister company technology innovator idat',\n",
              " 'tensorflow endtoend open source platform machine learning comprehensive flexible ecosystem tool library community resource let researcher push stateoftheart machine learning developer easily build deploy machine learningpowered applicationstensorflow originally developed researcher engineer working google brain team within googlemachine intelligence research organization conduct machine learning deep neural network research system general enough applicable wide variety domain well',\n",
              " 'capability could future replace terrestrial broadcasting lte broadcast permit new medium experience interactive format anywhere anytime already successfully demonstrated many time',\n",
              " 'hive unilevers global food innovation centre wageningen campus netherlands hive grows nurture food brand unilever like knorr hellmanns unilever food solution',\n",
              " 'imsr power plant use truly innovative nuclear technology safe reliable clean lowcost making todayalternative fossil fuel combustion like nuclear power plant imsr emissionfree producing electricity gamechanging highefficiency heat make imsr power plant powerful versatile tool drive economic growth achieve deep decarbonization',\n",
              " 'following four key risk category 3d printing technology company understand illustrative risk scenario category',\n",
              " 'hyundaibacked motional launch fully driverless car la vega',\n",
              " 'airbus helicopter inc lakota flight safety award developed recognize crew member flight experience lakota award based hour safely flown lakota',\n",
              " 'inclusive culture attracts diverse talent encourages people bring best self workplace feel valued respected supported broad background perspective team spark innovation sharpen customer focus part strategy develop best creative solution make difference life customer agentbrokers community',\n",
              " 'infosys received award best ceo best cfo best investor relation institutional investor magazine 2017 allasia executive team ranking technologyit service software sector',\n",
              " 'health canada today announced launch hishealthca online healthcare community telehealth platform canadian men',\n",
              " 'richemont havas come agreement today respect future relationship shareholder canal',\n",
              " 'importantly innovation likely reduces lefttail risk development effective vaccine might remain elusive prolonged period continue live covid19 difficult winter beyond think vaccine result concrete progress towards durable remedy tragic public health economic crisis',\n",
              " 'sabic saudi aramco announced selection yanbu west coast saudi arabia site develop integrated industrial crudeoiltochemicals cotc complex',\n",
              " 'proliferation consumer health wellness technology including wearable device may present attractive target hacker infiltrated device could create additional vulnerability medical provider device manufacturer app software company connected data also compromised hack',\n",
              " 'system take account spherical distortion induce glare night vision conditionsallegretto wave us innovative wavefront optimized technology automatically compensate curvature cornea',\n",
              " 'general motor truck company gmc american automobile manufacturer unveiled new 2024 hummer ev suv electric vehicle shall come hummer ev pickup hummer ev suv variant',\n",
              " 'worked respective account team collect data generate maintain image repository contains highquality image individual skus different orientation',\n",
              " 'u partnering academic institution research project programme make sense many way uk brightest mind given opportunity shine able make strategic investment attract best new talent thales uk',\n",
              " 'lab one world leading test facility telecommunication innovation lab partner everything hand term communication technology sort future development 100 supplier expert carry 1000 innovation project year',\n",
              " '3d printed object cause property damage due defect failure function intended could lead lawsuit company individual involved product manufacturing distribution chain could find named defendant',\n",
              " 'mean buy renewable grid electricity power factory office rd facility data centre warehouse distribution centreswe founding signatory re100 open new window global campaign business committed using 100 renewable electricity',\n",
              " 'new medical device side effect risk traveler open emerging unusual complex technology risk offer insurance solution tailored medical technology industry',\n",
              " 'reliance expected complete development 5g smartphone mayjune according report et telecom launch possibly take place later around augustseptember company agm report added',\n",
              " 'created 2012 ipvf intends become leading global solar energy rd innovation education center industry academic researcher work side side',\n",
              " 'married partner jim guild construction build high performance home featuring solar array high efficiency energysaving window fresh air flow technology cabinetry woodwork milled recycled timber famous town work old wood decade town know bendclimate understand material age well',\n",
              " 'get asked repeatedly valid measurement comparison older established method like tape measure dexa scanner study led pennington biomedical research center lsu found excellent correlation also showing styku outperformed competitive system area',\n",
              " 'around 300 employee work site including 75 scientist bioscientists chemical engineer material scientist physicist chemist 150 research associate 50 support staff specialising microbiology human plant biology material chemistry process science internal expertise many area also collaborate extensively leading international expert research group academic institution',\n",
              " 'ademes mission develop research development program area environment energy management goal upgrading industrial process france',\n",
              " 'xpeng launch new electric vehicle report mixed q4',\n",
              " 'collaborative research australia boeing research technologyaustralia announced research collaboration university queensland brt brisbane office laboratory approximately 30 staff relocate uqs st lucia campus enabling deeper collaborating student researcher topic including bioterrorism countermeasure autonomous system unmanned aircraft environmental monitoring technology boeing working uq since 2003 providing investment support variety research project sustainable fuel uqs australian institute bioengineering nanotechnology',\n",
              " 'vmware partner government agency occasion develop innovative research challenge cosponsor academic research area national significance one recent collaboration nsfvmware partnership software defined infrastructure foundation cleanslate computing security sdicscs 3year 6m academic research program collaboration u national science foundation wellknown federal funding agency science engineering',\n",
              " 'unique depth breadth investment expertise across traditional alternative asset class region globally qif leverage expertise regular structured communication investment team ultimate goal improve client outcome',\n",
              " 'xels launch ecoconscious blockchain platform carbon offset credit',\n",
              " 'increased focus automation iot within mining industry jsw building capability drilling technology space driven strategic partnership sister company technology innovator idat',\n",
              " 'thread technology service provider enabling decentralized clinical trial dcts today announced launch new telehealth feature building four year conducting electronic clinical outcome assessment ecoa telehealth virtual visit new feature raise bar dct telehealth functionality adding several unique enhancement company industryleading ecoa telehealth virtual visit solution',\n",
              " 'use welldefined customized framework standard guideline practice reduce firm cyber vulnerability keep date ensure ongoing compliance make sure involved welleducated role trained backup readily step need arises includes development strong remote access protocol',\n",
              " 'welcome future driving 5g mobility lab latest mobile technology meet diverse test track application',\n",
              " 'german startup ifactory3d upgraded modified debut conveyor belt 3d printer ifactory one launch latest machine ifactory one plus',\n",
              " 'exelon partnered arbor day foundation distribute 110000 tree customer within 6 state',\n",
              " 'recently reported mercedes eq make global debut april 15 year company flagship ev equivalent sclass',\n",
              " 'currently boeing conduct leading edge academic partner brazil research faster cfd modeling technique cost effective wind tunnel testing related selected nose landing gear configuration next year activity expanded complex aircraft geometry envisioning future product development',\n",
              " 'insured increasingly demanding specialized partner evolving need rely expertise agent broker carrier navigate complex regulatory environment invent test go market cuttingedge telehealth application',\n",
              " 'connexas group shortlisted uk business tech award mediumsized business category',\n",
              " 'hawaii fqhcs get 13 million launch expand telehealth service',\n",
              " 'voice working german government five company install national network fuelling pump hydrogen fuel cell electric car 2023',\n",
              " 'new approach artistic creation mean notion authorship shifting add vickers new art form diverse range skill required develop hugely ambitious technical project mean moving individual artist team formation akin hollywood production video game production belief latter crucially important software used develop video game engine becoming interface technology area innovation across industry whether blockchain ai many artist using platform',\n",
              " 'global manufacturing specialist jabils engineered material division released new highstrength patentpending 3d printing material',\n",
              " 'traveler extensive history developing innovative insurance product innovation technology industry date back 1960s first insurer protect electronic data processing equipment data medium',\n",
              " 'tata motor ltd developing small electric commercial vehicle ecv based existing product ace possible yearend launch two people aware plan said',\n",
              " '20 year experience helping 100of client built subject matter expertise strategic thinking advise execute across wide spectrum technology related project',\n",
              " 'currently responsible exploratory applied research regarding electrochemical energy conversion electrochemical sensing solid sorption heat pump technology',\n",
              " 'tc receives three brandon hall award talent management excellence learning tata consultancy service recognized best advance creating talent strategy best learning program supporting change transformation best use game simulation learning',\n",
              " 'smart gate drive offer level protection configurability improve design simplicity bring new level intelligence motor system view video learn benefit feature smart gate drive technology',\n",
              " 'something similar went realm artificial intelligence take time see truly intelligent automation bank ubs successfully established robotics machine learning component internally many area thanks early success colleague get feel augmented future might look like help demystify digital transformation within bank helpful',\n",
              " 'thanks proximity saclay ecosystem group able strengthen open innovation initiative partnership internationally recognized research team new total research innovation centre tackle main energy technological challenge society two area work prioritized digital especially artificial intelligence ai lowcarbon power management pursuit sustainable responsible development',\n",
              " 'model developed basic sketch proper elevation sectional view isometric detail rendered photorealistic looks3d modeling property retaining wallthe real estate firm usa helping client develop property retaining wall near river river water flood area surrounding property monsoon',\n",
              " 'leading way meet society changing need hitachi proposed original system concept world upon based rd create new system solution make reliable safe comfortable society possiblemain research areassocial system digital city maas smart energy financialpublic system railway information control system waterenvironment system etc security cyberphysical authentication encryption biometrics software engineering enterprise systemembedded system development specification verification test automation system architecture autonomous distribution blockchain mathematical optimization technology',\n",
              " 'joining traveler technology team offer many opportunity building skill trying different role professional business group empowher woman actuarial analytics provide development opportunity support ally learn talent mobility across organization',\n",
              " 'drillform technical service ltd announces availability new bulldog st710 service rig catwalk latest offering drillformawardwinning comprehensive bulldog product line company also recently released product video featuring longer performing st820 service rig catwalk',\n",
              " 'hyundai launched allnew kona ev indian market last year priced r 2376 lakh make expensive',\n",
              " 'shanghai research centre focus global research development brand including amora clear domestos dove hellmann knorr lipton lux magnum omo pond rexona',\n",
              " 'brand positioned premium segment named zeekr housed geelys tobelaunched ev entity lingling technology',\n",
              " 'admin oct 10 2019 company news rdon october 8 2019 oklahoma state university osu vigilant aerospace system vigilant conducted demonstration flight utilizing osu13mile beyond visual lineofsight bvlos corridor east stillwater oklahoma demonstration used evaluate',\n",
              " 'successful completion project large step toward advancing geothermal energy development washington state task altarock energy wellpositioned lead altarock strong relationship snohomish county public utility district weyerhaeuser hold geothermal lease mount st helen cyrq energy geothermal company leasehold mount baker addition exploration advance made three play methodology developed course work applicable similar playtypes cascade pacific northwest three state',\n",
              " 'let guess quickly recap highlight business ride wave innovation collaboration weve talked impactful event spur innovation consumer behavior payment side definitely look current environment social distancing mean cant emphasize enough would think back two year three year five year well definitely looking back current environment spurred change payment industry',\n",
              " 'vermeer corporation manufacturer industrial agricultural equipment privately held company distributes product globally production facility pella iowa united state multiple international location worldwide founded 1948 gary vermeer vermeer manufacturing company company third generation family management president ceo jason andringa well member third generation',\n",
              " 'infosys nyse infy global leader nextgeneration digital service consulting certified top employer institute 2020 top employer recognition excellence employment practice across australia singapore japan',\n",
              " 'funding invest ni important glt technology tweet share sharegreen lizard technology ltd received invest ni grant research development supporting company innovation service product process',\n",
              " 'working understand impact carbonconstrained economy business involves assessment potential regulatory risk relating greenhouse gas emission improve understanding contribute public dialogue business leader participated multistakeholder forum developed research relating carbon regulation',\n",
              " 'extremely proud add another feather cap two award win people first ace award 2020 presented national hrd network 23rd annual conference one largest gathering hr leader professional ace award instituted nhrd recognize reward emerging best practice human capital space',\n",
              " 'infosys standout ir award investor relation society collaboration bse kpmg india ir award screening committee judged bse 500 company parameter market cap institutional holding feedback buyside sellside',\n",
              " 'anyone within company invited submit idea hope getting selected present front entire radio audience accepted idea rigorously workshopped creator radio committee presented vmware colleague across business unit discipline work together shepherd polish content conference setting stage idea shared developed companywide level event',\n",
              " 'boston childrens hospital launching telehealth program screen newborn cape cod outlying island hearing issue hospital creating hubandspoke telemedicine platform cape cod hospital provide virtual access audiologists pilot program coordination universal newborn hearing screening program followup care',\n",
              " 'mercedesamg launch first new range electric vehicle ev europe later year part wider brand shift towards smaller engine electrified technology',\n",
              " 'honda announced march 4 luxury sedan legend world first passenger vehicle hit market equipped level3 autonomous driving technology',\n",
              " 'darktraceai technology proven instrumental providing visibility device even know networkjimmy gelhaar director metropath',\n",
              " 'optimal end user experience ability prioritise businesscritical application applicationaware routing let wood bagots global team collaborate high performing network seamlessly',\n",
              " 'emerging market currency particularly latin america stand particularly attractive u chinese stimulus filter support global activity limited recovery many currency despite sign success controlling spread virus continue trade compelling valuation lack volatilityadjusted carry relative previous cycle may limit length extent appreciation',\n",
              " 'headquarters japan tokyo nagoya toyota tsusho integrated trading company toyota group responsible toyota overseas investment trade business seven field including automotive recognized one world top 500 enterprise toyota tsusho exploring effective way reduce ecological damage caused transportation adopted hydrogenpowered zerocarbon emission vehicle one company key strategy japan toyota tsusho actively participated series showcase project relating hydrogen energy industry including commercial hydrogen refueling station meanwhile company worked closely domestic overseas firm hydrogen energy industry chain actively promote application fc technology globally current cooperative effort refire demonstrates party plan work together provide highquality green logistics solution chinese society jointly put practice hydrogen philosophy sustainable development',\n",
              " 'sanofi research development team working directly patient community fully understand priority experience need challenge listening focusing translating patient insight action earliest stage development clinical trial beyond researcher develop new healthcare solution meaningful outcome address unmet need improve healthrelated quality life',\n",
              " 'many technology eo form delay exclusion traveler cyberfirst especially critical company work large project provide product within tight timeframes',\n",
              " 'focal point customised software solution field technical software industrial software scientific software create partial complete solution following spectrum firmware development possible technology processor type interface usb ethernet wireless embedded communication protocol graphical user interface user progamming user interface management database common operating system',\n",
              " 'kimm maugeri recognized one 20 canadian hr practitioner ranked hrds top 200 global hr leader',\n",
              " 'infosys recognized fastest growing ranked 4th among top 10 service brand brand finance one world leading brand valuation firm 2021 global 500 report',\n",
              " 'achieve vision given group chairman jrd tata focus applying science technology benefit industry people trddc tata research development design center collaborated international institution mit stanford university georgia tech usa king college london',\n",
              " 'developing novel clean technology renewable energy great honour receive prestigious award ambassador reflecting many year collaboration science technology colleague china many pioneering work started decade ago reaching fruition commercialisation great example team effort uk chinese scientist martin atkinspictured professor martin atkins receiving medal ambassador xiaoming liu',\n",
              " 'samsung galaxy s8 s8 awarded smartphone year news18 tech auto award 2017 award salute celebrate achievement tech auto industry india',\n",
              " 'stratasys launch powder bed fusion 3d printing system based evolution high speed sintering process',\n",
              " 'holding external seminar regarding stateoftheart technology market trend within company able date latest information also hold various study session aiiot across company',\n",
              " 'admin feb 5 2020 company news featured industry news rdvigilant aerospace system signed new license agreement national aeronautics space agency nasa extending companyexisting detectandavoid radar technology patent license include military aviation application new license',\n",
              " 'innovation heart unilevers ambition grow sustainably science technology product development central plan keep providing consumer brand improve life positive impact environment society',\n",
              " 'consider partnership established supplier startup academic designer individual inventor anyone practical innovation help u meet challenge',\n",
              " 'telecom provider verizon jumping onto telehealth bandwagon monday verizon business announced launch bluejeans telehealth aim streamline telemedicine experience provider patient',\n",
              " 'elba owned elba liquefaction company llc joint venture kinder morgan inc nyse kmi eig global energy partner eig 49 percent partner eig owns liquefaction unit ancillary equipment kmi operator facility owns 100 percent certain facility elba supported 20year contract shell lng na llc subscribed 100 percent liquefaction capacity',\n",
              " '2019 partnered china largest steel producer china baowu steel group tsinghua university one china prestigious influential university work joint action plan explore way improve environmental performance across steel value chain steel industry account 79 world carbon emission according world steel association combine strength everything research development technology process equipment logistics industry coordination policy advisory capacity bring together solution help address steel industry carbon footprint',\n",
              " 'cooperation aldenhoven testing center vodafone already testing future connected mobility learn unique opportunity test develop networked mobility solution open ecosystem',\n",
              " 'infosys 2020 top 10 working mother avtar best company woman india award',\n",
              " 'thales huawei leading drive accelerate nbiot combining core strength develop leadingedge connectivity iot module come time nbiot boom abi research estimate nbiot account 20 per cent cellular shipment 2021',\n",
              " 'also partner range organisation ensure integrity reliability diamond mine market reputation business tied practice everyone touch diamond therefore working others create responsible supply chain critical founding member natural diamond council formerly diamond producer association first organisation represent diamond producer international level natural diamond council support development diamond sector work maintain improve consumer confidence diamond',\n",
              " 'claim scenariothe policyholder telecommunication equipment manufacturer conduct operation israel israeli employee file suit policyholder alleging developed cancer result undetected exposure electromagnetic radiation emanating machinery work israeli worker compensation coverage provides limited benefit coverage allows employee sue employer israeli court pain suffering damage policyholder u employer liability policy cover lawsuit brought outside u',\n",
              " 'past project include research prevent blindness hereditary retinal degeneration mathematical analysis refractive surgery technique treat astigmatism development new surgical technique enhance safety corneal transplantation child study corneal healing following refractive surgery',\n",
              " 'promoting planning development service model collect data production iot infrastructure link optimal action using ai collaborative creative activity customer initiative within hitachi group manufacturing industry promoting planning development service model global scale',\n",
              " 'current research tc involved application predictive analytics industrial operation diverse industry chemical mineral metal power oil gas utility pharmaceutical medical device',\n",
              " 'heavy rail operator training simulator developed forgefx simulation washington metro area transit authority government agency operates transit service washington metropolitan area forgefx developed rail operator training simulator metro heavy rail rapid transit system operator order train operator faster fraction cost within safe riskfree virtual environment',\n",
              " 'ukchina collaboration science technology tweet share shareglt ceo professor martin atkins received award chinese central government recognition excellent contribution promoting science technology cooperation china uk business academiaprofessor atkins long history close',\n",
              " 'htc vive one popular virtual reality headset market today headmounted device provides virtual reality wearer vr headset widely used computer game also used application including simulator trainersdeveloped htc valve corporation headset us technology called room scale tracking allows user move around 3d space much like real world use motiontracked handheld controller interact environment object within',\n",
              " 'politically covid19 crisis could eclipse climate crisis corporate level leader may realize crisis related way lack preparation future crisis could costly organization',\n",
              " 'imsr power plant use truly innovative nuclear technology safe reliable clean lowcost making today alternative fossil fuel combustion like nuclear power plant imsr emissionfree producing electricity gamechanging highefficiency heat make imsr power plant powerful versatile tool drive economic growth achieve deep decarbonization',\n",
              " 'refire gained technology product innovation practice prize excellent performance technology product innovation',\n",
              " 'part europeanfunded removal project involving 37 member university expert business trialing method converting bauxite residue known red mud aggregate used make product concrete tile insulation partnership aluminium closure team european expert one example collaborating find innovative solution shared challenge successful could reduce environmental impact bauxite processing also delivering commercial benefit',\n",
              " 'airbus helicopter inc maintenance technician award developed recognize experience responsibility level keep airbus helicopter fleet flying',\n",
              " 'hightech company operating global business environment mean unprecedented opportunity well new evolving risk',\n",
              " 'traditional alternative whatever risk profile fixed income range designed offer broad spectrum capability even challenging market condition',\n",
              " 'since 2009 daniel manager communication circuit system group adding responsibility team millimeterwave wireless digital communication ic design current research interest include highspeed io design pll design circuitsystem approach enabling new computing paradigm',\n",
              " 'learn risk byod create bring device policy business along byod employee training tip',\n",
              " 'joint development agreement result new rd job green lizard technology wilton centre base speed prospect fullscale production plant wiltonfor information visit business quarter akzonobel make significant investment green lizard technology wilton centre akzonobel invest wilton centre company',\n",
              " '2020 year marked astonishing economic financial market volatility final act start provide welcome resolution announcement covid19 vaccine potential additional fiscal stimulus result u election key event facilitate convergence expectation timetable relative strength u global economic expansion',\n",
              " 'glytec announced today introduced latest version eglycemic management system egms managing insulin',\n",
              " 'traveler insured life science company decade giving u expertise manage range business risk across product lifecycle rd clinical trial manufacturing way distribution',\n",
              " 'imsr truly innovative small modular reactor design us proven demonstrated reactor technology liquidfueled reactor type molten salt reactor msr closely related msr technology pioneered oak ridge national laboratory ornl tennessee',\n",
              " 'technology potential revolutionize manufacturing well documented risk well defined case 3d printing also known additive manufacturing brings uncharted risk including cyber intellectual property risk every party global supply chain understand liability involved 3d printing prepared minimize',\n",
              " 'zeiss research microscopy solution zrms developer nondestructive 3d imaging system launched xradia crystalct microcomputed tomography microct system designed enable 3d crystallographic imaging polycrystalline material range metal additive manufacturing ceramic pharmaceutical sample',\n",
              " 'example year collaborated unilever closedloop packagingfrom 2014 2018 chaired world plastic council global industryled effort develop sustainable solution marine debrissabic founding member alliance end plastic waste aepw organization chemical company addressing plastic waste',\n",
              " 'new medical device side effect risk traveler open emerging unusual complex technology risk offer insurance solution tailored medical technology industry',\n",
              " 'thales long contributor specification surrounding mobile network iot new 3gpp whitepaper volker breuer florian denzin take close look consideration 3gpp commence standardisation work 5g release 17 new radio examining service spectrum technical performance requirement',\n",
              " 'leading 3d printer manufacturer stratasys announced launch new powderbased 3d printing technology',\n",
              " 'immunogen receive 20 million upfront target eligible receive milestone payment potentially totaling 210 million plus royalty commercial net sale resulting adc product takeda responsible development manufacturing marketing adc product resulting agreement',\n",
              " 'many country aim reduce emission 80 percent 2050 many forecast possible without nuclear energy expert agree nuclear energy must play critical role energy future conventional nuclear technology insufficient meet promise',\n",
              " 'takeda partner network committed improving patient care support scientific advance medicine increasing understanding important disease part commitment investigator initiated research iir program support innovative clinical basic science study address important medical scientific question related compound therapeutic area interest',\n",
              " 'new digital technology could speed development covid19 vaccine boost genomic medicine sector',\n",
              " 'sanofi scientist committed helping people suffering immune autoimmune inflammation disorder long eluded treatment combining molecular clinical realworld data rd team gaining new ground precision immunology apply deep knowledge disease array technology investigate common pathway systemic disease eg asthma atopic dermatitis peripheral inflammatory disease eg rheumatoid arthritis well autoimmune challenge type 1 diabetes cancer',\n",
              " 'recognition everest demonstrates commitment customer base tc life science tc life science provides top global life science organization full service offering consulting kpo infrastructure engineering service well mobility big data analytics cloud',\n",
              " 'france solar pv rd center partnered total electric utility edf french national center scientific research cnrs cole polytechnique engineering school air liquide',\n",
              " 'foresight come unique solution using dedicated algorithm successfully ass relative pose estimation known automatic calibration automatic calibration fundamental creating accurate stereoscopic 3d perception',\n",
              " 'towards goal tc research conduct applied industrial research following area behavioral business social science computing system cybersecurity privacy data decision science deep learning ai embedded system robotics foundation computing life science medium advertising physical science software system service researcher file one hundred patent publish close three hundred paper year',\n",
              " 'order establish technology suited harsh natural environment typhoon earthquake built first offshore wind power plant japan researched safety environment effect',\n",
              " 'longer term see great potential company combine biology software computing chemistry advance medical state art key application area including gene expression immunology dna sequencing',\n",
              " 'signify euronext light world leader lighting today launched india first tailormade 3d printed luminaires highly flexible sustainable form manufacturing using 100 recyclable polycarbonate material enables company produce luminaires bespoke design tailored customer exact need recycled end life supporting circular economy',\n",
              " 'saintgobain recently opened research development center brazil group first center southern hemisphere',\n",
              " 'lightpoint medical announces 8 million funding support commercial launch robotic cancer detection probe',\n",
              " 'pentup demand industry operating precovid19 level fade sharpening focus development vaccine required allow repair chronically afflicted business multiple prominent candidate phase 3 trial importantly many potential vaccine employ fundamentally different development process diversifying risk one particular vaccine type delivery mechanism fails pan',\n",
              " 'infosys recognized best cash management et star industry award 2018 excellence working capital cash management',\n",
              " 'recent innovation technology help make construction sector safer smarter every party involved',\n",
              " 'enable scalable series geothermal solution deeper efficient larger scaleusing expertise underground engineered geothermal system focus innovative subsurface system conjunction partner combine proven construction scalable surface infrastructureour solution synergy ofour patented plasmabit drilling system access geothermal energy required depthextensive expertise conventional drilling oil gas industrybest practice successful geothermal project worldwide',\n",
              " 'samsung frame tv awarded design year news18 tech auto award 2017 innovative futuristic design award aim celebrate honour technology product innovation paved way future sector set benchmark respective field',\n",
              " 'time uncertainty insurance help tech company find stability need continue innovate pandemic',\n",
              " 'new medical device side effect risk traveler open emerging unusual complex technology risk offer insurance solution tailored medical technology industry',\n",
              " 'pioneering hydrogen new lowcarbon fuel part worldfirst pilot funded uk government thats aiming demonstrate hydrogen fuel used lowcarbon alternative natural gas industrial scalewe piloting fuel manufacturing process port sunlight factory uk',\n",
              " 'wearable technology early screening 24x7 monitoring swift postevent intervention care healthrelated condition growing focus health research innovation attempt make healthcare holistic scalable affordable',\n",
              " 'thales solidified partnership scaleai canada innovation ecosystem avin vector institute together key stakeholder mila ivado',\n",
              " 'ci global asset management ci gam today announced launch ci bitcoin fund fund north america first mutual fund provide dedicated exposure bitcoin',\n",
              " 'vrsim experienced developer interactive training tool skilled trade vrsim operates east hartford ct reimagining industry tool training developing innovative training system welding spray painting construction manufacturing robotics product used training education program high school technical college vocational training program workforce development initiative global leader including boeing company caterpillar national truck equipment association saint gobain international union painter allied trade u navy information please visit httpsvrsimcom',\n",
              " 'identifiable nearterm threat recovery remain intertwined public health outcome chiefly vaccine development government policy decision prospect severe seasonal second wave covid19 across developed world could necessitate return lockdown reverse economic progress since april dropoff fiscal stimulus stateside reintroduces element twoway economic risk initial powerful policy response cut left tail adverse economic outcome',\n",
              " 'charles pickering founder ceo architectural engineering firm pickering associate recently received leedplatinum rating project 12 faith meadow williamstown wv first leed platinum certified home west virginia boast 11 kwdc generation capacity solar system located optimal array house garage roof provides energy usage need household sell back power grid house received leed point score 113 rating 43',\n",
              " 'also focusing efficiency innovation reduce emission transporting product freezer retail stores100 renewable grid electricitysince start 2020 sourced 100 renewable grid electricity across operation worldwide',\n",
              " 'recognized globe mail 2020 woman lead list benchmark canadian company forefront woman leadership position',\n",
              " 'commitment school student research innovation strongmind build strategy service tool support student academic success',\n",
              " 'mission leave ahead better future put back environment society global economy take inspire employee customer partner u seemingly impossible possible work provide every day',\n",
              " 'iledefrance photovoltaic institute ipvf speed development solar power total joined force number partner edf cnrs cole polytechnique air liquide horiba riber give life new centre excellence dedicated research solar power integration power grid',\n",
              " 'boeings product span frontier undersea air space also developed unique cybersecurity capability key management security protocol architecture delaydisruption tolerant networking dtn nasa interplanetary mission submitted standardization internet engineering task force',\n",
              " 'funding invest ni important glt technology tweet share sharegreen lizard technology ltd received invest ni grant research development supporting company innovation service product process',\n",
              " 'shift motivated practical reason people working remotely there increase demand reliable wifi broadband 5g service better connect employee client replace inperson meeting company using collaboration video conferencing technology frequently',\n",
              " 'cnst national user facility purposely designed accelerate innovation nanotechnologybased commerce mission operate national shared resource nanoscale fabrication measurement develop innovative nanoscale measurement fabrication capability support researcher industry academia nist government agency advancing nanoscale technology discovery production center located advanced measurement laboratory complex nist gaithersburg md campus disseminates new nanoscale measurement method incorporating facility operation collaborating partnering others providing international leadership nanotechnology',\n",
              " 'even global stage hitachi unique company control operation technology ot product addition digital technology ai artificial intelligence big data analysis',\n",
              " 'infosys finance transformation best financial reporting award et business leader year award',\n",
              " 'interest accounting led collaborate fundamental analytics team variety note recently reverse factoring',\n",
              " 'niu technology also launched new series kickscooter category',\n",
              " 'new medical device side effect risk traveler open emerging unusual complex technology risk offer insurance solution tailored medical technology industry',\n",
              " 'centre designed specifically access world class technology precinct purposebuilt foster innovation partnership house collaboration space partner popup installation immersive technology demonstration featuring state art business solution',\n",
              " 'wearable technology combine form function integrating functionality oncebulky device wearable gear form watch eyeglass type device follow common basic template work first sensor capture impulse translate actionable data microprocessor extract transform load data transmittable format finally transmitter wirelessly send data cloud storage processing reporting',\n",
              " 'partnering uscollaboration crucial success committed matching skill project best professional company wherever worldfind',\n",
              " 'four key risk consider introducing iot manufacturing process procedure finished product',\n",
              " 'infosys honored glassdoor employee choice award one best place work 2021 canada employee choice award based solely employee anonymous feedback glassdoor job work environment employer',\n",
              " 'two project led conducted boeings research center representative unique research technology development opportunity brazil',\n",
              " 'komaki mx3 launched price 95000 exshowroom bike made available three colour namely garnet red deep blue jet black',\n",
              " 'actively apply support robust regulatory framework wherever operate unilever suppliersour sustainable biotechnology approachin application biotechnology aim use sustainably sourced material feedstock production ingredient apply method superior life cycle assessment lca',\n",
              " 'working hard establish trusting respectful relationship jadar community including landowner government republic serbia relevant stakeholder ngo civil society organisation remain committed optimising economic social benefit reducing negative impact community',\n",
              " 'work supplier vendor cloud provider create securityfirst culture require maintain minimum security standard business maintains',\n",
              " 'view wellpositioned medical breakthrough procyclical riskon bias includes preference u small cap relative large cap value relative growth softer u dollar steepening treasury curve believe position poised perform well early cycle environment expected receive additional catalyst outperformance closely monitor progress therapeutic testing vaccine candidate potential bolster growth outlook mitigate downside scenario',\n",
              " 'unprecedented innovation taking place technology industry simply keeping pace enough exponential growth innovation come new threat data network system simply turn news day significant financial reputational cost business face data breach occurs clear learn cyberfirst essential',\n",
              " 'forgefx simulation honored training simulator developer vermeer corporation manufacturer industrial agricultural equipment vermeer privately held company distributes product globally vermeer serf construction landscaping environmental excavation forage market domestically internationally forgefx simulation developed horizontal directional drill hdd simulator vermeer customer allow operator conduct safe costeffective virtual drill training',\n",
              " 'window microsoftflagship operating system many year de facto standard home business computer microsoft window popular enduser operating system training simulator run microsoft window default thatthe platform majority development',\n",
              " 'april 6th 2021 niu technology launched 4 new product f0 f2 f4 c0 model escooter category mainly china market 1 new product kickscooter category mainly international market',\n",
              " 'upcoming 2021 tigor ev facelift wear similar look updated ic enginepowered tigor launched last year initially available government fleet consumer india electric version compact sedan also available general consumer country availability extending thirty city',\n",
              " 'looking 2018 think fruitful collaboration seen among stakeholder industry come digital transformation intensify bank continue working startup larger fintech vendor discussion regulator continue accelerates ability innovate industry',\n",
              " 'recent study indicate growing need research area help develop intellectual property country',\n",
              " 'meanwhile china fixed income market ownership currently dominated domestic bank insurer 23 china outstanding debt foreignowned compared 18 u 557 europe 18 japan generally broader ownership security result better price discovery china market open foreign capital flow believe likely positive effect price',\n",
              " 'total looking way quickly enhance energy efficiency plant part customer support policy customer facility',\n",
              " 'terrestrial energy industryleading technology company committed delivering reliable emissionfree costcompetitive nuclear energy truly innovative advanced reactor design integral molten salt reactor imsr',\n",
              " 'learn hightech manufacturer help mitigate exposure international operation understanding five key class global risk',\n",
              " '3d scanner software provider riven launched comprehensive new part validation package could enable engineer expedite new product introduction npi process',\n",
              " 'collaboration technology provider tc developed digital twin coalfired boiler see figure 3 combine artificial intelligence physic phenomenon involved domain knowledge operating boiler',\n",
              " 'come technology innovation thing holding technology company back imagination insurance understand range risk technology company face ready future may bring',\n",
              " '5g open innovation lab partner 5g food resiliency project move edge computing beyond hype',\n",
              " 'hartford insurance company 200 year experience understand every business unique industry face different risk thats learn in out one offer product service help protect every unique business innovative coverage offering include technology eo cyber insurance',\n",
              " 'pasteurizing effect high pressure recognized 19th century 1899 hite discovered shelf life extension milk using process however 1990s first hpp product began marketed japan europe 2000 10 year later technology became recognized alternative traditional food processing thermal chemical commercial success process due design equipment better adapted industrial requirement horizontal layout growing demand consumer safe natural product',\n",
              " 'comply regulatory requirement disclosurewe work biotechnology industry partner novozymes solazyme terravia explore new material use product',\n",
              " 'forgefx simulation proud training simulator vendor washington metropolitan area transit authority wmata government agency operates transit service washington metropolitan area wmata provides rapid transit service metrorail name commonly referred metro thirdbusiest rapid transit system united state term passenger trip forgefx developed rail operator training simulator metro heavy rail rapid transit system operator order train operator faster fraction cost within safe riskfree virtual environment',\n",
              " 'collaboration aarhus university neurosurgical team evaluate irraflow treatment intraventricular hemorrhage ivh assessment brain compliance',\n",
              " 'work also progress along following dimension attrition prediction rootcause analysis predictive model candidate selectionrejection time join research team built several chatbots use within tc answer user question related hr policy see article ask cara data section',\n",
              " 'u department energy doe today announced beginning design construction grid storage launchpad gsl 75 million facility located pacific northwest national laboratory pnnl richland washington boost clean energy adaptation accelerate development deployment longduration lowcost grid energy storage',\n",
              " 'commercial facilitieswith extensive experience providing custom offsite constructed building throughout commercial sector mb proven professional whether managing government local council construction site private business project goto solution sector offering endtoend solution mean need start finish',\n",
              " 'western digital launch sandisk extreme v2 extreme pro v2 portable ssds india starting inr 7999',\n",
              " 'boeing concluded extensive preliminary research ionosphere phenomenon center acquired scintillation monitor gps receiver special feature collect ionospheric data order develop calibration statistical correction model monitor integrated brazilian gps network obtain consistent data enable development brazilian ionosphere disturbance threat model implemented gbas station future also envisioned flight test validate model certification process',\n",
              " 'thales uk innovator partnership leader academia industry deliver groundbreaking research cuttingedge design transformative technology drive growth uk beyond',\n",
              " 'example cyber risk scenario cloud data breach medical device company design file skilled hacker penetrated one remote site firewall stole technical design file lookalike product released market cheaper price medical device company sued cloud data provider manufacturer 3d printer maker',\n",
              " 'head emea industrials global head auto research discus shift environmentally friendly method transportation hurdle may stand way',\n",
              " 'creative medical technology holding inc otc celz leading commercial stage biotechnology company focused regenerative approach immunotherapy urology neurology orthopedics today announced intent launch virtual physician focused telehealth solution regenerative medicine summer',\n",
              " 'admin oct 26 2018 industry news rdvigilant aerospace system recently gave onehour seminar inaugural meeting droneport network broken arrow oklahoma first part seminar featured case study successful drone port overcome four common obstacle launching',\n",
              " 'since beginning 19th century established pioneer modern global banking straightforward integrity use collaboration risen every challenge client continue',\n",
              " 'earthvision offer array compatible product aerobic digesting dehydration machine create zero waste closedloop back end',\n",
              " 'development edo kiriko design plastic bottle rokujyo mugicha barley teareceived various award prize including japan star award japan packaging contest 2016 held japan packaging institute excellent presentation prize 54th alljapan packaging technique study convention asiastar award asiastar 2016 contest held asian packaging federation good design award 2016 japan institute design promotion',\n",
              " '3d printing hardware manufacturer mosaic manufacturing announced whole host new 3d printing product',\n",
              " 'according crane accident study cause trend create safer work environment jim wiethorn pe haag engineering approximately 25 percent crane accident deemed critical lift lift director primarily responsible result problem lift plan',\n",
              " 'technology error omission risk company held liable economic loss failure device work intended',\n",
              " 'yoshiaki takeda research team leader working together dr shin kaneko cira develop new immunotherapy using ip cellderived cell currently focusing ip cellderived car tcell therapy blood cancer patient aim holding clinical trial near future',\n",
              " 'technology reshaping way builder business like many industry construction sector benefitted advance technology increase ease business improve efficiency productivity increase safety aid risk management',\n",
              " 'saipem tc create platform transform drilling ops saipems coo offshore drilling evaluates collaboration created digital twin platform tc aid seamless biz separation howmet aerospace partnership tc howmet optimized infrastructure customercentric process business separation thank downloading opinion count',\n",
              " 'technology error omission liability coverage help cover cost company blamed causing damage due error omission negligent act related product service provided business claim suit type damage typically covered commercial general liability policy',\n",
              " 'inclusive culture attracts diverse talent imperative developing innovative solution make difference life customer agent broker community additionally professional business group empowher woman actuarial analytics provide development opportunity support ally',\n",
              " 'company performed share buy back spent cash worse say cannot tap market future',\n",
              " 'nexa3d announced launch nxd200 dental lab 3d printing system compatible keystone industry keyprint range dental resin',\n",
              " 'past 60 year partnered ferrari develop efficient fuel lubricant formula one racing car',\n",
              " 'detroit gmc expanding hummer ev lineup suv urban familyoriented version 2022 pickup begin sale special launch model priced 100000',\n",
              " 'although china ashare market averaged belowgdp 44 annual return last 12 year pricing dispersion company much larger equity market reason include low investment bank research coverage compared major equity market high ownership retail investor buy sell frequently lead high pricing volatility',\n",
              " 'earthvisionsustar sustainable starch technology mechanically realigns molecular structure starch making strong flexible without use petroleumbased polyolefin polyolefin binding agent required manufacturing sustainable product today add cost toxin biodegradable',\n",
              " 'tobiieye tracking technology includes sensor enables device know exactly eye focused determines presence attention focus drowsiness consciousness mental state allows software process react state eye tracking technology put control device using eye naturally would',\n",
              " 'airbus gedc diversity award aim shine light successful project inspire student profile background study succeed engineering award developed funded airbus partnership gedc',\n",
              " 'kia ev6 unveiled march 30 electric compact crossover suv first product company based new platform electric vehicle',\n",
              " 'swedish luxury carmaker volvo commence delivery first full electric car xc40 recharge india october 2021 booking open june',\n",
              " 'innovation like hold key delivering tomorrow resilient highperformance railway underline way thales helping build future trust',\n",
              " 'matter stage career joining team ubs take level',\n",
              " 'storage bear creek storage company llc bear creek located bienville parish louisiana facility working natural gas storage capacity approximately 59 billion cubic foot bear creek joint venture equally owned southern natural gas company llc sng tennessee gas pipeline company llc tgp working storage capacity committed equally tgp sng',\n",
              " 'rayven platform built security top priority rayveninfrastructure construction iot solution rayvenproprietary security architecture ensures data secure across business',\n",
              " 'recent year environment surrounding manufacturing industry undergone significant change rapidly changing economic situation manner global disaster dealt declining labor force rapid acceleration technological innovation digitization environmental problem global development provide smart factory solution management issue faced customer manufacturing industry',\n",
              " 'development watersaving technology use aseptic filling lineawarded encouragement prize 23rd annual meeting society soft drink technologist japan',\n",
              " 'beyond track trace datadriven intelligence increasing application iot across various touch point product journey associated supply chain operation result continuous realtime streaming high volume data',\n",
              " 'cost defend claim even frivolous potential financially devastating customize traveler cyberfirst technology company coverage include technology error omission insurance coverage help address unique risk facing tech firm include',\n",
              " 'nasdaq ayro ayro company designer manufacturer lightduty shorthaul lastmile delivery electric vehicle ev today announced launch electric vaccine vehicle evv wwwvaccineevcom designed specifically mobilize flexible safe efficient mean delivering vaccine testing million people 2021 beyond',\n",
              " 'whether looking purchase new computer server equipment specialized industry software package well fargo equipment finance expertise capital tailor financing strategy address company specific equipment need',\n",
              " 'innovation drive information technology company success creates unknown new risk look company today even year ago tomorrow',\n",
              " 'infosys platinum award asset corporate award longest running environmental social governance esg award asia award based evaluation financial performance management corporate governance social environmental responsibility investor relation',\n",
              " 'toyota launch twoseater ultracompact ev 2021',\n",
              " 'dedication bringing technologically advanced practical equipment design oil gas industry bulldog 130 automated floor wrench premier example commitment said drillform president todd mccorriston offer accurate consistent torque reduces downtime machined modular component contribute ease speed maintenance',\n",
              " 'giacomo nannicini research staff member theory quantum computing information group ibm j watson research center joining ibm assistant professor engineering system design pillar singapore university technology design main research interest optimization quantum algorithm giacomo received several award including 2016 coinor cup 2015 robert faure prize 2012 gloverklingman prize',\n",
              " 'los gatos cabased sixense enterprise inc leading provider vrar enterprise solution companyfullpresence platform enables immersive experience transform application healthcare training entertainment sixense technology delivers natural intuitive way interact virtual world creating powerful competitive advantage information please visit httpsixensecom',\n",
              " 'skill recommendation engine tc currently using recommendation engine see box pg138 based research guide choice training bewildering array course 7',\n",
              " 'let guess quickly recap highlight business ride wave innovation collaboration weve talked impactful event spur innovation consumer behavior payment side definitely look current environment social distancing mean cant emphasize enough would think back two year three year five year well definitely looking back current environment spurred change payment industry',\n",
              " 'however consumer plan use voice technology 49 percent user predict 2025 voice technology better meet need design continues develop massive cultural economic shift occurring year personal professional life see tech transformation industry brand embrace change likely see positive result rebound pandemic',\n",
              " 'datadriven company harness technology cloud ai geospatial others enable new product service empowered agile team deliver solution enable faster decisionmaking speed market',\n",
              " 'today promising software innovation emerge crossindustry effort build solution work everyone opensource project support open standard agility interoperability security throughout application lifecycle information visit httpvmwaregithubio',\n",
              " 'event tc innovation forum innovation driven business 40 london 2018 event cod comad 18 tc serial sponsor acm india joint international conference data science management data codscomad 2018 view leader speak tc research push boundary knowledge close collaboration coin network',\n",
              " 'seventh consecutive year dupont named great place work human right campaign foundation 2020 corporate equality index',\n",
              " 'thales innovation part dna open innovation coinnovation customer collaboration startup cornerstone strategy demand combination agility resource large company collaborative intelligence top researcher offer',\n",
              " 'leverage enhanced collaborative rd engine capability create robust modalitydiverse pipeline global rd center boston global rd research site san diego ca shonan japan',\n",
              " 'mg motor india launch electric car near 500 km battery range',\n",
              " 'td participated disclosure carbon information number year 2009 identified climate leader canadian cdp',\n",
              " 'forgefx simulation developed tv tech robot training simulator help sak construction train evaluate robotic milling operator simulator help reduce wearandtear realworld machine training increase operator familiarity control robot pipeline environment quickly affordably increase trainee throughput',\n",
              " 'company would need consider adapting business model pivot example restaurant providing delivery service closure physical premise additionally mentioned reserve cushion financial strain pandemic',\n",
              " 'technology form unique toolkit enables oncology rd team develop novel smallmolecule drug monoclonal antibody one day offer new option patientssanofi technology platform',\n",
              " 'infosys bpm newmont corp extend collaboration digitise delivery model',\n",
              " 'bluefin 12 lightweight mediumclass unmanned underwater vehicle uuv designed deliver mission critical data complete operator highconsequence changing mission',\n",
              " 'unitedhealth group longstanding commitment improving health literacy community serve variety initiative including health literacy innovation program unitedhealth group plain clear glossary taken step ensure health communication understandable accessible people health literacy level',\n",
              " 'mphasis announced yet another prestigious win 2nd consecutive year company cio 100 award every year cio 100 award honor 100 company demonstrate excellence achievement',\n",
              " 'lab one world leading test facility telecommunication innovation lab partner everything hand term communication technology sort future development 100 supplier expert carry 1000 innovation project year',\n",
              " 'together develop customised product timeoptimized fair price entire development manufacturing process carried directly premise knowhow turn idea prototype finished product following overview show service detail',\n",
              " 'life science ip incredibly valuable may include formula drug blueprint medical device backed year research clinical trial may potentially lifechanging patient could generate billion dollar revenue information huge interest hacker',\n",
              " 'admin apr 15 2018 client news product rd regulationvigilant aerospace developing version flighthorizon gc currently dubbed flighthorizonx modified support enhanced adsb transponder designed supersonic aircraft spacecraft tracking nasa armstrong flight research',\n",
              " 'believe sharp decline global shortterm interest rate last year provide nice cushion economic activity assuming major risk stay control economy usually experience lag nine month easing begin take effect believe beginning see healing especially economy hardest hit global manufacturing slowdown trade war especially europe emerging asia',\n",
              " 'imsr blend proven molten salt technology innovative enhancement including integration primary reactor component sealed replaceable vessel',\n",
              " 'deloitte india retained 3 spot businesscommerce undergraduate student ranking 16 position engineeringit student ranking reflecting focused hiring effort line firm priority digital transformation',\n",
              " 'bluefin12 equipped suite core sensor embedded intelligent capability powerful onboard data processing designed defense commercial academic underwater mission',\n",
              " 'extraordinary idea transform tomorrow born today vmware research academic program home industry researcher university faculty student around world collaborating develop idea influence future technology learn',\n",
              " 'leo currently working developing powerful nanoscope technology help gain direct insight nanolandscapes relevant across industry resulting technology help gain vantage point new phenomenon inherent heterogeneity previously visible deeper understanding build disruptive solution',\n",
              " 'european coating show 2019 sun chemical advanced material introduce new dicnate sg series cobaltfree drier paint',\n",
              " 'excited use deep expertise relationship water industry technology partnership build solution meet specific requirement water utility adding insight data utility collect solution help save water improve service customer',\n",
              " 'monday mumbaibased wazirx exchange largest india launched nonfungible token nft platform creator auction digital asset earn royalty',\n",
              " 'drive efficiency anticipate issue technology company collaborate supplier realtime networkbased model within network supplier node receive send information plan production schedule ongoing basis2',\n",
              " 'augusto vega research staff member within efficient resilient system group ibm j watson research center involved research development work area highlyreliable powerefficient embedded design cognitive system mobile computing driver promoter swarm intelligence aka cloudback mobile cognition paradigm potential application autonomousconnected vehicle drone wearable device mobile health monitoring cyberphysical system among others several pendingissued patent published paper served conference technical program committee area highlyreliable powerefficient system',\n",
              " 'healthcare organization prime target threatactors commented jimmy gelhaar needed way proactively ensure patient data safeguarded especially enter wannacry era threat darktraceai technology help u ensure full awareness whathappening network real time allowing u stay top fastmoving threat landscape',\n",
              " 'unmanned vehicle teleoperation training simulator developed forgefx simulation mriglobal joint program executive office chemical biological radiological nuclear defense jpeocbrnd jpeocbrnd responsible development acquisition fielding lifecycle support chemical biological radiological nuclear defense equipment medical countermeasure training simulator allows soldier learn operate unmanned vehicle along suite sensor contains',\n",
              " 'carefully review franchise agreement consult attorney expert franchise transaction signing document make sure agreement spell training receive address geographic market competition potential market saturation might make difficult succeed even strong brand',\n",
              " 'truly innovative reactor technology imsr technology play critical role achieve resilient clean sustainable energy supply',\n",
              " 'icon texas producer additive manufacturing system building house dwelling announced proprietary technology used 3dprint world first lunar launch landing pad testing pad conducted camp swift army base near austin texas',\n",
              " 'hong kongbased 3d printer manufacturer peopoly announced launch latest addition phenom series machine phenom prime',\n",
              " 'samsung gold digital marketing telecom hardware category innovative instagram campaign love get better every turn adgully digixx award designed celebrate excellence digital marketing advertising recognizing digital initiative innovative creative effective',\n",
              " 'telediagnostics provides real time remote analysis io status system diagnosis training session',\n",
              " 'magic leap inc american startup company released headmounted virtual retinal display called magic leap one superimposes 3d computergenerated imagery real world object projecting digital light field usereye involving technology potentially suited application augmented reality computer vision magic leap inc attempting construct lightfield chip using silicon photonics',\n",
              " 'saintgobain named one world 100 innovative company clarivate top 100 global innovator 2021 ranking tenth consecutive year ranking established studying number patent filed also impact company invention patent filing others percentage successful patent submission step taken legal protection patent filed worldwide',\n",
              " 'use biotechnologyderived ingredient process product meet latest scientific technological standard safety environmental stewardship',\n",
              " 'well fargo company conduct business outside u various company including duly authorized regulated subsidiary affiliate asia canada latin america europe banking service provided well fargo bank international wfbi directly regulated central bank ireland well fargo bank na london branch authorized prudential regulation authority pra regulated financial conduct authority fca pra product service may available country situation need evaluated individually subject local regulatory requirement',\n",
              " 'already reduced global manufacturing carbon footprint twothirds since 2008 want get zerowe constantly looking new way save energy cut emission cost',\n",
              " 'designing delivering increasingly complex system ensuring security system involved research fundamental requirement work threatening overwhelm approach currently using thats researching developing new technology method technique formalism skill improve system operation maximise performance',\n",
              " 'vigilant aerospace system oklahoma state university awarded grant autonomous drone safety research development',\n",
              " 'appear inc announced launch world lightest first graphene batterypowered smartphone innovative waterresistant technology',\n",
              " 'farfetch alibaba group richemont form global partnership accelerate digitisation luxury industry',\n",
              " 'committed protection security customer personal information outlined telstras privacy statement comply relevant privacy legislation',\n",
              " 'advancing modalitydiverse pipeline increased focus immunooncology rare disease leveraging platform capability cell therapy gene therapy data science working deliver steady stream nextgeneration therapy transformative curative potential across core area',\n",
              " 'according agreement refire work toyota tsusho fully utilize respective professional technology advantage initially lead development heavyduty fcv project changshu hightech industrial development zone agreement also state based experience current project three party expand scope cooperation region future thereby help realize shared goal green logistics transportation',\n",
              " 'multiple system collect data many global organization started leveraging cloud iot gather collate data',\n",
              " 'thales team think differently maximise innovative potential research technology innovation team developed design centre thales platform dedicated usercentred designdriven innovation',\n",
              " 'samsung rd institute bangalore srib recognised champion local market prestigious zinnov award 2018 srib samsungs largest rd centre outside south korea jury deemed srib winner based parameter vision initiative implementation impact local market fourth consecutive year srib zinnov award',\n",
              " 'plugged darktrace started finding threat completely bypassed legacy system commented gelhaar darktraceai technology proven instrumental providing visibility device even know network armed enterprise immune system detect mitigate inprogress attack internetconnected device real time cause damage',\n",
              " 'samsung awarded best customer experience service innovation best customer experience service innovation customer experience award 2017 india largest customer experience forum',\n",
              " 'technology company expand global exposure overseas market bring new customer new opportunity course new risk',\n",
              " 'peloton serious patent ip protection twenty granted patent current portfolio fifty patent application pending uspto pelotonpatents cover detail platooning automated following system work make technology safe effective',\n",
              " 'despite political general public resistance carbon tax solution could government subsidy green energy investment rd redistributing proceeds back increase individual income',\n",
              " 'amazon quietly launched new augmented reality application work qr code company shipping box create interactive shareable ar experience called simply amazon augmented reality retailer describes app fun way reuse amazon box youre ready drop recycling bin',\n",
              " 'shell mp2 energy supply renewable power visa facility virginia march 3 2021 digital payment company visa signed fiveyear agreement mp2 energy subsidiary shell north america buy 100 percent renewable electricity power largest data centre u state virginia',\n",
              " 'respect uber seems company may shifting focus five month ago uber made decision end selfdriving trucking effort company shut autonomous trucking program began reevaluate general strategy since invested area uber reportedly shifting focus towards range transportation service aimed shorter trip consistent uber ceo dara khosrowshahiremarks earlier year car u book amazon',\n",
              " 'havent seen big drop time attribute partly many precaution rapidly taken restricting travel extending lunar new year shutdown restaurant movie theater china still empty right despite shortterm impact coronavirus believe chinese market continue present attractive buying opportunity longerterm investor across capital structure',\n",
              " 'meet worldgrowing energy demand avoiding greenhouse gas emission clean energy alternative needed costcompetitive fossil fuel easily deployable scale imsr technology fulfills goal poised play key role clean energy future',\n",
              " 'development smart meter innovation park test new device modern network',\n",
              " 'large technology company always trying new thing usually come new risk see help manage risk keep innovating',\n",
              " 'voice banking latest series customerfocused innovation u bank launched recently including persontoperson payment service zelle u bank loan portal mortgage customer online tool receive quick car loan approval via autogravity safe convenient credit card payment travel mobile location service',\n",
              " 'building leadership type 2 inflammation rd sanofi advancing range immunological inflammatory disorder working across several core area pursuing several potential treatment currently clinical development rd pipeline focus new approach addressing underlying cause disease',\n",
              " 'life science organization often need exchange confidential information wide range partner vendor across border via cloud sharing analysis data may expedite research development also increase chance ip protected health information phi falling wrong hand',\n",
              " 'army expert worldleading security partner stateoftheart security operation centre one see security like believe staying vigilant working together changing security landscape',\n",
              " 'vigilant aerospace developing flighthorizonx tracking safety supersonic aircraft spacecraft',\n",
              " 'offer power resource national company local expertise autonomy traveler lead industry providing insurance business technology sector dedicated underwriting business unit since 1984 specialty claim unit technology claim since 1998',\n",
              " 'jsw collaborated leading international drill developer bburg develop rig capable handing difficult terrain solomon operation pilbara innovation part ongoing evolution jsw fleet see new drill added 2020',\n",
              " 'shell partner simply blue energy develop emerald floating wind project jan 27 2021 shell signed agreement irish developer simply blue energy acquire 51 share simply blue energy kinsale venture set develop emerald project floating wind farm celtic sea south coast ireland',\n",
              " 'john collins received phd physical analytical chemistry university massachusetts boston 2014 finishing postdoctoral work texas spectroelectrochemical chemistry university california santa barbara graphene quantum dot synthesis john joined ibm team tj watson center research 2016',\n",
              " 'infosys recognized one 2021 world ethical company ethisphere ethispheres ethic quotient proprietary rating system collect objectively score selfreported data five weighted category governance leadership reputation ethic compliance program culture ethic environmental societal impact',\n",
              " 'hendrik f hamann principal research staff member senior research manager tj watson research center received phd university g ttingen germany since joining ibm worked wide breadth project combination physical model machinelearning big data technology internet thing iot sensorbased physical modeling system physic application renewable energy energy management well nanotechnology',\n",
              " 'increasingly sophisticated cyber criminal launching attack corporate espionage financially motivated attack crippling life science company cost valuable time company work restore critical file',\n",
              " 'jp search contact u asahi group central research center run asahi quality innovation ltd engages research theme may lead midtolong term development company rd division group company carry relevant rd directly link business operation development product quality assurance measure',\n",
              " 'boeing successfully built trained machinelearning algorithm identify pattern data make recommendation accurately within minute',\n",
              " 'research goal directed toward understanding molecular selfassembly threedimensional 3d shape current research focusing microengineered 3d soft matter interface biological sample like cell tissue work fundamental step toward bottomup 3d fabrication smallscale 3d electrode built hierarchically understanding engineering thin film selffolding mechanism micro nanoscales since draw diverse set discipline including soft material biology engineering approach research topic great impact three field including material science biomedical science information technology',\n",
              " 'company collaborating nuclear fuel industry ltd well professor yutaka kagawa research center advanced science technology rcast university tokyo professor takashi goto institute material research tohoku university',\n",
              " 'combine cuttingedge lightweight technology built using carefully chosen material low energy co2 footprint',\n",
              " 'samsung ranked india trusted brand brand intelligence firm tra tras brand trust report 2018 syndicated research conducted amongst 2488 consumerinfluencers across 16 city india samsung consistently maintained dominance innovative product coupled aggressive marketing initiative',\n",
              " 'samsung rd institute india bangalore srib conferred national intellectual property award 2018 government india category top foreign public limited companyprivate limited company patent commercialization srib previously national intellectual property award 2015',\n",
              " 'groundbreaking laser system employ highperformance femtosecond laser technology characterized outstanding cutting precision highly efficient speed gentle treatment technique accuracy predictability visumax laser allowed patient previously ineligible lasik procedure',\n",
              " 'rd science technology team offering externally recognised expertise capability drive growth science technology team keep close eye emerging trend stay touch ahead major developmentsrd global design team responsible developing distributing latest technical expertise formulationsrd cluster category design team agile locally connected team deliver product market',\n",
              " 'solving today architecting future 7000 technologist analytics professional part broad diverse team talent expertise every specialty software data engineering cybersecurity analytics agile delivery product management cloud emerging technology',\n",
              " 'gartner recognized wipro leader field application testing service fifth year row',\n",
              " 'infosys 2020 golden peacock global award excellence corporate governance category award validates collaborative inclusive style ethical management adopted infosys',\n",
              " 'sanofi working institut pasteur since 1976 proud cosponsor sanofi institut pasteur award',\n",
              " 'voice banking latest series customerfocused innovation u bank launched recently including persontoperson payment service zelle u bank loan portal mortgage customer online tool receive quick car loan approval via autogravity safe convenient credit card payment travel mobile location service',\n",
              " 'mindtree win golden peacock award corporate social responsibility institute director',\n",
              " 'without orchestration infrastructure service iaa platform limited confined cloud environment use openstack business able run new technology container proven technology including vms container require thin operating system run application providing ability increase workload density openstack environment without purchase hardware use container creating infrastructure efficiency scalability seamless moving workload openstack vmware public cloud necessary become effortless',\n",
              " 'professor oliver hart 2016 corecipient nobel prize economic science currently professor harvard university known work contract theorist well true specialist pitfall contract design devoted latest research world corporate sustainable contribution joined michael baldinger head sustainable impact investing ubs asset management webinar discus implication covid19 pandemic mean investor',\n",
              " 'promotion innovative idea long tradition within vodafone past year vodafone able support advance many innovative solution project looking company new solution improve networking business private customer make process simpler efficient application phase smart solution award begun application submitted 19th august 2013',\n",
              " 'lpwa low power wide area lpwa describes fastgrowing class connectivity technology meet iot solution demand cost power efficiency global reach robust security',\n",
              " 'also key understanding improve environmental societal economic impact productswe invest science scientific research champion responsible research development rd',\n",
              " 'samsung received award customer fest india outstanding achievement superior performance contact centre customer fest show conceived managed kamikaze b2b medium recognises brand excellence customer loyalty customer experience',\n",
              " 'family bluefin robotics product consists autonomous unmanned underwater vehicle uuvs related technology defense commercial scientific customer worldwide offer full range modular freeflooded uuv platform product including 70 different sensor 100 vehicle blue ducted thruster may recognizable feature representing long history proven performance',\n",
              " 'recently three party shanghai refire technology co ltd hereinafter referred refire changshu high tech industrial development zone management committee hereinafter referred changshu high tech zone management committee toyota tsusho corporation shanghai co ltd hereinafter referred toyota tsusho recently concluded letter intent cooperation agreement jointly build heavyduty fcv showcase application project purpose accelerating application fcvs changshu',\n",
              " 'qualcomm incorporated nasdaq qcom today announced subsidiary qualcomm technology inc completed acquisition worldclass cpu technology design company nuvia 14 billion working capital adjustment',\n",
              " 'global team researcher scientist harness cuttingedge science push boundary possible cultivate external collaboration strong research capability bring lifechanging therapy patient worldwide',\n",
              " 'takeda share commitment developing novel anticancer therapy meaningfully improve life patient look forward collaborating create important new adc product candidate commented daniel junius immunogen president ceo',\n",
              " 'project fully line 20142020 industrial acceleration plan launched moroccan authority support development innovative ecosystem involving thales local supplier creation hightech industrial competence centre one three main area cooperation thales morocco',\n",
              " 'company strengthening presence investing new facility leadingedge research well advancing educational environmental social program support european union longterm innovation goal',\n",
              " 'twaice software company headquartered munich launched platform aimed helping energy storage system operator manage profitable use asset impact health battery',\n",
              " 'austrianova committed highest standard product safety customer satisfaction intended performance regulatory compliance throughout rd gxp manufacturing service fundamental quality standard austrianova apply employee every function operation',\n",
              " 'advance aspect digital strategy sanofi strengthened relationship evidation health two company work together next three year use evidations real life study platform help increase sanofis understanding daily burden disease develop innovative solution help improve therapeutic outcome sanofi tap evidations expertise pioneer quantifying impact various realworld factor including patient behavior eventual outcome course treatment',\n",
              " 'brave spark launch immersive 3d proton therapy experience hitachi',\n",
              " 'thomson reuters recognized campus forward honoree ripplematch studentnomination north american campus program awarded commitment early career talent diversity inclusion virtual intern experience',\n",
              " 'technology developing vegetable oil refining purification technology implemented next 12 month aim provide environmentally benign sustainable novel technology reduce free fatty acid content trace metal contamination',\n",
              " 'virtual development process partially related basic research enable cnh industrial get step ahead competition allowing create higher level intelligence integrate powertrain innovation larger scale look energy management final product whole rather engine alone',\n",
              " 'forgefx developed number virtual training simulator product ge healthcare including application mr ct vascular field engineer training simulator allow ge healthcare field engineer train technical maintenance diagnostic imagining equipment standard computer without need access realworld equipment',\n",
              " 'cia award innovation tweet share share glt thrilled announce chemical industry association gsk innovation award new glycerol epoxypropanol upgrading technology strategic platform chemical waste stream biodiesel manufacture',\n",
              " 'helping skill workforce futurein western australia automation may disruptive impact community launched partnership government western australia south metropolitan tafe technical education develop first nationally recognised course automation partnership aim train certify people new skill making easily transferable people follow opportunity wherever find itread',\n",
              " 'vmware research develop idea push boundary technology fuel innovation influence company customer world explore research',\n",
              " 'looking fy2025 beyond rd engine internal research capability external partnership expected deliver steady stream nextgeneration therapy sustain growth program leverage new platform capability cell therapy gene therapy data science',\n",
              " 'rare neurologic diseasessanofi committed developing transformative therapy patient rare neurologic disease expertise led pioneering medicine rare lysosomal storage disorder fabry gaucher pompe disease well disease modifying therapy multiple sclerosis company research advanced novel approach treat rare kidney disease neurodegenerative disease parkinson disease associated glucocerebrosidase gba gene mutation clinical trial cornerstone effort includes developing gene therapy inherited neurologic ophthalmologic metabolic lysosomal storage disordersread',\n",
              " 'significant tech disruption renewables needed nowsmall change help robust technological revolution rolling soon replace fossil fuel large scaleto make energy generation transition happen need scale renewable energy source quickly continue current solar wind hydro technology fall short climate change mitigation even path 2 degree reach',\n",
              " 'agency work identify application program finding especially small midsized industriesthe cooperation total ademe kick october 17 call proposal concerning technology recover use lowtemperature heat ademe french environment energy management agency ademe public agency joint supervision ministry ecology sustainable development spatial planning ministry higher education research',\n",
              " 'bostontakedas global rd center based boston focused advancement lifechanging therapy patient worldwide four therapeutic area unit colocated greater boston area alongside research global development team center external innovation',\n",
              " 'vivendi heart world content platform interactive network vivendi combine world leader video game activision blizzard world leader music universal music group french leader alternative telecom sfr moroccan leader telecom maroc telecom group leading alternative telecom provider brazil gvt french leader pay tv canal group 2009 vivendi achieved revenue 271 billion adjusted net income 26 billion operation 77 country group 49000 employee',\n",
              " 'low latency vital application like selfdriving vehicle aiassisted smart medical device manufacturing robot millisecond literally eliminate disaster',\n",
              " 'han peter jensen chairman board adnox say goal adnox make positive impact environment green solution nox reduction newly entered cooperation thales established possibility introduce technology naval market thales well known respected within naval industry confident cooperation mutually beneficial two company',\n",
              " 'joint development agreement result new rd job green lizard technology wilton centre base speed prospect fullscale production plant wiltonfor information visit business quarter akzonobel make significant investment green lizard technology wilton centre akzonobel invest wilton centre company',\n",
              " 'leveraging game engine develop deploy training simulator forgefx able support dozen hardware operating system platform embracing author deploy anywhere strategy forgefxable guarantee client software run number current popular computer platform well ensure continue run future platform well',\n",
              " 'admin mar 4 2020 company news rdvigilant aerospace achieved several important milestone development flighthorizon safety system unmanned aircraft recent flight test oklahoma state university osu february 13 flight second series flight',\n",
              " 'realworld scenario illustrate risk medical device company leased manufacturing space 3d print orthopedic appliance intend ship distributor band holding several wire within printer break causing wire fall close printer heat source ignites ensuing fire cause smoke damage tenant property',\n",
              " 'krikey launched new augmented realitybased game yaatra association jio india',\n",
              " 'major project fleet heavy auxiliary equipment kept top mind thats yonder designed provide equipment manager site supervisor comprehensive data',\n",
              " 'total plan provide program 100 million financing five year ademe provide annual appropriation approximately 3 million defined yearly basisthis joint project line partner respective strategy',\n",
              " 'collaborate internal external educational institution provide necessary skill education career advancement also actively support employee participate international conference accumulate experience foundation global development addition support program acquiring degree improving language skill provided',\n",
              " 'risk associated merger acquisition frequent life science industry could include data breach newly acquired company could compromise value ip company acquired3',\n",
              " 'infosys recognized fastest growing ranked 4th among top 10 service brand brand finance one world leading brand valuation firm 2021 global 500 report',\n",
              " 'meet unique need pharmaceutical medical technology digital health company covering everything product liability cyber global risk protects business innovation people',\n",
              " 'recognized one 100 innovative company world saintgobain applies technological expertise achieving aim becoming reference sustainable habitat',\n",
              " 'bringing benefit people planet biotechbiotechnology application biological system develop ingredient product',\n",
              " 'addon module existing air conditioning system us solar energy generate extra cold relieve load existing air conditioning system using inverter technology combined module electricity consumption drastically reduced 80',\n",
              " 'vision show future intelligent connected machine operate within manufacturing system working independently based objective understanding complete production chain unlike previous change industry last millennium new technology combination system would impact every aspect life around world',\n",
              " 'said hope enjoyed found discussion helpful next client webinar international transaction banking related key trend consideration solution today global commerce',\n",
              " 'ell recognized ethisphere one world ethical company eighth time weve achieved award',\n",
              " 'washington metropolitan area transit authority wmata hired forgefx simulation develop 3d immersive computer simulation help change operator behavior better simulator help metro operator increasing risk awareness hazard identification improve proactive problem solving greatly enhance equipment operator training',\n",
              " 'work broad range client within vastly differing industry provide full spectrum brand independent financing solution type technology asset',\n",
              " 'scientific robustnesswe believe scientific research hypothesis driven follow principle scientific rigour',\n",
              " 'novartis maintained position 2021 access medicine index leading approach product delivery performing strongly across area index',\n",
              " 'search deen testing technologykbw blickle hydraulic test stand specifically designed meet requirement every single customer',\n",
              " 'infosys brandon hall group excellence technology award 2020 best advance employee referral technology category reppify best advance unique talent acquisition technology category infytq rebadge bot',\n",
              " 'develop improve cable network customer get latest video broadcast service solution work proprietary stateoftheart device matching endtoend solution lab integrate latest development multicast video compression encoding videoondemand new generation settop box introducing new product evaluate directly site',\n",
              " 'many traditional business insurance policy stop short providing adequate coverage abroad fortunately traveler offer full line global insurance coverage service available technology company including',\n",
              " 'architected modeldriven engineering principle besides providing strong semantic basis expression knowledge information automates generation implementation artefact develop tool technology digital platform enabling integrated design material manufacturing process product using combination physic based simulation data driven reasoning guided experiment supported decision support tool knowledge engineering system database schema workflow userscreens tool adaptor',\n",
              " 'raining suv indian car market jaguar hoping outright thunderous storm opening booking new fpace scheduled launch time come 2021 fpace promise long list update outside well cabin woo prospective customer continue offered petrol well diesel engine option',\n",
              " 'since enterprise operation spread globally accessing collecting integrating data multiple plantssites using cloud iot internet thing platform gaining importance already practiced digitally progressive organization',\n",
              " 'unitedhealth group longstanding commitment promoting incenting valuebased care unitedhealthcares valuebased partnership strong provider relationship increasing number physician demonstrating interest progressing riskbased payment model including capitation optum work provider across country move feeforservice valuebased care creating new choice patient delivering higher quality lower cost site service customizing payment model payer supporting physician focus delivering care',\n",
              " 'many year working together partner automotive industry development connected car',\n",
              " 'menu sih investment ga drillingslovak investment holding joined reputable slovak company ga drillingon 22nd march 2018 slovak investment holding became one investor slovak reputable hitech company ga drilling world pioneer developing innovative technology contactless drilling milling based electric plasma',\n",
              " 'cia award innovation tweet share share glt thrilled announce chemical industry association gsk innovation award new glycerol epoxypropanol upgrading technology strategic platform chemical waste stream biodiesel manufacture',\n",
              " 'june 2020 global mobile supplier association gsa identified 81 mobile network operator mnos 42 country launched 5g commercial service 385 mnos 125 country investing 5g development',\n",
              " 'addition technology providing date developing crossfunctional technology support initiative towards society 50 smart factory customer valueorientated company using latest digital technology iot ai edge computing advanced business concept world detailed business creation promoting initiative provide digital technology globally support total solution combining ot product system',\n",
              " '600 employee 30 nationality almost 130 phd bring together diverse scientific technical expertise including plant science cell molecular biology health psychology social science engineering physical science environmental human health science specialist information technology management ensure rd scientist worldwide access information need carry work efficiently',\n",
              " 'gemaltos m2m iot solution enable service personal device connected object cloud gemalto authenticates people transaction object encrypt data create value software enabling client 180 country deliver secure digital service billion individual thing',\n",
              " 'team came together create tc icme platform extension product engineering perspective knowledge assisted simulation driven engineering',\n",
              " 'thales research technology uk process analyse data new existing sensor order develop algorithm sense understand environment better sensing data fusion analysis enables u constantly improve functionality performance product service',\n",
              " 'award recognises innovation help solve societal challenge environmental improvement',\n",
              " 'global economic public health outlook brightened materially news leading covid19 vaccine candidate effective preventing 90 infection development enhances visibility potential pattern spending activity normalize towards prepandemic trend fostering comprehensive economic healing confident return robust broadbased earnings growth within tactical investment horizon',\n",
              " 'increase remote work also brought demand new technology support virtual environment allows collaboration keep company people safe',\n",
              " 'thales mitsubishi heavy industry mhi combine force develop innovative sonar technology clear sea mine',\n",
              " 'would like take research innovative drilling technology ultradeep geothermal wellscurrently 5year sustainability period project monitoredback top',\n",
              " 'organization treat employee crisis also reputational damage brand impact future recruitment indeed consumer perspective negative press effect corporate image know indicator enough make priority come whether company care bottom line place importance social issue',\n",
              " 'however vaccine broadly available winter u europe time expert fear seasonal resurgence virus uncertainty much protection vaccine might offer long would last protective safeguard need remain place distributed vaccine dissemination may also contribute uneven gradual recovery across geography access emerging market economy outside china russia likely lag developed nation',\n",
              " 'tepco group utilizes revolutionary technology service idea order create new value find solution issue faced company society general',\n",
              " 'virtual reality education horizon without doubt change world know twentyfirst century classroom technologically advanced place learning vr technology significantly increasing student engagement learning vr experience inspire whole new generation young bright student ready innovate change world',\n",
              " 'china prescient focus people skill putting country strong footing digital transformation success reflected study telstras recent research economist intelligence unit found mainland china alongside japan south korea leading way asia ai development',\n",
              " 'bain 1 glassdoors best place work list bain maintained spot top four glassdoors list last 13 year',\n",
              " 'counter increasing speed successful attack wide range attack vector improve often long delay launch discovery attack cyber defense system need collaborate near realtime sharing learning via trusted community working toward cyberecosystem risk decision automated machine human oversight advance machine learning large scale data analytics standard like trusted automated exchange indicator information taxii structured threat information expression stix play role toward capability',\n",
              " 'already reduced global manufacturing carbon footprint twothirds since 2008 want get zerowe constantly looking new way save energy cut emission cost',\n",
              " 'samsung voted 1 brand mobile handsetstablets consumer durables category 2 brand across category brand equity trusted brand survey extensive study conducted amongst 6500 consumer survey conducted collaboration nielsen arrive list india top 100 trusted brand across product category consumer segment',\n",
              " 'recognized benevity boldness creativity get empowered campaign received 2019 moonshot award',\n",
              " 'explore opportunity risk company developing iot tech medical healthcare industry',\n",
              " 'elliptic lab expands collaboration qualcomm window laptop tablet powered snapdragon compute platform',\n",
              " 'partnership innoenergy promotes integration education business entrepreneurship strengthen innovation culture initiative support entrepreneurship clean energy transforming project business reality',\n",
              " 'deep learning model advanced ai technique address nonlinear work interaction safety condition training toolparts availability work priority',\n",
              " '3d printer manufacturer stratasys announced launch latest multimaterial polyjet 3d printer',\n",
              " 'development new apis never routine process potential success sometimes year decade away future requires scientist maintain extraordinary passion deep sense commitment mission multiple setback expected along way tenacity must flexibility recognize new possibility may arise seeming failure',\n",
              " 'infosys nyse infy global leader nextgeneration digital service consulting presented prestigious united nation global climate action award climate neutral category un climate change conference cop 25 madrid spain',\n",
              " 'refire chairman ceo robin lin along company representative visited grinm group huairou nonferrous metal new material science park accompanied grinm group executive director general manager liu ying refire team visited several platform innovation company grinm group turn including grinm engineering technology research institute grinm resource environmental technology research institute china automotive battery research institute came better understand core technological achievement grinm group made hydrogen energy industrial chain following tour robin lin held discussion grinm group general manager xiong baiqing two jointly signed strategic cooperation agreement',\n",
              " 'tc research scholarship program launched 2010 provide major fillip quality research area computer science engineering information system technology software engineering',\n",
              " 'uber performed better quarter last quarter ending autonomous trucking effort shifting focus generating 28 billion revenue still reported net loss 891 million yet characteristic technology sector reinvests large amount revenue back service pursuing marketdisrupting innovation',\n",
              " 'mission create strategic growth opportunity takeda investing nurturing innovative life science company area aligned takedas rd focus include oncology gastroenterology neuroscience rare disease',\n",
              " 'astrazeneca entered collaboration agreement massachusetts general hospital mgh leveraging robust data clinical best practice create digital health solution address today urgent healthcare challenge',\n",
              " 'nippon steel historically leading pioneer developing high performance octgs sour service material well cras martensitic duplex high nickel alloy materialsthis explain number major oil gas company selected nippon steel long term partner',\n",
              " 'airbus helicopter inc u coast guard mh65 flight hour award developed recognize crew member flight experience mh65 award based hour flown hh65',\n",
              " 'meesho launched farmiso product anyone could use open online grocery store without investment',\n",
              " 'march 31 2020 innovationboeings partnership galicia spain shaping future safe autonomous air mobilitylearn',\n",
              " 'announced mobile world congress reliance jio infocomm samsung network award jio digital movement india gsmas global mobile award offer organisation across global mobile ecosystem opportunity showcase latest best mobile product apps device service initiative industry world',\n",
              " 'framework developed business team advising feasibility selection right process additive manufacturing 3d printing jointly implemented tc icme platform hosted tc cloud',\n",
              " 'september 29 refire grinm group met beijing sign strategic cooperation agreement according agreement party plan deeply collaborate comprehensively promoting rd application key material fuel cell stack including fuel cell membrane humidifiers catalyst membrane electrode assembly agreement also state party work together contribute largescale application industrialization china fuel cell vehicle',\n",
              " 'gail evans recognized diversity woman medias elite 100 list one one hundred extraordinary black woman executive changing face corporate america',\n",
              " 'stand quality quality management system engineering division certified since august 2014 accordance internationally valid quality standard din en iso 90012008 certification process structure process within engineering division reviewed also entire process chain customer enquiry service management business customer',\n",
              " 'technology rapidly changing world future tech innovation real impact people planet',\n",
              " 'year boeing computing research development team competitive differentiator helping company maintain position kao said',\n",
              " 'admin apr 13 2020 career company news rdvigilant aerospace announced opening new office north dakota take advantage highquality aerospace software engineering talent state stateemerging role silicon valley drone vigilant',\n",
              " 'rayveninfrastructure construction iot solution allow monitor utilization asset program maintenance minimize downtime',\n",
              " 'june american diabetes association 2018 scientific session sanofi announced agreement verily sensile medical develop commercialize new generation allinone prefilled insulin patch pump primarily serve people living type 2 diabetes cooperation combine sanofis expertise patientcentered diabetes solution insulin sensile medical leadership developing micropump technology medical use verilys experience microelectronic integration digital healthcare technology',\n",
              " 'infosys platinum award best investor relation team award asset esg corporate award 2020 infosys also environmental responsibility award carbon neutral programme social responsibility award rural household biogas unit competence building initiative',\n",
              " 'supply chain typically global comprised many different international supplier add firm cyber vulnerability one supplier without effective security control present weak link could allow cyber criminal infiltrate organization along chain firm also risk supplier access network may experience business continuity issue supplier fall victim cyber attack',\n",
              " 'renault kwid evdacia spring launched around r 15 lakh europe',\n",
              " 'newberry geothermal energy newgen collaborative effort lead team researcher pacific northwest national laboratory oregon state university altarock energy newgen team includes expert egs research development commercial power generation engineering hard science lead project forward maintaining educational outreach local scientific community combining research academic industry expertise dynamic group working push geothermal energy research forward newgen research site located western flank newberry volcano central oregon',\n",
              " 'infosys recognized top employer institute top employer 2021 across asia pacific europe middle east north america excellence employment practice',\n",
              " 'global innovation side may familiar upi india huge launch 365day 24 7 instant payment capability india done fantastic job rolling driving adoption faster payment around uk europe sepa instant credit transfer hitting large part marketplace',\n",
              " 'infosys received several award 2015 allasia executive team ranking institutional investor magazine technologyit service software sector fifth time row infosys received recognition multiple category including first place best cfo best investor relation best investor relation professional',\n",
              " 'fdd lay detail franchise opportunity includes information franchisor franchise system process agreement franchisee sign law franchisor cannot sell franchisee without providing fdd fifteen state require franchisors register fdds get approval document engaging franchising activity',\n",
              " '3d printing technology developer headmade material partnered 3d printing service bureau element22 develop novel 3d printed bike pedal design',\n",
              " 'fitforpurpose equipment incredibly strong designed withstand challenging environment rig configured need application',\n",
              " 'tim team working many year develop refining process scientific research thats crucial success lng',\n",
              " 'practo india leading integrated healthcare company recently launched veterinary telemedicine service platform carry mission create equitable healthcare access',\n",
              " 'infosys prestigious united nation global climate action award climate neutral category infosys corporate india earn recognition effort combat climate change',\n",
              " 'wmata hired forgefx develop 3d immersive computer simulation help change operator behavior better simulator help metro operator increasing risk awareness hazard identification improve proactive problem solving greatly enhance equipment operator training leveraging highfidelity graphic immersive virtual realitybased environment fully interactive virtual facsimile prime mover allows wmata forgefx deploy highlyeffective training simulator help improve operatorcritical thinking well command control railway procedure protocol',\n",
              " 'yes narrowband iot nbiot fit mmtc flavour 5g technology fastgrowing 3gpp cellular technology standard introduced release 13 address lpwan low power wide area network requirement iot standardised classified 5g technology 3gpp 2016 continue evolving 5g specification',\n",
              " 'genesys cloud customer experience contact centre solution provider launching new capability genesys cloud india enabling business keep interaction data located within country',\n",
              " 'thomson reuters awarded tech talent corporate initiative award leadhership1',\n",
              " 'port sunlight one unilevers largest centre research development creating new improved product global market work contributes brand dove omo rexona sunsilk',\n",
              " 'hard work developing plan net zero emission 2050 report progress along way',\n",
              " 'colworth lab part innovation ecosystem unilever rd entrepreneur academic network collaborate also home refreshment rd work safety assurance',\n",
              " 'addition principia biopharma rd community sanofi also investigating aspect type 2 pathway mast cell type white blood cell enzyme called tyrosine kinase using tailored covalency technology team targeting substance goal restoring balance type 2 immune response quality life patient',\n",
              " 'mercer ireland win excellence dc award irish pension award',\n",
              " 'infosys 2017 golden peacock environment management award',\n",
              " 'assist contractor developing better understanding exposure associated crane rigging operation traveler also developed mobile crane safety training program separate virtual reality experience offered client almost two decade signature course professional crane operation 45 day length attracted 6000 attendee including crane operator lift director member management',\n",
              " 'collaborating academia industry innovation hub able anticipate reduce technical market risk improve efficiency solve customer biggest strategic challenge',\n",
              " 'vmware sponsor collaborates number academic research center u internationally collaboration bring together leading academic researcher across number field technical staff across vmware jointly envision explore future computing recent center partnership include',\n",
              " 'think crisis huge driver change purpose movement already underway partly attributable younger demographic society younger shareholder hope continues hope see activist investor pushing company factor esg consideration business strategy',\n",
              " 'well fargo corporate investment banking cib well fargo security wfs trade name used corporate banking capital market investment banking service well fargo company subsidiary including limited well fargo security llc member nyse finra nfa sipc well fargo prime service llc member finra nfa sipc well fargo bank na well fargo security llc well fargo prime service llc distinct entity affiliated bank thrift',\n",
              " 'datadriven company harness technology cloud artificial intelligence aimachine learning blockchain geospatial others enable new product service empowered agile team deliver solution enable faster decisionmaking speed market focus innovative technology solution earned 60 patent far traveler',\n",
              " 'continued told u wanted efficient delivery mechanism precise hedging vehicle type feedback exactly need innovate solution today market successfully innovate vacuum look customer tell u need manage risk facing',\n",
              " 'boeing committed aerospace leadership expanding possibility human life way havent yet imagined cannot reveal full depth know healthy portion experience happy share interest shaping tomorrow let begin discussion today',\n",
              " 'example boeing pushing transition augmented reality technology production environment moreeffective way provide location documentation maintenance assembly instruction mechanic year boeing horizonx innovation cell focused accelerating potentially transformative aerospace technology manufacturing innovation company announced involvement upskill company provides software augmented reality wearable enhance productivity quality safety manufacturing',\n",
              " 'flexible technology foundation architecture critical keeping accelerating pace business today guiding premise common possible unique necessary invest leverage extensively working cloudbased solution microservices opensource technology mix marketleading package insurtech solution allows u develop proprietary solution differentiate u',\n",
              " 'micron started fourperson semiconductor design company basement boise idaho dental office micron first contract design 64k memory chip mostek corporation',\n",
              " 'first ola electric vehicle launched june factory ready bhavish aggarwal',\n",
              " 'wevolver amsterdam netherlands partnership material company mitsubishi chemical advanced material lenzburg switzerland announced jan 26 launch kyronmax design challenge',\n",
              " 'government efficent tool disposal address climate change including subsidy green energy investment research development carbon tax',\n",
              " 'hitechproject team developed wall model angle developed different view detail surrounding area3d modeling visualization mixed use buildinghitech undertook project delivering architectural model developing mixed use building hotel commercial office mall existing rail yard spread 210 million sq',\n",
              " 'recently issued patent inert build chamber design exone manufacturer binder jet 3d printer announced new version x1 160pro 3d printer',\n",
              " 'trusted proactive partnership single point accountability visibility network performance proactively help wood bagot optimise usage whilst offering quick dependable support',\n",
              " 'innovate across eight key global rd centre six country u uk netherlands italy india china ourglobal centre excellence powered world class technology ecosystem food innovation centre wageningen netherlandsour research aim bring together best thinking idea wherever exist including university strategic company innovate boldly people planet strong record breakthrough innovation disruptive technology meet consumer need better available alternative make big impact',\n",
              " 'cyber risk omnipresent technology company 5 risk tech company consider along traveler cyberfirst insurance help',\n",
              " 'ubs equal opportunity employer respect seek empower individual support diverse culture perspective skill experience within workforce',\n",
              " 'leo gross research staff member ibm research zurich leo joined ibm receiving phd physic free university berlin work focused atomic molecular manipulation scanning tunneling microscopy stm atomic force microscopy afm well nanostencil lithography 2009 coworkers pioneered atomic resolution molecule afm using functionalized tip leo recipient 2012 feynman prize nanotechnology gerhard ertl young investigator award 2010',\n",
              " 'believe gm crop safe traditional counterpart fully support regulatory control around gm technology continued scientific research area',\n",
              " 'inspired drive passion intellectual curiosity team technology committed providing diverse innovation program inspire member vmware community explore possibility vmware team member encouraged empowered constantly challenge status quo ask explore new technology learn',\n",
              " 'provide customised hard software solution convince quality service range following priority expert advice project supporthard software developmentprototypes serial productionbased many year experience field development able offer product attractive price many project form basis component selection besides technically optimal solution focus also low cost longterm availability component',\n",
              " 'new medical device side effect risk traveler open emerging unusual complex technology risk offer insurance solution tailored medical technology industry',\n",
              " 'company employee travel overseas overseas enterprise dedicated multinational team technology life science underwriter partner team identify potential international risk bring comprehensive multiline capability global digital health customer',\n",
              " 'featuring complete line horizontal directional drill vermeer market leader underground utility installation need infrastructure development underground utility installation rising around world need skilled hdd operator skyrocketing meet growing demand vermeer partnered forgefx simulation developed hdd training tool',\n",
              " 'pierer mobility ag bajaj auto strengthening strategic cooperation development electric twowheelers first product set hit market 2022',\n",
              " 'infosys german brand award 2020 excellence brand strategy creation',\n",
              " 'speed economic activity normalize function efficacy vaccine much produced uptake news suggests one major pillar solved relatively high prevention rate could also help boost adoption well development fortifies conviction broadly available vaccine allow herd immunity achieved many advanced economy q32021',\n",
              " 'cnh industrial long tradition involvement national international working group played active role collaborative research project year project focus mainly ecoefficiency specifically addressing reduction polluting emission fuel consumption use alternative fuel efficient use alternative propulsion',\n",
              " 'medicaroid corp said tuesday become first japanese company receive health ministry approval manufacture sell roboticassisted surgery system',\n",
              " 'sanofi plan work rapidly ass best potential candidate mrna vaccine target alignment strategic priority also pursues wide range technology inside outside company lab improve vaccine public health',\n",
              " 'development vsphere integrated container show vmware drive innovation research sometimes happy accident',\n",
              " 'sanofi signed french transparency charter use animal scientific regulatory purpose engagement followed signature belgian agreement committed making information use animal scientific regulatory purpose accessible general public',\n",
              " 'order invent develop advanced technological solution framework necessary offer employee opportunity learn experiment thanks 25000 engineer researcher investment research development almost 20 turnover thales creates 300 invention 15000 patent year every country thales working policy partnership industry local scientific world',\n",
              " 'asahi group research development center moriya groupwide operating model create technology synergy new value rd activity crossing organizational border',\n",
              " 'tceb launch mouse winnovation give mouse entrepreneur ready suite tech solution allround support go digital',\n",
              " 'safran stand showcasing collaborative innovation example zodiac aerospace price induction turbotech industrie presenting several breakthrough involving propulsion energy',\n",
              " 'another product showcased u 2020 auto expo electric version altroz smartlooking hatchback proven successful product homegrown carmaker',\n",
              " 'extraordinary idea transform tomorrow born today vmware research academic program home industry researcher university faculty student around world collaborating develop idea influence future technology learn',\n",
              " 'believe gm crop safe traditional counterpart fully support regulatory control around gm technology continued scientific research area',\n",
              " 'geothermal energy clean safe plentiful energy source minimizes ecological impact better renewable source power next 20 year 50 gw coal 40 gw nuclear power retired geothermal renewable energy source capability replace base load energy greenfield egs egs stimulation existing well deliver 500 gw power according mitstudy future geothermal energy published 2007',\n",
              " 'thales pioneered holistic approach security next generation solution secure device data manage device lifecycles portfolio sims esim cellular iot module cybersecurity platform cinterion iot suite provide advanced security 5g ecosystem',\n",
              " 'major challenge efficient formulation design biopharmaceuticals associated inherent lack room temperature stability processing product storage shelflife many product marketed liquid product need refrigeration low temperature storage whilst spray freeze drying process used procedure expensive often involve complex operation therefore new alternative required supercritical fluid scf technology incorporation stabilising regulatory acceptable agent particle formation required shown viable attractive alternative',\n",
              " 'leap motion controller small device us two ir camera three infrared led observes hemispherical area front user leap motion software synthesizes 3d position data userhands rendered realtime virtual world motion action userreal hand calculated tracked used user input leap motion controller literally let reach swipe grab pinch punch way digital world',\n",
              " 'global supply chain brings global exposure technology manufacturer operating abroad company understand international operation create risk better positioned protect something go awry',\n",
              " 'medical robotic technology firm s innovation tuesday launched ssi multiarm novel telerobotic assistance surgical system country price r 45 crore',\n",
              " 'innovative partnership new technology create open innovation process integrate customer partner crowd vastly increase innovation potential',\n",
              " 'luisa bozano research scientist ibms almaden research center since 2000 research focus discovering developing method making selfassembling molecular electronics memory aimed significantly cheaper today siliconbased device native genova genoa italy luisa earned phd physic university california santa cruz 2001',\n",
              " 'weve involved mobile communication data transmission 20 year field autonomous driving weve supported many research study project',\n",
              " 'admin aug 9 2019 award recognition company news rdvigilant aerospace system unmanned system research institute usri oklahoma state university osu awarded state research development grant help integrate radar vigilantdrone safety product flighthorizon flighthorizon',\n",
              " 'electric twowheeler manufacturer detel today launched easy plus electric bike r 39999 exshowroom easy plus booked detels official website token amount r 1999',\n",
              " 'whether business web design software development system integration consulting another specialized field important keep business current today increasingly sophisticated threat',\n",
              " 'regard quality task deal systematically end set engineering quality management system accordance iso 9001 customer enquiry service management business customer continuously developing',\n",
              " 'also developed novel lowcost noninvasive screening early detection cad patient us fusion pcg ppg signal',\n",
              " '3d printed part food cause injury illness could result financially devastating lawsuit say mike thoma global technology chief underwriting officer traveler therein lie challenge field new one sure liable really could',\n",
              " 'arcore platform building augmented reality apps android platofrm arcore us three key technology integrate virtual content real world seen phonecameramotion tracking allows phone understand track position relative world environmental understanding allows phone detect size location flat horizontal surface like ground coffee table light estimation allowing phone estimate environmentcurrent lighting condition',\n",
              " 'firm approached hitech develop proposed 3d model revit render using 3d max envision design property landscape',\n",
              " 'russia angarsk electrolchemical plant aecc part rosatoms fuel company tvel 19 march launched pilot plant production batteryquality lithium hydroxide new production aecc mainly exportoriented potential customer manufacturer lithiumion battery component tvel said',\n",
              " 'many report functionality yeast detail functional mechanism made clear conduct research find new way effectively utilize yeast function give example develop functional feed reducing use antibiotic livestock industry search unknown health benefit develop technology utilize benefit functional ingredient',\n",
              " 'first steam ejector refrigeration system developed maurice leblanc 1910 gained popularity air conditioning application development chlorofluorocarbon refrigerant 1930and use vapour compression cycle much efficient alternative thermally driven cycle research development continued however ejector technology found application manyengineering field particularly chemical process industry',\n",
              " 'company open new opportunity market geothermal energy environmental plug abandonment oil well tunnelling exploration raw mineralsinvestment sih repayable form financing using innovative financial tool european structural investment fund operational programme research innovation',\n",
              " 'half thales dis employee work innovation rd giving rise many firsttomarket accomplishment demonstrate thales commitment expanding horizon possibility iot technology',\n",
              " 'framework useful carrying endtoend analytics starting raw data sensor manufacturing process plant prescriptive analytics coming recommendation improving operation term kpis either process equipment',\n",
              " 'mfiles acquires hubshare strengthen external content sharing collaboration deliver bestinclass digital client experience',\n",
              " 'pioneering hydrogen new lowcarbon fuel part worldfirst pilot funded uk government thats aiming demonstrate hydrogen fuel used lowcarbon alternative natural gas industrial scalewe piloting fuel manufacturing process port sunlight factory uk',\n",
              " 'illinois hospital launch augmented reality spine surgery',\n",
              " 'admin jun 4 2020 company news rdvigilant aerospace system signed new patent license agreement national aeronautics space agency nasa covering use radar detectandavoid unmanned traffic management utm system including companyflighthorizon',\n",
              " 'research development ademe total sign memorandum understanding enhance energy efficiency industrial process 15102008 news october 15 2008 wednesday october 15 2008 french environment energy management agency ademe total signed memorandum understanding concerning management financing joint research development program make industrial process energy efficient',\n",
              " 'infosys asia best inhouse tax team year euromoney international tax review',\n",
              " 'particular promoting use open innovation method allow u bring new technology idea various company startup researcher research institute source around world order find solution issue cannot solve timely fashion',\n",
              " 'another partnership one france sanofi partnered ceritd voluntis develop telemedicine solution help people basalbolus diabetes adjust insulin dos data also supplied medical team support people living diabetes reaching glycemic target solution awarded netexplo digital transformation award identifies every year innovation use digital technology shaping society tomorrow digital technology integrated individual connected',\n",
              " 'investment foundational forwardlooking research thirtyfive year greatly strengthen ability partner customer today world business 40 competing idea innovating impact critical ever',\n",
              " 'scalable geothermalgeothermal energy renewable source clean baseload energy available 247365 work regardless weather condition daynight cyclethe hot core earth biggest accessible sustainable battery 99 volume hotter 1000 c constant predictable source free energy last 6 billion year',\n",
              " 'scientist specialize bioinformatics disease biology ai apply advanced analytics information combined realworld data patient health reveal pattern discover meaningful connection approach empowering sanofi researcher discover target new precise therapeutic reposition medicine already approved use also helping identify biomarkers guide patient assigned different group clinical studiesread story',\n",
              " 'seagate technology plc world leader data storage infrastructure solution today launched lyve data transfer service fleet lyve mobile data shuttle array service enabling business move mass data quickly securely simply edge private public hybrid cloud',\n",
              " 'mediclinic middle east launched first comprehensive robotic surgery programme announced week wholly owned subsidiary mediclinic international introduced da vinci xi hd 4 arm robotic system mediclinic city hospital dubai',\n",
              " 'developing concept worked three key foundational problem relevant manufacturing industry first dealing product manufacturing process integration second dealing processscale third dealing complex multiscale material design',\n",
              " 'tc created several tool data masking made progress area cryptography hash control access right management',\n",
              " 'project broad scope projectsalltype engineering provided workshop fabrication site installation construction maintenance service across almost every industry australia',\n",
              " 'tc recognized industry leader global scale operation strong business growth buyer satisfaction global delivery capapbilties emerging geography investment proprietary solution research',\n",
              " 'september 15 5th international hydrogen fuel cell vehicle congress fcvc 2020 refire tüv rheinland signed global strategic cooperation agreement according agreement future party pursue indepth collaboration many area including globallyrecognized certification fuel cell product sharing technical resource standard specification joint promotion related laboratorybased platform service addition senior representative respective company chairman ceo refire robin lin tüv rheinland vice president li weichun attended signing ceremony current role li weichun responsible company global electric power business electronic product service well serving general manager solar energy commercial product service greater china region',\n",
              " 'also focusing efficiency innovation reduce emission transporting product freezer retail stores100 renewable grid electricitysince start 2020 sourced 100 renewable grid electricity across operation worldwide',\n",
              " '5g changing everything manufacturing industrial iot smart car smart home smart city vast bandwidth blazing speed low latency unleashes powerful advance enables internet everything',\n",
              " 'global mindset focus dynamic market regulatory condition develop maintain fast accessible technology enables advanced trading risk management',\n",
              " 'mercer recognized esg leader insight mandate 2020 professional investment award',\n",
              " 'tool provides standard report chart drilldown view also includes specially designed analytics algorithm answer business question related identification area concern interesting subset unusually unhappy employee term shared characteristic root cause unhappiness whatif analysis generate optimal plan achieve desired increase employee satisfaction specific constraint',\n",
              " 'therefore qualified lift director involved lifting operation help prevent accident proper consideration given identifying best person fill role could site supervisor even another team member provided knowledge set required',\n",
              " 'stateoftheart mobile radio technology vodafone expanding urban infrastructure aldenhoven testing center dedicated research development testing facility unique europe test field permit eg interoperability test automotive solution various vehicle manufacturer network equipment provider network operator together aldenhoven testing center working open ecosystem future mobility',\n",
              " 'cnh industrial established innovation function dedicated research development rd part product development engineering operates across board encompassing every business geographic area dedicated team develop innovative product catering distinctive need region including emerging market see also page 212 innovation activity strictly related management intellectual property generation exchange idea well participation shared research project',\n",
              " 'patrick ruch research staff member science technology department ibm research zurich patrick studied material science swiss federal institute technology eth zurich received phd degree 2009 work electrochemical capacitor performed paul scherrer institut psi main research interest energy conversion storage application efficient computing system sustainable energy technology',\n",
              " '5g iot 5g iot technology new generation wireless technology represents fundamental change mobile ecosystem unleashing powerful combination extraordinary speed expanded bandwidth low latency increased power efficiency driving billion connection next five year changing world',\n",
              " 'io mobile operating system developed apple run exclusively hardware like iphones ipads io user interface input system based upon direct manipulation using multitouch gesture',\n",
              " 'project complex time frame quick easy design communicationsteel detailing construction mining industryhitech delivered special project steel detailing 1000 ton steel silo erection australia using tekla taking architectural structural drawing basis',\n",
              " 'inclusive culture attracts diverse talent imperative developing innovative solution make difference life customer agent broker community',\n",
              " 'tinkerlyinnovation lab comprehensive end end solution designed school amalgamation innovative unique science curriculum mapped teaching aid diy kit practice sheet mobile application assessment teaching aid focused learning methodology completely mapped schoolcurriculum based ncf guideline',\n",
              " 'unreal engine game engine developed epic game first showcased 1998 firstperson shooter game unreal although primarily developed firstperson shooter successfully used variety genre including stealth mmorpgs rpgs',\n",
              " 'development system digital twin requires various data mining analytics activity addition modeling optimization control',\n",
              " 'tc focus core clinical rd solution backed broadbased information management data service well positioned serve leading life science client looking improve drug development said jimit arora vice president service everest group',\n",
              " 'wendy wattenberg partner new yorkbased global client manager named one six finalist defined contribution institutional investment association inaugural diversity inclusion award',\n",
              " 'opened september 2009 shanghai first unilever rd site specifically designed increase integration collaboration moving forward blueprint unilevers rd organisation worldwideit deliver even bigger made china innovation faster rollouts unilevers key growth market around world stimulating better crosscategory crossborder synergiesthe investment 50 million firm demonstration unilevers confidence china increasingly important role hub innovation build company long heritage country stretch back 1923',\n",
              " 'thrilled nominated global energy award collaborative trendsetter category work plausible profile corrosion assessment model p square short industry disrupting model extensively reviewed endorsed global industry expert significant improvement existing model presented regulator international industry organization standard committee welcomed operator across world',\n",
              " 'since 2004 purchased around 29 million freezer containing natural refrigerant mandatory new freezer purchase use hcs rather hfcswe collaborate freezer manufacturer improve efficiency freezer buy also help reduce emission running cost retailer sell ice creamswe also exploring using renewable energy power freezer',\n",
              " 'samsung galaxy s6 edge awarded smartphone year award unique sleek designexhibit tech award felicitated technology brand different category outstanding contribution technology industry providing unmatched tech experience consumer',\n",
              " 'infosys standout ir award investor relation society collaboration bse kpmg india ir award screening committee judged bse 500 company parameter market cap institutional holding feedback buyside sellside',\n",
              " 'takeda focus rd effort four core therapeutic area oncology rare genetic hematology neuroscience gastroenterology targeted investment plasmaderived therapy vaccine focusing targeted patient population area high unmet need potential greater therapeutic benefit',\n",
              " 'vulcan technology launched new version vm120 metal machine courtesy vulcan technology',\n",
              " 'unitedhealth group research report present data analysis modeling targeted narrative insightful graphic address key health care challenge opportunity',\n",
              " '5g sims cinterion iot module iot gateway modem card thales delivering broad portfolio 5g solution connect secure nextgeneration device iot project offering seamless migration emerging network feature',\n",
              " 'tokyotoshiba corporation tokyo 6502 today announced concluded contract japan atomic energy agency jaea manufacture toroidal field coil international thermonuclear experimental reactor iter constructed cadarache france keihin product operation toshiba ihi power system corporation begin manufacturing coil end month iter facility total 18 coil initiate plasma experiment 2020',\n",
              " 'samsung awarded golden peacock award csr initiative samsung smart class samsung technical school 4th time currently samsung operates 483 samsung smart class jawahar navodaya vidyalayas 20 samsung technical school partnership industrial training institute iti',\n",
              " 'centre sponsor colworth medal one prestigious annual award conferred uk biochemical society first presented 1963 recognises outstanding research young biochemist nationality carried majority work uk',\n",
              " 'mg also planning introduce bigger battery pack option z ev could offer range around 500 kilometre rated 73kwh lot bigger current one',\n",
              " 'tcira 10yearlong joint research program takeda kyoto university center ip cell research application cira led prof shinya yamanaka nobel prizewinning researcher tcira engaged cuttingedge research clinical application ip induced pluripotent stem cell technology team working development regenerative medicine drug discovery determined provide patient innovative treatment method',\n",
              " 'skip content porkka product medical research next generation scientific medical porkka offer wide range refrigerator r freezer f chiller c neutral medicine cabinet ice machine incubator plasma freezer pharmacy refrigerator constant temperature storage room',\n",
              " '2015 total announced plan transform la de refinery unique facility france dedicated promising growth energy group region',\n",
              " 'u navy exercise mit student general dynamic engineer deployed modified bluefin21 unmanned underwater vehicle uuv designed carry number deep sea exploration sensor package fiveweek exercise used research operational capability arctic region test modified bluefin21 extreme condition ice',\n",
              " 'use waste agriculture industry society support biotechnologywe open transparent committed engaging stakeholder promote responsible development new biotechnology approach product',\n",
              " 'long history geothermal exploration research newberry volcano well suited geothermal research development significant geological geophysical geochemical hydrological microseismic data already collected newberry work newgen site aid developing advanced modeling scenario egs research development',\n",
              " 'infosys champion inclusion award working mother avtar inclusive company index mici 2020',\n",
              " 'netherlands rotterdam green hydrogen hub shell working together partner create green hydrogen hub port rotterdam',\n",
              " 'dedication building advanced technology embodied thales research technology uk trtuk one global network advanced research centre',\n",
              " 'use waste agriculture industry society support biotechnologywe open transparent committed engaging stakeholder promote responsible development new biotechnology approach product',\n",
              " 'developing new product result opportunity outweigh risk today digital technology make possible manufacturer stay competitive streamlined process enable efficiency precision also present new type threat many difficult detect one wrong command whether caused human error malicious code damage company product reputation customer confidence expertise risk management help protect people equipment bottom line continued growth year technological advancement come',\n",
              " 'innovation heart unilevers ambition grow sustainably science technology product development central plan keep providing consumer brand improve life positive impact environment society',\n",
              " 'whether frontend technology execution via webice via preferred isv research ice option analytics communication broker trading desk via ice chat metal market participant able easily trade minigold contract iceview mini gold product spec learn ice metal product',\n",
              " 'leveraging domain expertise lab tc icme platform offer number ontology knowledge engineering feature related material manufacturing process product system simulation tool etc',\n",
              " 'imsr patented innovation elegant solution problem integrating primary reactor component including graphite moderator sealed replaceable reactor core called imsr coreunit operating lifetime seven year simple safe replace',\n",
              " 'however recent year conventional reactor struggled remain commercially socially viable evolving global energy marketplace energy technology innovation sector successfully driven cost energy',\n",
              " 'october 28 first prize 2020 china automotive st award known noble prize china automobile industry awarded project key technology industrialization longlife fuel cell system commercial vehicle jointly completed refire 5 unit including shanghai jiao tong university tongji university yutong bus faw group dfm project stood 204 program total saecce 2020',\n",
              " 'sensible strategy individual company retain reserve saving extent insure another disastrous event addition cash liquid asset turned cash company share another way plan event kind',\n",
              " 'massive machine type communication energyefficient 5g adopts existing lte lpwan main focus efficiently transmitting low data volume intermittently device require wide area coverage long battery life efficiency come greater network capacity serve huge number device ideal application like smart meter track trace apps dependent speed latency optimal power efficiency nbiot ltem technology part mmtc category 5g',\n",
              " 'address concern metropath deployed darktrace heart network fourweek proof value pov onehour installation darktrace began selflearning every user device network develop distinctive sense self belonged network powered unsupervised machine learning ai algorithm darktrace detect subtle stealthy deviation normal network activity spotting stopping anomalous threat realtime damage',\n",
              " 'tc closely tracking substantial work underway area worldwide taken machine learning deep learningbased platformdriven approach using hardware software service bundled together develop unified offering screening monitoring therapy',\n",
              " 'gatik isuzu north america corporation form strategic collaboration develop evaluate fully autonomous medium duty truck',\n",
              " 'global mindset focus dynamic market regulatory condition develop maintain fast flexible accessible technology enables advanced trading risk management suite posttrade application focused supporting integrated market informed decisionmaking productivity operational efficiency',\n",
              " 'cmee patented technology seamlessly transforms light switch bulb iot device without need change wire use battery cmoopex tex module allows draw dc voltage power cpu touch display multiple sensor end circuit hence away need neutral wire typically exist switch side care wireless radio use let different technology talk',\n",
              " 'strong strategic partnership happen overnight put work align many client hr tech benefit administration platform result 35b book business technology platform partners1',\n",
              " 'general dynamic mission system delivers first knifefish surface mine countermeasure unmanned undersea vehicle system']"
            ]
          },
          "metadata": {
            "tags": []
          },
          "execution_count": 24
        }
      ]
    },
    {
      "cell_type": "code",
      "metadata": {
        "colab": {
          "base_uri": "https://localhost:8080/"
        },
        "id": "tOzmNVeHIH5Q",
        "outputId": "e0727d77-51a6-47bb-934a-bfdfbf444c0c"
      },
      "source": [
        "# vectorize the words in corpus using count vectorizer\n",
        "from sklearn.feature_extraction.text import CountVectorizer\n",
        "cv=CountVectorizer()\n",
        "x = cv.fit_transform(corpus).toarray()\n",
        "x"
      ],
      "execution_count": null,
      "outputs": [
        {
          "output_type": "execute_result",
          "data": {
            "text/plain": [
              "array([[0, 0, 0, ..., 0, 0, 0],\n",
              "       [0, 0, 0, ..., 0, 0, 0],\n",
              "       [0, 0, 0, ..., 0, 0, 0],\n",
              "       ...,\n",
              "       [0, 0, 0, ..., 0, 0, 0],\n",
              "       [0, 0, 0, ..., 0, 0, 0],\n",
              "       [0, 0, 0, ..., 0, 0, 0]])"
            ]
          },
          "metadata": {
            "tags": []
          },
          "execution_count": 126
        }
      ]
    },
    {
      "cell_type": "code",
      "metadata": {
        "colab": {
          "base_uri": "https://localhost:8080/"
        },
        "id": "LN5tXreoJjQK",
        "outputId": "a356a5be-b26c-45e2-956a-e14a6ad410e2"
      },
      "source": [
        "# using tfidf for giving weight to the words depends on their no of occurences\n",
        "tfidf = TfidfTransformer()\n",
        "X = tfidf.fit_transform(x)\n",
        "X = tfidf.transform(x)\n",
        "X.shape"
      ],
      "execution_count": null,
      "outputs": [
        {
          "output_type": "execute_result",
          "data": {
            "text/plain": [
              "(759, 5752)"
            ]
          },
          "metadata": {
            "tags": []
          },
          "execution_count": 127
        }
      ]
    },
    {
      "cell_type": "code",
      "metadata": {
        "id": "gNT9o24TCdGX",
        "colab": {
          "base_uri": "https://localhost:8080/"
        },
        "outputId": "a0258a67-d0ce-472c-d9c5-fc7d96f605a1"
      },
      "source": [
        "X"
      ],
      "execution_count": null,
      "outputs": [
        {
          "output_type": "execute_result",
          "data": {
            "text/plain": [
              "<759x5752 sparse matrix of type '<class 'numpy.float64'>'\n",
              "\twith 21346 stored elements in Compressed Sparse Row format>"
            ]
          },
          "metadata": {
            "tags": []
          },
          "execution_count": 32
        }
      ]
    },
    {
      "cell_type": "code",
      "metadata": {
        "id": "TNuEqKFce7GL",
        "colab": {
          "base_uri": "https://localhost:8080/"
        },
        "outputId": "2476b98c-b272-46e7-94a7-efbd636bd47e"
      },
      "source": [
        "y=data['Category class']\n",
        "#y=y.astype('int')\n",
        "\n",
        "#y=y.replace('Like','4')\n",
        "#y.unique()\n",
        "y.value_counts()"
      ],
      "execution_count": 25,
      "outputs": [
        {
          "output_type": "execute_result",
          "data": {
            "text/plain": [
              "Technologies                                  107\n",
              "company announcements or information          103\n",
              "Innovation                                    103\n",
              "awards and recognition                        103\n",
              "Research and development                      101\n",
              "Junk                                          100\n",
              "Product Launch                                100\n",
              "collaboration or agreement or partnerships     98\n",
              "Name: Category class, dtype: int64"
            ]
          },
          "metadata": {
            "tags": []
          },
          "execution_count": 25
        }
      ]
    },
    {
      "cell_type": "code",
      "metadata": {
        "colab": {
          "base_uri": "https://localhost:8080/",
          "height": 350
        },
        "id": "woMBjBC8fB_7",
        "outputId": "2a4d8bc3-6844-45f9-e95d-3f833e87bd74"
      },
      "source": [
        "import seaborn as sns\n",
        "sns.countplot(y)# checking whether it is imbalanced or balanced dataset"
      ],
      "execution_count": 26,
      "outputs": [
        {
          "output_type": "stream",
          "text": [
            "/usr/local/lib/python3.7/dist-packages/seaborn/_decorators.py:43: FutureWarning: Pass the following variable as a keyword arg: x. From version 0.12, the only valid positional argument will be `data`, and passing other arguments without an explicit keyword will result in an error or misinterpretation.\n",
            "  FutureWarning\n"
          ],
          "name": "stderr"
        },
        {
          "output_type": "execute_result",
          "data": {
            "text/plain": [
              "<matplotlib.axes._subplots.AxesSubplot at 0x7f6fdb22a5d0>"
            ]
          },
          "metadata": {
            "tags": []
          },
          "execution_count": 26
        },
        {
          "output_type": "display_data",
          "data": {
            "image/png": "[encoded data removed]",
            "text/plain": [
              "<Figure size 432x288 with 1 Axes>"
            ]
          },
          "metadata": {
            "tags": [],
            "needs_background": "light"
          }
        }
      ]
    },
    {
      "cell_type": "code",
      "metadata": {
        "colab": {
          "base_uri": "https://localhost:8080/"
        },
        "id": "5SWjM8R-9NC_",
        "outputId": "35fde6ec-f42e-43e8-c88e-7092c67e252f"
      },
      "source": [
        "from collections import Counter\n",
        "Counter(y)"
      ],
      "execution_count": null,
      "outputs": [
        {
          "output_type": "execute_result",
          "data": {
            "text/plain": [
              "Counter({1: 156, 2: 157, 3: 135})"
            ]
          },
          "metadata": {
            "tags": []
          },
          "execution_count": 51
        }
      ]
    },
    {
      "cell_type": "markdown",
      "metadata": {
        "id": "TPcSEXNffyot"
      },
      "source": [
        "## Model"
      ]
    },
    {
      "cell_type": "code",
      "metadata": {
        "colab": {
          "base_uri": "https://localhost:8080/",
          "height": 1000
        },
        "id": "gCeRmFmZV-Dq",
        "outputId": "f1feb2f8-0f87-4c80-e879-8c6a3616d6f3"
      },
      "source": [
        "!pip install lazypredict"
      ],
      "execution_count": null,
      "outputs": [
        {
          "output_type": "stream",
          "text": [
            "Collecting lazypredict\n",
            "  Downloading https://files.pythonhosted.org/packages/97/38/cadb2b79268c7f82f6b027bf0b2f68750aafc5c70b6e1bc46b357386e07b/lazypredict-0.2.9-py2.py3-none-any.whl\n",
            "Collecting joblib==1.0.0\n",
            "\u001b[?25l  Downloading https://files.pythonhosted.org/packages/34/5b/bd0f0fb5564183884d8e35b81d06d7ec06a20d1a0c8b4c407f1554691dce/joblib-1.0.0-py3-none-any.whl (302kB)\n",
            "\u001b[K     |████████████████████████████████| 307kB 17.5MB/s \n",
            "\u001b[?25hCollecting pytest==5.4.3\n",
            "\u001b[?25l  Downloading https://files.pythonhosted.org/packages/9f/f3/0a83558da436a081344aa6c8b85ea5b5f05071214106036ce341b7769b0b/pytest-5.4.3-py3-none-any.whl (248kB)\n",
            "\u001b[K     |████████████████████████████████| 256kB 25.0MB/s \n",
            "\u001b[?25hCollecting lightgbm==2.3.1\n",
            "\u001b[?25l  Downloading https://files.pythonhosted.org/packages/0b/9d/ddcb2f43aca194987f1a99e27edf41cf9bc39ea750c3371c2a62698c509a/lightgbm-2.3.1-py2.py3-none-manylinux1_x86_64.whl (1.2MB)\n",
            "\u001b[K     |████████████████████████████████| 1.2MB 30.1MB/s \n",
            "\u001b[?25hCollecting pandas==1.0.5\n",
            "\u001b[?25l  Downloading https://files.pythonhosted.org/packages/af/f3/683bf2547a3eaeec15b39cef86f61e921b3b187f250fcd2b5c5fb4386369/pandas-1.0.5-cp37-cp37m-manylinux1_x86_64.whl (10.1MB)\n",
            "\u001b[K     |████████████████████████████████| 10.1MB 47.2MB/s \n",
            "\u001b[?25hRequirement already satisfied: six==1.15.0 in /usr/local/lib/python3.7/dist-packages (from lazypredict) (1.15.0)\n",
            "Collecting scikit-learn==0.23.1\n",
            "\u001b[?25l  Downloading https://files.pythonhosted.org/packages/b8/7e/74e707b66490d4eb05f702966ad0990881127acecf9d5cdcef3c95ec6c16/scikit_learn-0.23.1-cp37-cp37m-manylinux1_x86_64.whl (6.8MB)\n",
            "\u001b[K     |████████████████████████████████| 6.8MB 40.7MB/s \n",
            "\u001b[?25hCollecting numpy==1.19.1\n",
            "\u001b[?25l  Downloading https://files.pythonhosted.org/packages/50/8f/29d5688614f9bba59931683d5d353d738d4a3007833219ee19c455732753/numpy-1.19.1-cp37-cp37m-manylinux2010_x86_64.whl (14.5MB)\n",
            "\u001b[K     |████████████████████████████████| 14.5MB 35.2MB/s \n",
            "\u001b[?25hRequirement already satisfied: click==7.1.2 in /usr/local/lib/python3.7/dist-packages (from lazypredict) (7.1.2)\n",
            "Collecting PyYAML==5.3.1\n",
            "\u001b[?25l  Downloading https://files.pythonhosted.org/packages/64/c2/b80047c7ac2478f9501676c988a5411ed5572f35d1beff9cae07d321512c/PyYAML-5.3.1.tar.gz (269kB)\n",
            "\u001b[K     |████████████████████████████████| 276kB 39.8MB/s \n",
            "\u001b[?25hCollecting tqdm==4.56.0\n",
            "\u001b[?25l  Downloading https://files.pythonhosted.org/packages/80/02/8f8880a4fd6625461833abcf679d4c12a44c76f9925f92bf212bb6cefaad/tqdm-4.56.0-py2.py3-none-any.whl (72kB)\n",
            "\u001b[K     |████████████████████████████████| 81kB 8.4MB/s \n",
            "\u001b[?25hCollecting scipy==1.5.4\n",
            "\u001b[?25l  Downloading https://files.pythonhosted.org/packages/dc/7e/8f6a79b102ca1ea928bae8998b05bf5dc24a90571db13cd119f275ba6252/scipy-1.5.4-cp37-cp37m-manylinux1_x86_64.whl (25.9MB)\n",
            "\u001b[K     |████████████████████████████████| 25.9MB 1.5MB/s \n",
            "\u001b[?25hCollecting xgboost==1.1.1\n",
            "\u001b[?25l  Downloading https://files.pythonhosted.org/packages/7c/32/a11befbb003e0e6b7e062a77f010dfcec0ec3589be537b02d2eb2ff93b9a/xgboost-1.1.1-py3-none-manylinux2010_x86_64.whl (127.6MB)\n",
            "\u001b[K     |████████████████████████████████| 127.6MB 42kB/s \n",
            "\u001b[?25hRequirement already satisfied: attrs>=17.4.0 in /usr/local/lib/python3.7/dist-packages (from pytest==5.4.3->lazypredict) (20.3.0)\n",
            "Requirement already satisfied: importlib-metadata>=0.12; python_version < \"3.8\" in /usr/local/lib/python3.7/dist-packages (from pytest==5.4.3->lazypredict) (3.8.1)\n",
            "Requirement already satisfied: more-itertools>=4.0.0 in /usr/local/lib/python3.7/dist-packages (from pytest==5.4.3->lazypredict) (8.7.0)\n",
            "Requirement already satisfied: packaging in /usr/local/lib/python3.7/dist-packages (from pytest==5.4.3->lazypredict) (20.9)\n",
            "Collecting pluggy<1.0,>=0.12\n",
            "  Downloading https://files.pythonhosted.org/packages/a0/28/85c7aa31b80d150b772fbe4a229487bc6644da9ccb7e427dd8cc60cb8a62/pluggy-0.13.1-py2.py3-none-any.whl\n",
            "Requirement already satisfied: py>=1.5.0 in /usr/local/lib/python3.7/dist-packages (from pytest==5.4.3->lazypredict) (1.10.0)\n",
            "Requirement already satisfied: wcwidth in /usr/local/lib/python3.7/dist-packages (from pytest==5.4.3->lazypredict) (0.2.5)\n",
            "Requirement already satisfied: python-dateutil>=2.6.1 in /usr/local/lib/python3.7/dist-packages (from pandas==1.0.5->lazypredict) (2.8.1)\n",
            "Requirement already satisfied: pytz>=2017.2 in /usr/local/lib/python3.7/dist-packages (from pandas==1.0.5->lazypredict) (2018.9)\n",
            "Collecting threadpoolctl>=2.0.0\n",
            "  Downloading https://files.pythonhosted.org/packages/f7/12/ec3f2e203afa394a149911729357aa48affc59c20e2c1c8297a60f33f133/threadpoolctl-2.1.0-py3-none-any.whl\n",
            "Requirement already satisfied: typing-extensions>=3.6.4; python_version < \"3.8\" in /usr/local/lib/python3.7/dist-packages (from importlib-metadata>=0.12; python_version < \"3.8\"->pytest==5.4.3->lazypredict) (3.7.4.3)\n",
            "Requirement already satisfied: zipp>=0.5 in /usr/local/lib/python3.7/dist-packages (from importlib-metadata>=0.12; python_version < \"3.8\"->pytest==5.4.3->lazypredict) (3.4.1)\n",
            "Requirement already satisfied: pyparsing>=2.0.2 in /usr/local/lib/python3.7/dist-packages (from packaging->pytest==5.4.3->lazypredict) (2.4.7)\n",
            "Building wheels for collected packages: PyYAML\n",
            "  Building wheel for PyYAML (setup.py) ... \u001b[?25l\u001b[?25hdone\n",
            "  Created wheel for PyYAML: filename=PyYAML-5.3.1-cp37-cp37m-linux_x86_64.whl size=44620 sha256=6cf05cfbb3c6f9ffea4e04e73e4031025f0c4abcf820b88a37ea762185729ac4\n",
            "  Stored in directory: /root/.cache/pip/wheels/a7/c1/ea/cf5bd31012e735dc1dfea3131a2d5eae7978b251083d6247bd\n",
            "Successfully built PyYAML\n",
            "\u001b[31mERROR: tensorflow 2.4.1 has requirement numpy~=1.19.2, but you'll have numpy 1.19.1 which is incompatible.\u001b[0m\n",
            "\u001b[31mERROR: google-colab 1.0.0 has requirement pandas~=1.1.0; python_version >= \"3.0\", but you'll have pandas 1.0.5 which is incompatible.\u001b[0m\n",
            "\u001b[31mERROR: datascience 0.10.6 has requirement folium==0.2.1, but you'll have folium 0.8.3 which is incompatible.\u001b[0m\n",
            "\u001b[31mERROR: albumentations 0.1.12 has requirement imgaug<0.2.7,>=0.2.5, but you'll have imgaug 0.2.9 which is incompatible.\u001b[0m\n",
            "Installing collected packages: joblib, pluggy, pytest, numpy, scipy, threadpoolctl, scikit-learn, lightgbm, pandas, PyYAML, tqdm, xgboost, lazypredict\n",
            "  Found existing installation: joblib 1.0.1\n",
            "    Uninstalling joblib-1.0.1:\n",
            "      Successfully uninstalled joblib-1.0.1\n",
            "  Found existing installation: pluggy 0.7.1\n",
            "    Uninstalling pluggy-0.7.1:\n",
            "      Successfully uninstalled pluggy-0.7.1\n",
            "  Found existing installation: pytest 3.6.4\n",
            "    Uninstalling pytest-3.6.4:\n",
            "      Successfully uninstalled pytest-3.6.4\n",
            "  Found existing installation: numpy 1.19.5\n",
            "    Uninstalling numpy-1.19.5:\n",
            "      Successfully uninstalled numpy-1.19.5\n",
            "  Found existing installation: scipy 1.4.1\n",
            "    Uninstalling scipy-1.4.1:\n",
            "      Successfully uninstalled scipy-1.4.1\n",
            "  Found existing installation: scikit-learn 0.22.2.post1\n",
            "    Uninstalling scikit-learn-0.22.2.post1:\n",
            "      Successfully uninstalled scikit-learn-0.22.2.post1\n",
            "  Found existing installation: lightgbm 2.2.3\n",
            "    Uninstalling lightgbm-2.2.3:\n",
            "      Successfully uninstalled lightgbm-2.2.3\n",
            "  Found existing installation: pandas 1.1.5\n",
            "    Uninstalling pandas-1.1.5:\n",
            "      Successfully uninstalled pandas-1.1.5\n",
            "  Found existing installation: PyYAML 3.13\n",
            "    Uninstalling PyYAML-3.13:\n",
            "      Successfully uninstalled PyYAML-3.13\n",
            "  Found existing installation: tqdm 4.41.1\n",
            "    Uninstalling tqdm-4.41.1:\n",
            "      Successfully uninstalled tqdm-4.41.1\n",
            "  Found existing installation: xgboost 0.90\n",
            "    Uninstalling xgboost-0.90:\n",
            "      Successfully uninstalled xgboost-0.90\n",
            "Successfully installed PyYAML-5.3.1 joblib-1.0.0 lazypredict-0.2.9 lightgbm-2.3.1 numpy-1.19.1 pandas-1.0.5 pluggy-0.13.1 pytest-5.4.3 scikit-learn-0.23.1 scipy-1.5.4 threadpoolctl-2.1.0 tqdm-4.56.0 xgboost-1.1.1\n"
          ],
          "name": "stdout"
        },
        {
          "output_type": "display_data",
          "data": {
            "application/vnd.colab-display-data+json": {
              "pip_warning": {
                "packages": [
                  "joblib",
                  "numpy",
                  "pandas",
                  "scipy",
                  "sklearn",
                  "yaml"
                ]
              }
            }
          },
          "metadata": {
            "tags": []
          }
        }
      ]
    },
    {
      "cell_type": "code",
      "metadata": {
        "id": "EPGIBuyiWkcc",
        "colab": {
          "base_uri": "https://localhost:8080/"
        },
        "outputId": "d99312eb-661b-4d3b-d06a-c7274edb502d"
      },
      "source": [
        "from lazypredict.Supervised import LazyClassifier"
      ],
      "execution_count": null,
      "outputs": [
        {
          "output_type": "stream",
          "text": [
            "/usr/local/lib/python3.7/dist-packages/sklearn/utils/deprecation.py:144: FutureWarning: The sklearn.utils.testing module is  deprecated in version 0.22 and will be removed in version 0.24. The corresponding classes / functions should instead be imported from sklearn.utils. Anything that cannot be imported from sklearn.utils is now part of the private API.\n"
          ],
          "name": "stderr"
        }
      ]
    },
    {
      "cell_type": "code",
      "metadata": {
        "id": "VZTf7ZDIuVjp"
      },
      "source": [
        "X=data['lemma']"
      ],
      "execution_count": null,
      "outputs": []
    },
    {
      "cell_type": "code",
      "metadata": {
        "id": "Z8Fr5_dlf6Yw"
      },
      "source": [
        "from sklearn.model_selection import train_test_split\n",
        "X_train,X_test,y_train,y_test=train_test_split(X,y,test_size=0.2,random_state=123)\n"
      ],
      "execution_count": null,
      "outputs": []
    },
    {
      "cell_type": "code",
      "metadata": {
        "colab": {
          "base_uri": "https://localhost:8080/",
          "height": 357
        },
        "id": "qQWD5ACkXNab",
        "outputId": "deac6f61-83c9-4e38-f49b-30ceb4bd25fd"
      },
      "source": [
        "clf=LazyClassifier(verbose=0,ignore_warnings=True, custom_metric=None)\n",
        "models,predictions = clf.fit(X_train, X_test, y_train, y_test)\n",
        "\n",
        "print(models)"
      ],
      "execution_count": null,
      "outputs": [
        {
          "output_type": "error",
          "ename": "AttributeError",
          "evalue": "ignored",
          "traceback": [
            "\u001b[0;31m---------------------------------------------------------------------------\u001b[0m",
            "\u001b[0;31mAttributeError\u001b[0m                            Traceback (most recent call last)",
            "\u001b[0;32m<ipython-input-53-b7d93c2cd598>\u001b[0m in \u001b[0;36m<module>\u001b[0;34m()\u001b[0m\n\u001b[1;32m      1\u001b[0m \u001b[0mclf\u001b[0m\u001b[0;34m=\u001b[0m\u001b[0mLazyClassifier\u001b[0m\u001b[0;34m(\u001b[0m\u001b[0mverbose\u001b[0m\u001b[0;34m=\u001b[0m\u001b[0;36m0\u001b[0m\u001b[0;34m,\u001b[0m\u001b[0mignore_warnings\u001b[0m\u001b[0;34m=\u001b[0m\u001b[0;32mTrue\u001b[0m\u001b[0;34m,\u001b[0m \u001b[0mcustom_metric\u001b[0m\u001b[0;34m=\u001b[0m\u001b[0;32mNone\u001b[0m\u001b[0;34m)\u001b[0m\u001b[0;34m\u001b[0m\u001b[0;34m\u001b[0m\u001b[0m\n\u001b[0;32m----> 2\u001b[0;31m \u001b[0mmodels\u001b[0m\u001b[0;34m,\u001b[0m \u001b[0mpredictions\u001b[0m \u001b[0;34m=\u001b[0m \u001b[0mclf\u001b[0m\u001b[0;34m.\u001b[0m\u001b[0mfit\u001b[0m\u001b[0;34m(\u001b[0m\u001b[0mX_train\u001b[0m\u001b[0;34m,\u001b[0m\u001b[0mX_test\u001b[0m\u001b[0;34m,\u001b[0m\u001b[0my_train\u001b[0m\u001b[0;34m,\u001b[0m\u001b[0my_test\u001b[0m\u001b[0;34m)\u001b[0m\u001b[0;34m\u001b[0m\u001b[0;34m\u001b[0m\u001b[0m\n\u001b[0m\u001b[1;32m      3\u001b[0m \u001b[0;34m\u001b[0m\u001b[0m\n\u001b[1;32m      4\u001b[0m \u001b[0mprint\u001b[0m\u001b[0;34m(\u001b[0m\u001b[0mmodels\u001b[0m\u001b[0;34m)\u001b[0m\u001b[0;34m\u001b[0m\u001b[0;34m\u001b[0m\u001b[0m\n",
            "\u001b[0;32m/usr/local/lib/python3.7/dist-packages/lazypredict/Supervised.py\u001b[0m in \u001b[0;36mfit\u001b[0;34m(self, X_train, X_test, y_train, y_test)\u001b[0m\n\u001b[1;32m    269\u001b[0m             \u001b[0mX_test\u001b[0m \u001b[0;34m=\u001b[0m \u001b[0mpd\u001b[0m\u001b[0;34m.\u001b[0m\u001b[0mDataFrame\u001b[0m\u001b[0;34m(\u001b[0m\u001b[0mX_test\u001b[0m\u001b[0;34m)\u001b[0m\u001b[0;34m\u001b[0m\u001b[0;34m\u001b[0m\u001b[0m\n\u001b[1;32m    270\u001b[0m \u001b[0;34m\u001b[0m\u001b[0m\n\u001b[0;32m--> 271\u001b[0;31m         \u001b[0mnumeric_features\u001b[0m \u001b[0;34m=\u001b[0m \u001b[0mX_train\u001b[0m\u001b[0;34m.\u001b[0m\u001b[0mselect_dtypes\u001b[0m\u001b[0;34m(\u001b[0m\u001b[0minclude\u001b[0m\u001b[0;34m=\u001b[0m\u001b[0;34m[\u001b[0m\u001b[0mnp\u001b[0m\u001b[0;34m.\u001b[0m\u001b[0mnumber\u001b[0m\u001b[0;34m]\u001b[0m\u001b[0;34m)\u001b[0m\u001b[0;34m.\u001b[0m\u001b[0mcolumns\u001b[0m\u001b[0;34m\u001b[0m\u001b[0;34m\u001b[0m\u001b[0m\n\u001b[0m\u001b[1;32m    272\u001b[0m         \u001b[0mcategorical_features\u001b[0m \u001b[0;34m=\u001b[0m \u001b[0mX_train\u001b[0m\u001b[0;34m.\u001b[0m\u001b[0mselect_dtypes\u001b[0m\u001b[0;34m(\u001b[0m\u001b[0minclude\u001b[0m\u001b[0;34m=\u001b[0m\u001b[0;34m[\u001b[0m\u001b[0;34m\"object\"\u001b[0m\u001b[0;34m]\u001b[0m\u001b[0;34m)\u001b[0m\u001b[0;34m.\u001b[0m\u001b[0mcolumns\u001b[0m\u001b[0;34m\u001b[0m\u001b[0;34m\u001b[0m\u001b[0m\n\u001b[1;32m    273\u001b[0m \u001b[0;34m\u001b[0m\u001b[0m\n",
            "\u001b[0;32m/usr/local/lib/python3.7/dist-packages/pandas/core/generic.py\u001b[0m in \u001b[0;36m__getattr__\u001b[0;34m(self, name)\u001b[0m\n\u001b[1;32m   5139\u001b[0m         \u001b[0mPositional\u001b[0m \u001b[0marguments\u001b[0m \u001b[0mto\u001b[0m \u001b[0;32mpass\u001b[0m \u001b[0mto\u001b[0m\u001b[0;31m \u001b[0m\u001b[0;31m`\u001b[0m\u001b[0mfunc\u001b[0m\u001b[0;31m`\u001b[0m\u001b[0;34m.\u001b[0m\u001b[0;34m\u001b[0m\u001b[0;34m\u001b[0m\u001b[0m\n\u001b[1;32m   5140\u001b[0m     \u001b[0;34m**\u001b[0m\u001b[0mkwargs\u001b[0m\u001b[0;34m\u001b[0m\u001b[0;34m\u001b[0m\u001b[0m\n\u001b[0;32m-> 5141\u001b[0;31m         \u001b[0mKeyword\u001b[0m \u001b[0marguments\u001b[0m \u001b[0mto\u001b[0m \u001b[0;32mpass\u001b[0m \u001b[0mto\u001b[0m\u001b[0;31m \u001b[0m\u001b[0;31m`\u001b[0m\u001b[0mfunc\u001b[0m\u001b[0;31m`\u001b[0m\u001b[0;34m.\u001b[0m\u001b[0;34m\u001b[0m\u001b[0;34m\u001b[0m\u001b[0m\n\u001b[0m\u001b[1;32m   5142\u001b[0m \u001b[0;34m\u001b[0m\u001b[0m\n\u001b[1;32m   5143\u001b[0m     \u001b[0mReturns\u001b[0m\u001b[0;34m\u001b[0m\u001b[0;34m\u001b[0m\u001b[0m\n",
            "\u001b[0;31mAttributeError\u001b[0m: 'Series' object has no attribute 'select_dtypes'"
          ]
        }
      ]
    },
    {
      "cell_type": "code",
      "metadata": {
        "id": "1N4MHaNOhk3u"
      },
      "source": [
        "from sklearn.naive_bayes import MultinomialNB\n",
        "from sklearn.svm import SVC\n",
        "from sklearn.tree import DecisionTreeClassifier\n",
        "from sklearn.ensemble import RandomForestClassifier,AdaBoostClassifier\n",
        "from sklearn.linear_model import LogisticRegression\n",
        "from sklearn import metrics\n",
        "from xgboost import XGBClassifier\n",
        "from sklearn.model_selection import RepeatedStratifiedKFold\n",
        "from sklearn.model_selection import GridSearchCV\n",
        "from sklearn.model_selection import RandomizedSearchCV\n",
        "\n",
        "from statsmodels.stats.outliers_influence import variance_inflation_factor\n",
        "\n",
        "#metrics evaluation\n",
        "from sklearn.metrics import roc_curve,roc_auc_score,accuracy_score,f1_score,confusion_matrix,classification_report,cohen_kappa_score\n"
      ],
      "execution_count": null,
      "outputs": []
    },
    {
      "cell_type": "code",
      "metadata": {
        "id": "uf9AtyEfieS-"
      },
      "source": [
        "result_tab=pd.DataFrame(columns=['Model_Name','Model'])"
      ],
      "execution_count": null,
      "outputs": []
    },
    {
      "cell_type": "code",
      "metadata": {
        "id": "dJgL08P3i_yu"
      },
      "source": [
        "#Building models and evaluating metrics\n",
        "\n",
        "models=[LogisticRegression(multi_class='ovr'),SVC(kernel='linear',probability=True), XGBClassifier()]\n",
        "\n",
        "def func(model_name):\n",
        "    for i in models:\n",
        "        \n",
        "        global result_tab\n",
        "        \n",
        "        print(str(i).upper())\n",
        "        print()\n",
        "        \n",
        "        method=i\n",
        "        method.fit(X_train,y_train)\n",
        "        y_pred=method.predict(X_test)\n",
        "        \n",
        "        pred_prob1 = method.predict_proba(X_test)\n",
        "        \n",
        "        fpr1, tpr1, thresh1 = roc_curve(y_test, pred_prob1[:,1], pos_label=1)\n",
        "        confusion_mat=confusion_matrix(y_pred,y_test)\n",
        "        \n",
        "        print(\"classification report:   \",classification_report(y_pred,y_test))\n",
        "        print('PPV: ', 100*confusion_mat[0][0]/(confusion_mat[0][0]+confusion_mat[1][0]))\n",
        "        print('NPV: ', 100*confusion_mat[1][1]/(confusion_mat[1][1]+confusion_mat[0][1]))\n",
        "\n",
        "        plt.plot(fpr1, tpr1, color='orange', label='ROC')\n",
        "        plt.plot([0, 1], [0, 1], color='darkblue', linestyle='--')\n",
        "        plt.xlabel('False Positive Rate')\n",
        "        plt.ylabel('True Positive Rate')\n",
        "        plt.title('Receiver Operating Characteristic (ROC) Curve')\n",
        "        plt.legend()\n",
        "        plt.show()\n",
        "        print()\n",
        "        \n",
        "        modd=pd.Series({'Model_name':str(model_name)[0:10],\n",
        "                        'Model': str(i),\n",
        "                    'AUC Score' : roc_auc_score(y_test, pred_prob1,average='weighted',multi_class='ovr'),\n",
        "                    'Precision Score': metrics.precision_score(y_test, y_pred,average = 'weighted'),\n",
        "                    'Recall Score': metrics.recall_score(y_test, y_pred, average = 'weighted'),\n",
        "                    'Accuracy Score': metrics.accuracy_score(y_test, y_pred),\n",
        "                    'Kappa Score': cohen_kappa_score(y_test, y_pred),\n",
        "                    'f1-score': f1_score(y_test, y_pred,average = 'weighted'),\n",
        "                    \"accuracy_score\": accuracy_score(y_pred,y_test),\n",
        "                   \"confusion matrix\":confusion_matrix(y_pred,y_test)})\n",
        "                    #'Sensitivity':100*confusion_mat[0][0]/(confusion_mat[0][0]+confusion_mat[0][1]),\n",
        "                    #'Specificity': 100*confusion_mat[1][1]/(confusion_mat[1][1]+confusion_mat[1][0])})\n",
        "        \n",
        "        result_tab=result_tab.append(modd,ignore_index=True)\n",
        "        \n",
        "    return result_tab\n"
      ],
      "execution_count": null,
      "outputs": []
    },
    {
      "cell_type": "code",
      "metadata": {
        "colab": {
          "base_uri": "https://localhost:8080/",
          "height": 1000
        },
        "id": "EQshQg2XkKHL",
        "outputId": "f8e4ed80-a822-4af7-9b02-450cd6c4befc"
      },
      "source": [
        "func('base')"
      ],
      "execution_count": null,
      "outputs": [
        {
          "output_type": "stream",
          "text": [
            "LOGISTICREGRESSION(C=1.0, CLASS_WEIGHT=NONE, DUAL=FALSE, FIT_INTERCEPT=TRUE,\n",
            "                   INTERCEPT_SCALING=1, L1_RATIO=NONE, MAX_ITER=100,\n",
            "                   MULTI_CLASS='OVR', N_JOBS=NONE, PENALTY='L2',\n",
            "                   RANDOM_STATE=NONE, SOLVER='LBFGS', TOL=0.0001, VERBOSE=0,\n",
            "                   WARM_START=FALSE)\n",
            "\n"
          ],
          "name": "stdout"
        },
        {
          "output_type": "error",
          "ename": "ValueError",
          "evalue": "ignored",
          "traceback": [
            "\u001b[0;31m---------------------------------------------------------------------------\u001b[0m",
            "\u001b[0;31mValueError\u001b[0m                                Traceback (most recent call last)",
            "\u001b[0;32m<ipython-input-113-d59a038a7929>\u001b[0m in \u001b[0;36m<module>\u001b[0;34m()\u001b[0m\n\u001b[0;32m----> 1\u001b[0;31m \u001b[0mfunc\u001b[0m\u001b[0;34m(\u001b[0m\u001b[0;34m'base'\u001b[0m\u001b[0;34m)\u001b[0m\u001b[0;34m\u001b[0m\u001b[0;34m\u001b[0m\u001b[0m\n\u001b[0m",
            "\u001b[0;32m<ipython-input-112-9c23d4bfe022>\u001b[0m in \u001b[0;36mfunc\u001b[0;34m(model_name)\u001b[0m\n\u001b[1;32m     12\u001b[0m \u001b[0;34m\u001b[0m\u001b[0m\n\u001b[1;32m     13\u001b[0m         \u001b[0mmethod\u001b[0m\u001b[0;34m=\u001b[0m\u001b[0mi\u001b[0m\u001b[0;34m\u001b[0m\u001b[0;34m\u001b[0m\u001b[0m\n\u001b[0;32m---> 14\u001b[0;31m         \u001b[0mmethod\u001b[0m\u001b[0;34m.\u001b[0m\u001b[0mfit\u001b[0m\u001b[0;34m(\u001b[0m\u001b[0mX_train\u001b[0m\u001b[0;34m,\u001b[0m\u001b[0my_train\u001b[0m\u001b[0;34m)\u001b[0m\u001b[0;34m\u001b[0m\u001b[0;34m\u001b[0m\u001b[0m\n\u001b[0m\u001b[1;32m     15\u001b[0m         \u001b[0my_pred\u001b[0m\u001b[0;34m=\u001b[0m\u001b[0mmethod\u001b[0m\u001b[0;34m.\u001b[0m\u001b[0mpredict\u001b[0m\u001b[0;34m(\u001b[0m\u001b[0mX_test\u001b[0m\u001b[0;34m)\u001b[0m\u001b[0;34m\u001b[0m\u001b[0;34m\u001b[0m\u001b[0m\n\u001b[1;32m     16\u001b[0m \u001b[0;34m\u001b[0m\u001b[0m\n",
            "\u001b[0;32m/usr/local/lib/python3.7/dist-packages/sklearn/linear_model/_logistic.py\u001b[0m in \u001b[0;36mfit\u001b[0;34m(self, X, y, sample_weight)\u001b[0m\n\u001b[1;32m   1525\u001b[0m         \u001b[0mstrength\u001b[0m\u001b[0;34m.\u001b[0m \u001b[0mIf\u001b[0m \u001b[0mCs\u001b[0m \u001b[0;32mis\u001b[0m \u001b[0;32mas\u001b[0m \u001b[0man\u001b[0m \u001b[0mint\u001b[0m\u001b[0;34m,\u001b[0m \u001b[0mthen\u001b[0m \u001b[0ma\u001b[0m \u001b[0mgrid\u001b[0m \u001b[0mof\u001b[0m \u001b[0mCs\u001b[0m \u001b[0mvalues\u001b[0m \u001b[0mare\u001b[0m \u001b[0mchosen\u001b[0m\u001b[0;34m\u001b[0m\u001b[0;34m\u001b[0m\u001b[0m\n\u001b[1;32m   1526\u001b[0m         \u001b[0;32min\u001b[0m \u001b[0ma\u001b[0m \u001b[0mlogarithmic\u001b[0m \u001b[0mscale\u001b[0m \u001b[0mbetween\u001b[0m \u001b[0;36m1e-4\u001b[0m \u001b[0;32mand\u001b[0m \u001b[0;36m1e4\u001b[0m\u001b[0;34m.\u001b[0m\u001b[0;34m\u001b[0m\u001b[0;34m\u001b[0m\u001b[0m\n\u001b[0;32m-> 1527\u001b[0;31m         \u001b[0mLike\u001b[0m \u001b[0;32min\u001b[0m \u001b[0msupport\u001b[0m \u001b[0mvector\u001b[0m \u001b[0mmachines\u001b[0m\u001b[0;34m,\u001b[0m \u001b[0msmaller\u001b[0m \u001b[0mvalues\u001b[0m \u001b[0mspecify\u001b[0m \u001b[0mstronger\u001b[0m\u001b[0;34m\u001b[0m\u001b[0;34m\u001b[0m\u001b[0m\n\u001b[0m\u001b[1;32m   1528\u001b[0m         \u001b[0mregularization\u001b[0m\u001b[0;34m.\u001b[0m\u001b[0;34m\u001b[0m\u001b[0;34m\u001b[0m\u001b[0m\n\u001b[1;32m   1529\u001b[0m \u001b[0;34m\u001b[0m\u001b[0m\n",
            "\u001b[0;32m/usr/local/lib/python3.7/dist-packages/sklearn/utils/validation.py\u001b[0m in \u001b[0;36mcheck_X_y\u001b[0;34m(X, y, accept_sparse, accept_large_sparse, dtype, order, copy, force_all_finite, ensure_2d, allow_nd, multi_output, ensure_min_samples, ensure_min_features, y_numeric, warn_on_dtype, estimator)\u001b[0m\n\u001b[1;32m    753\u001b[0m            \u001b[0mAccepts\u001b[0m\u001b[0;31m \u001b[0m\u001b[0;31m`\u001b[0m\u001b[0mpd\u001b[0m\u001b[0;34m.\u001b[0m\u001b[0mNA\u001b[0m\u001b[0;31m`\u001b[0m \u001b[0;32mand\u001b[0m \u001b[0mconverts\u001b[0m \u001b[0mit\u001b[0m \u001b[0minto\u001b[0m\u001b[0;31m \u001b[0m\u001b[0;31m`\u001b[0m\u001b[0mnp\u001b[0m\u001b[0;34m.\u001b[0m\u001b[0mnan\u001b[0m\u001b[0;31m`\u001b[0m\u001b[0;34m\u001b[0m\u001b[0;34m\u001b[0m\u001b[0m\n\u001b[1;32m    754\u001b[0m \u001b[0;34m\u001b[0m\u001b[0m\n\u001b[0;32m--> 755\u001b[0;31m     \u001b[0mensure_2d\u001b[0m \u001b[0;34m:\u001b[0m \u001b[0mboolean\u001b[0m \u001b[0;34m(\u001b[0m\u001b[0mdefault\u001b[0m\u001b[0;34m=\u001b[0m\u001b[0;32mTrue\u001b[0m\u001b[0;34m)\u001b[0m\u001b[0;34m\u001b[0m\u001b[0;34m\u001b[0m\u001b[0m\n\u001b[0m\u001b[1;32m    756\u001b[0m         \u001b[0mWhether\u001b[0m \u001b[0mto\u001b[0m \u001b[0;32mraise\u001b[0m \u001b[0ma\u001b[0m \u001b[0mvalue\u001b[0m \u001b[0merror\u001b[0m \u001b[0;32mif\u001b[0m \u001b[0mX\u001b[0m \u001b[0;32mis\u001b[0m \u001b[0;32mnot\u001b[0m \u001b[0;36m2\u001b[0m\u001b[0mD\u001b[0m\u001b[0;34m.\u001b[0m\u001b[0;34m\u001b[0m\u001b[0;34m\u001b[0m\u001b[0m\n\u001b[1;32m    757\u001b[0m \u001b[0;34m\u001b[0m\u001b[0m\n",
            "\u001b[0;32m/usr/local/lib/python3.7/dist-packages/sklearn/utils/validation.py\u001b[0m in \u001b[0;36mcheck_array\u001b[0;34m(array, accept_sparse, accept_large_sparse, dtype, order, copy, force_all_finite, ensure_2d, allow_nd, ensure_min_samples, ensure_min_features, warn_on_dtype, estimator)\u001b[0m\n\u001b[1;32m    529\u001b[0m                                                \u001b[0mUInt8Dtype\u001b[0m\u001b[0;34m,\u001b[0m \u001b[0mUInt16Dtype\u001b[0m\u001b[0;34m,\u001b[0m\u001b[0;34m\u001b[0m\u001b[0;34m\u001b[0m\u001b[0m\n\u001b[1;32m    530\u001b[0m                                                UInt32Dtype, UInt64Dtype)):\n\u001b[0;32m--> 531\u001b[0;31m                         \u001b[0mhas_pd_integer_array\u001b[0m \u001b[0;34m=\u001b[0m \u001b[0;32mTrue\u001b[0m\u001b[0;34m\u001b[0m\u001b[0;34m\u001b[0m\u001b[0m\n\u001b[0m\u001b[1;32m    532\u001b[0m \u001b[0;34m\u001b[0m\u001b[0m\n\u001b[1;32m    533\u001b[0m         \u001b[0;32mif\u001b[0m \u001b[0mall\u001b[0m\u001b[0;34m(\u001b[0m\u001b[0misinstance\u001b[0m\u001b[0;34m(\u001b[0m\u001b[0mdtype\u001b[0m\u001b[0;34m,\u001b[0m \u001b[0mnp\u001b[0m\u001b[0;34m.\u001b[0m\u001b[0mdtype\u001b[0m\u001b[0;34m)\u001b[0m \u001b[0;32mfor\u001b[0m \u001b[0mdtype\u001b[0m \u001b[0;32min\u001b[0m \u001b[0mdtypes_orig\u001b[0m\u001b[0;34m)\u001b[0m\u001b[0;34m:\u001b[0m\u001b[0;34m\u001b[0m\u001b[0;34m\u001b[0m\u001b[0m\n",
            "\u001b[0;32m/usr/local/lib/python3.7/dist-packages/numpy/core/_asarray.py\u001b[0m in \u001b[0;36masarray\u001b[0;34m(a, dtype, order)\u001b[0m\n\u001b[1;32m     81\u001b[0m \u001b[0;34m\u001b[0m\u001b[0m\n\u001b[1;32m     82\u001b[0m     \"\"\"\n\u001b[0;32m---> 83\u001b[0;31m     \u001b[0;32mreturn\u001b[0m \u001b[0marray\u001b[0m\u001b[0;34m(\u001b[0m\u001b[0ma\u001b[0m\u001b[0;34m,\u001b[0m \u001b[0mdtype\u001b[0m\u001b[0;34m,\u001b[0m \u001b[0mcopy\u001b[0m\u001b[0;34m=\u001b[0m\u001b[0;32mFalse\u001b[0m\u001b[0;34m,\u001b[0m \u001b[0morder\u001b[0m\u001b[0;34m=\u001b[0m\u001b[0morder\u001b[0m\u001b[0;34m)\u001b[0m\u001b[0;34m\u001b[0m\u001b[0;34m\u001b[0m\u001b[0m\n\u001b[0m\u001b[1;32m     84\u001b[0m \u001b[0;34m\u001b[0m\u001b[0m\n\u001b[1;32m     85\u001b[0m \u001b[0;34m\u001b[0m\u001b[0m\n",
            "\u001b[0;31mValueError\u001b[0m: could not convert string to float: 'u department homeland security recently released strategic principle securing internet thing iot version 10 principle cover area incorporating security design phase prioritizing security measure according potential impact part dhs mission work private sector drive cybersecurity principle target iot developer iot manufacturer service provider industrial business consumer including government infrastructure owner principle found dhsgovsecuringtheiot'"
          ]
        }
      ]
    },
    {
      "cell_type": "code",
      "metadata": {
        "id": "9XmRntXTPgI4"
      },
      "source": [
        "result_tab"
      ],
      "execution_count": null,
      "outputs": []
    },
    {
      "cell_type": "markdown",
      "metadata": {
        "id": "Lf28X_1jWR3n"
      },
      "source": [
        "#2nd Approach"
      ]
    },
    {
      "cell_type": "code",
      "metadata": {
        "id": "F6djWxgjB1H-",
        "colab": {
          "base_uri": "https://localhost:8080/"
        },
        "outputId": "f5176fa3-ec88-4aaa-a83f-69d9e500dd0e"
      },
      "source": [
        "#Entire Data for Training\n",
        "\n",
        "import pickle\n",
        "from sklearn.model_selection import train_test_split\n",
        "X_train,X_test,y_train,y_test=train_test_split(corpus,y,test_size=0.2)\n",
        "model = Pipeline([('vectorizer', CountVectorizer(ngram_range=(1,3))),\n",
        "    ('tfidf', TfidfTransformer(use_idf=True)),\n",
        "    ('clf', CalibratedClassifierCV(XGBClassifier()))])\n",
        "model.fit(X_train,y_train)\n",
        "\n",
        "#filename = 'Final_model.sav'\n",
        "#pickle.dump(model, open(filename, 'wb'))"
      ],
      "execution_count": null,
      "outputs": [
        {
          "output_type": "execute_result",
          "data": {
            "text/plain": [
              "Pipeline(memory=None,\n",
              "         steps=[('vectorizer',\n",
              "                 CountVectorizer(analyzer='word', binary=False,\n",
              "                                 decode_error='strict',\n",
              "                                 dtype=<class 'numpy.int64'>, encoding='utf-8',\n",
              "                                 input='content', lowercase=True, max_df=1.0,\n",
              "                                 max_features=None, min_df=1,\n",
              "                                 ngram_range=(1, 3), preprocessor=None,\n",
              "                                 stop_words=None, strip_accents=None,\n",
              "                                 token_pattern='(?u)\\\\b\\\\w\\\\w+\\\\b',\n",
              "                                 tokenizer=None, vocabula...\n",
              "                                                                     max_delta_step=None,\n",
              "                                                                     max_depth=None,\n",
              "                                                                     min_child_weight=None,\n",
              "                                                                     missing=nan,\n",
              "                                                                     monotone_constraints=None,\n",
              "                                                                     n_estimators=100,\n",
              "                                                                     n_jobs=None,\n",
              "                                                                     num_parallel_tree=None,\n",
              "                                                                     objective='binary:logistic',\n",
              "                                                                     random_state=None,\n",
              "                                                                     reg_alpha=None,\n",
              "                                                                     reg_lambda=None,\n",
              "                                                                     scale_pos_weight=None,\n",
              "                                                                     subsample=None,\n",
              "                                                                     tree_method=None,\n",
              "                                                                     validate_parameters=None,\n",
              "                                                                     verbosity=None),\n",
              "                                        cv=None, method='sigmoid'))],\n",
              "         verbose=False)"
            ]
          },
          "metadata": {
            "tags": []
          },
          "execution_count": 119
        }
      ]
    },
    {
      "cell_type": "code",
      "metadata": {
        "colab": {
          "base_uri": "https://localhost:8080/"
        },
        "id": "mpDQmUHT1epL",
        "outputId": "2b471605-cd11-4018-8c05-7744e1b16381"
      },
      "source": [
        "calc = model.predict(X_test)\n",
        "#model.predict(When it comes to protecting whats most valuable to you, dont settle on second best. ADT is America's #1 security provider for home and business. It was the first home security company in America and now helps protect more than 6 million customers in North America. Whether you are welcoming a new family member into your home or looking to replace outdated security monitoring, SafeStreets has the latest equipment and a knowledgeable service team to deliver the best protection possible. With an ADT monitored alarm system from SafeStreets, your home is connected to a comprehensive monitoring network of command centers located throughout the United States. The advanced home security technology along with expertly trained professionals exhibit ADT's dedication to protecting customers. When you sign up for ADT home security monitoring, you join over 6 million people who trust ADT monitoring to help protect their families. ADT is America's #1 home security monitoring company with over 140 years of experience in the industry. When you choose SafeStreets, you can get same-day installation in most areas. ADT Monitoring comes with an ADT Money-back Service Guarantee (certain restrictions apply), making sure you are a satisfied customer. When you compare ADT monitoring from SafeStreets to other providers, you'll see why ADT monitoring continues to be one of the number one choices for customers across the country. Use your keychain remote to arm or disarm your security system with a simple touch of a button. With a SafeStreets security system, you dont have to learn an intricate system in order to get the home monitoring security you want. If your home alarm signals, ADT will call the primary contacts first before notifying local authorities for help in an emergency situation so they can respond promptly at your home. Delivering peace of mind is the number one goal. ADT monitored home protection from SafeStreets is available for a low monthly price so you can get the protection your family needs without breaking your budget. ADT monitoring from SafeStreets doesn't stop. Even when the power goes out, your backup battery will keep your system up and running. You can choose from basic home security, basic plus wireless functionality, remote access, and video control optionsall at affordable monthly prices. Let SafeStreets help you get the right security system to help protect your home and family today. Countless people are moving to Austin, TX every year to take part in this diverse and prosperous cityand perhaps you are too. As the state capital, its a thriving metropolis that isnt short on personality and charm. Some of Austins greatest attractions include the citys weather, culture and ample employment opportunitiesbut its not without its [] Learn more about ADT Monitoring near you: Alabama | Alaska | Arizona | Arkansas | California | Colorado | Connecticut | Delaware | District of Columbia | Florida | Georgia | Hawaii | Idaho | Illinois | Indiana | Iowa | Kansas | Kentucky | Louisiana | Maine | Massachusetts | Maryland | Michigan | Minnesota | Missouri | Mississippi | Montana | Nebraska | Nevada | New Hampshire | New Jersey | New Mexico | New York | North Carolina | North Dakota | Ohio | Oklahoma | Oregon | Pennsylvania | Rhode Island | South Carolina | South Dakota | Tennessee | Texas | Utah |  Vermont | Virginia | Washington | West Virginia | Wisconsin | Wyoming)\n",
        "#final_value = \n",
        "from sklearn import metrics\n",
        "from sklearn.metrics import roc_curve,roc_auc_score,accuracy_score,f1_score,confusion_matrix,classification_report,cohen_kappa_score\n",
        "\n",
        "\n",
        "print(\"Train Accuracy :\", accuracy_score(y_train,trained_model.predict(X_train)))\n",
        "print(\"Test Accuracy :\", accuracy_score(y_test, calc))\n",
        "print(\"Confusion Matrix :\", confusion_matrix(y_test, calc) )"
      ],
      "execution_count": null,
      "outputs": [
        {
          "output_type": "stream",
          "text": [
            "Train Accuracy : 0.9039301310043668\n",
            "Test Accuracy : 0.4011627906976744\n",
            "Confusion Matrix : [[ 5  1  1  3  0  0  3  2  2]\n",
            " [ 1  7  0  1  3  1  1  7  0]\n",
            " [ 4  2  6  6  2  1  2  5  1]\n",
            " [ 1  1  1  5  1  1  0  3  1]\n",
            " [ 0  0  0  0  9  0  0  2  4]\n",
            " [ 0  1  1  0  0 10  1  3  1]\n",
            " [ 0  0  1  4  0  1  2 10  2]\n",
            " [ 0  1  0  4  0  1  3  7  0]\n",
            " [ 1  0  0  1  0  1  0  2 18]]\n"
          ],
          "name": "stdout"
        }
      ]
    },
    {
      "cell_type": "code",
      "metadata": {
        "id": "Ts7RU843O7m5"
      },
      "source": [
        "from sklearn.model_selection import train_test_split\n",
        "X_train,X_test,y_train,y_test=train_test_split(X,y,test_size=0.2,random_state=1)"
      ],
      "execution_count": null,
      "outputs": []
    },
    {
      "cell_type": "code",
      "metadata": {
        "id": "RVWwQ0Rt1IAO"
      },
      "source": [
        "from sklearn.pipeline import Pipeline\n",
        "from sklearn.calibration import CalibratedClassifierCV\n",
        "from sklearn.svm import LinearSVC\n",
        "\n",
        "model = Pipeline([('vectorizer', CountVectorizer(ngram_range=(1,3))),\n",
        "    ('tfidf', TfidfTransformer(use_idf=True)),\n",
        "    ('clf', CalibratedClassifierCV(LinearSVC(class_weight=\"balanced\")))])"
      ],
      "execution_count": null,
      "outputs": []
    },
    {
      "cell_type": "code",
      "metadata": {
        "colab": {
          "base_uri": "https://localhost:8080/",
          "height": 419
        },
        "id": "lAEAyyJsEGrC",
        "outputId": "2bf0c66a-74a1-43aa-c149-708bcdd3c879"
      },
      "source": [
        "X_train"
      ],
      "execution_count": null,
      "outputs": [
        {
          "output_type": "execute_result",
          "data": {
            "text/html": [
              "<div>\n",
              "<style scoped>\n",
              "    .dataframe tbody tr th:only-of-type {\n",
              "        vertical-align: middle;\n",
              "    }\n",
              "\n",
              "    .dataframe tbody tr th {\n",
              "        vertical-align: top;\n",
              "    }\n",
              "\n",
              "    .dataframe thead th {\n",
              "        text-align: right;\n",
              "    }\n",
              "</style>\n",
              "<table border=\"1\" class=\"dataframe\">\n",
              "  <thead>\n",
              "    <tr style=\"text-align: right;\">\n",
              "      <th></th>\n",
              "      <th>Domain</th>\n",
              "      <th>lemma</th>\n",
              "    </tr>\n",
              "  </thead>\n",
              "  <tbody>\n",
              "    <tr>\n",
              "      <th>207</th>\n",
              "      <td>http://seopros.org</td>\n",
              "      <td>quite time belief consumer due diligence howev...</td>\n",
              "    </tr>\n",
              "    <tr>\n",
              "      <th>1107</th>\n",
              "      <td>http://sdbullion.com</td>\n",
              "      <td>since starting 2012 sd bullion grown one large...</td>\n",
              "    </tr>\n",
              "    <tr>\n",
              "      <th>274</th>\n",
              "      <td>https://www.catalystmr.com/</td>\n",
              "      <td>catalystmr experienced customer driven market ...</td>\n",
              "    </tr>\n",
              "    <tr>\n",
              "      <th>76</th>\n",
              "      <td>http://okex.com</td>\n",
              "      <td>okex innovative cryptocurrency exchange advanc...</td>\n",
              "    </tr>\n",
              "    <tr>\n",
              "      <th>773</th>\n",
              "      <td>http://ashokleyland.com</td>\n",
              "      <td>ashok leyland flagship hinduja group 2nd large...</td>\n",
              "    </tr>\n",
              "    <tr>\n",
              "      <th>...</th>\n",
              "      <td>...</td>\n",
              "      <td>...</td>\n",
              "    </tr>\n",
              "    <tr>\n",
              "      <th>715</th>\n",
              "      <td>http://hanglung.com</td>\n",
              "      <td>commitment better tomorrow part hang lung visi...</td>\n",
              "    </tr>\n",
              "    <tr>\n",
              "      <th>905</th>\n",
              "      <td>https://tcs.com</td>\n",
              "      <td>global leader service digital business solutio...</td>\n",
              "    </tr>\n",
              "    <tr>\n",
              "      <th>1096</th>\n",
              "      <td>https://isg-one.com</td>\n",
              "      <td>isg information service group nasdaq iii leadi...</td>\n",
              "    </tr>\n",
              "    <tr>\n",
              "      <th>235</th>\n",
              "      <td>http://info.isg-one.com</td>\n",
              "      <td>isg information service group nasdaq iii leadi...</td>\n",
              "    </tr>\n",
              "    <tr>\n",
              "      <th>1061</th>\n",
              "      <td>http://irunilguirac.tk</td>\n",
              "      <td>21st century best manager know unlock potentia...</td>\n",
              "    </tr>\n",
              "  </tbody>\n",
              "</table>\n",
              "<p>898 rows × 2 columns</p>\n",
              "</div>"
            ],
            "text/plain": [
              "                           Domain                                              lemma\n",
              "207            http://seopros.org  quite time belief consumer due diligence howev...\n",
              "1107         http://sdbullion.com  since starting 2012 sd bullion grown one large...\n",
              "274   https://www.catalystmr.com/  catalystmr experienced customer driven market ...\n",
              "76                http://okex.com  okex innovative cryptocurrency exchange advanc...\n",
              "773       http://ashokleyland.com  ashok leyland flagship hinduja group 2nd large...\n",
              "...                           ...                                                ...\n",
              "715           http://hanglung.com  commitment better tomorrow part hang lung visi...\n",
              "905               https://tcs.com  global leader service digital business solutio...\n",
              "1096          https://isg-one.com  isg information service group nasdaq iii leadi...\n",
              "235       http://info.isg-one.com  isg information service group nasdaq iii leadi...\n",
              "1061       http://irunilguirac.tk  21st century best manager know unlock potentia...\n",
              "\n",
              "[898 rows x 2 columns]"
            ]
          },
          "metadata": {
            "tags": []
          },
          "execution_count": 81
        }
      ]
    },
    {
      "cell_type": "code",
      "metadata": {
        "id": "tbjYWSzLExdg"
      },
      "source": [
        ""
      ],
      "execution_count": null,
      "outputs": []
    },
    {
      "cell_type": "code",
      "metadata": {
        "id": "Tmf8r90q1NgU",
        "colab": {
          "base_uri": "https://localhost:8080/"
        },
        "outputId": "948723b2-50f9-4a17-b2f7-cb5b50737c48"
      },
      "source": [
        "model.fit(X_train,y_train)"
      ],
      "execution_count": null,
      "outputs": [
        {
          "output_type": "execute_result",
          "data": {
            "text/plain": [
              "Pipeline(memory=None,\n",
              "         steps=[('vectorizer',\n",
              "                 CountVectorizer(analyzer='word', binary=False,\n",
              "                                 decode_error='strict',\n",
              "                                 dtype=<class 'numpy.int64'>, encoding='utf-8',\n",
              "                                 input='content', lowercase=True, max_df=1.0,\n",
              "                                 max_features=None, min_df=1,\n",
              "                                 ngram_range=(1, 3), preprocessor=None,\n",
              "                                 stop_words=None, strip_accents=None,\n",
              "                                 token_pattern='(?u)\\\\b\\\\w\\\\w+\\\\b',\n",
              "                                 tokenizer=None, vocabula...\n",
              "                 TfidfTransformer(norm='l2', smooth_idf=True,\n",
              "                                  sublinear_tf=False, use_idf=True)),\n",
              "                ('clf',\n",
              "                 CalibratedClassifierCV(base_estimator=LinearSVC(C=1.0,\n",
              "                                                                 class_weight='balanced',\n",
              "                                                                 dual=True,\n",
              "                                                                 fit_intercept=True,\n",
              "                                                                 intercept_scaling=1,\n",
              "                                                                 loss='squared_hinge',\n",
              "                                                                 max_iter=1000,\n",
              "                                                                 multi_class='ovr',\n",
              "                                                                 penalty='l2',\n",
              "                                                                 random_state=None,\n",
              "                                                                 tol=0.0001,\n",
              "                                                                 verbose=0),\n",
              "                                        cv=None, method='sigmoid'))],\n",
              "         verbose=False)"
            ]
          },
          "metadata": {
            "tags": []
          },
          "execution_count": 19
        }
      ]
    },
    {
      "cell_type": "code",
      "metadata": {
        "colab": {
          "base_uri": "https://localhost:8080/",
          "height": 419
        },
        "id": "v23jaNCS1Q9W",
        "outputId": "7403ae94-d844-495e-a96e-8e1f9e6fafc9"
      },
      "source": [
        "X_test"
      ],
      "execution_count": null,
      "outputs": [
        {
          "output_type": "execute_result",
          "data": {
            "text/html": [
              "<div>\n",
              "<style scoped>\n",
              "    .dataframe tbody tr th:only-of-type {\n",
              "        vertical-align: middle;\n",
              "    }\n",
              "\n",
              "    .dataframe tbody tr th {\n",
              "        vertical-align: top;\n",
              "    }\n",
              "\n",
              "    .dataframe thead th {\n",
              "        text-align: right;\n",
              "    }\n",
              "</style>\n",
              "<table border=\"1\" class=\"dataframe\">\n",
              "  <thead>\n",
              "    <tr style=\"text-align: right;\">\n",
              "      <th></th>\n",
              "      <th>Domain</th>\n",
              "      <th>lemma</th>\n",
              "    </tr>\n",
              "  </thead>\n",
              "  <tbody>\n",
              "    <tr>\n",
              "      <th>479</th>\n",
              "      <td>http://codycrossanswers.com</td>\n",
              "      <td>fellow visitor site please find codycross answ...</td>\n",
              "    </tr>\n",
              "    <tr>\n",
              "      <th>672</th>\n",
              "      <td>https://artezio.com</td>\n",
              "      <td>artezio international consulting company lever...</td>\n",
              "    </tr>\n",
              "    <tr>\n",
              "      <th>972</th>\n",
              "      <td>http://saglobal.com</td>\n",
              "      <td>group consultant bunch keen listener troop pro...</td>\n",
              "    </tr>\n",
              "    <tr>\n",
              "      <th>81</th>\n",
              "      <td>https://ensia.com</td>\n",
              "      <td>know pivotal time global climate change biodiv...</td>\n",
              "    </tr>\n",
              "    <tr>\n",
              "      <th>725</th>\n",
              "      <td>http://centreforpublicimpact.org</td>\n",
              "      <td>work government public servant changemakers re...</td>\n",
              "    </tr>\n",
              "    <tr>\n",
              "      <th>...</th>\n",
              "      <td>...</td>\n",
              "      <td>...</td>\n",
              "    </tr>\n",
              "    <tr>\n",
              "      <th>967</th>\n",
              "      <td>https://cowi.com</td>\n",
              "      <td>cowi leading consulting group creates value cu...</td>\n",
              "    </tr>\n",
              "    <tr>\n",
              "      <th>348</th>\n",
              "      <td>https://ezybizindia.in</td>\n",
              "      <td>ezybiz india multidisciplinary consulting firm...</td>\n",
              "    </tr>\n",
              "    <tr>\n",
              "      <th>242</th>\n",
              "      <td>http://omcp.org</td>\n",
              "      <td>longer enough simply _claim_ expertise online ...</td>\n",
              "    </tr>\n",
              "    <tr>\n",
              "      <th>464</th>\n",
              "      <td>http://weeklywall.com</td>\n",
              "      <td>report present authentic accurate research stu...</td>\n",
              "    </tr>\n",
              "    <tr>\n",
              "      <th>329</th>\n",
              "      <td>http://cacm.acm.org</td>\n",
              "      <td>communication current issue digital edition sa...</td>\n",
              "    </tr>\n",
              "  </tbody>\n",
              "</table>\n",
              "<p>225 rows × 2 columns</p>\n",
              "</div>"
            ],
            "text/plain": [
              "                               Domain                                              lemma\n",
              "479       http://codycrossanswers.com  fellow visitor site please find codycross answ...\n",
              "672               https://artezio.com  artezio international consulting company lever...\n",
              "972               http://saglobal.com  group consultant bunch keen listener troop pro...\n",
              "81                  https://ensia.com  know pivotal time global climate change biodiv...\n",
              "725  http://centreforpublicimpact.org  work government public servant changemakers re...\n",
              "..                                ...                                                ...\n",
              "967                  https://cowi.com  cowi leading consulting group creates value cu...\n",
              "348            https://ezybizindia.in  ezybiz india multidisciplinary consulting firm...\n",
              "242                   http://omcp.org  longer enough simply _claim_ expertise online ...\n",
              "464             http://weeklywall.com  report present authentic accurate research stu...\n",
              "329               http://cacm.acm.org  communication current issue digital edition sa...\n",
              "\n",
              "[225 rows x 2 columns]"
            ]
          },
          "metadata": {
            "tags": []
          },
          "execution_count": 83
        }
      ]
    },
    {
      "cell_type": "code",
      "metadata": {
        "id": "_vmM7y7FG399"
      },
      "source": [
        "x_test = pd.DataFrame(X_test)\n",
        "x_test.to_csv(\"xtest2.csv\")"
      ],
      "execution_count": null,
      "outputs": []
    },
    {
      "cell_type": "code",
      "metadata": {
        "id": "HQyyb_0W1xK-"
      },
      "source": [
        "y_T_test = pd.DataFrame(y_test)\n",
        "y_T_test.to_csv(\"ytest2.csv\")"
      ],
      "execution_count": null,
      "outputs": []
    },
    {
      "cell_type": "code",
      "metadata": {
        "colab": {
          "base_uri": "https://localhost:8080/"
        },
        "id": "71boCd2rJ4we",
        "outputId": "1522cb93-1191-4fcf-a559-d7f160926adf"
      },
      "source": [
        "y_test"
      ],
      "execution_count": null,
      "outputs": [
        {
          "output_type": "execute_result",
          "data": {
            "text/plain": [
              "479                 Junk Domain\n",
              "672          Consultancy Domain\n",
              "972             Priority Domain\n",
              "81                  News Domain\n",
              "725    Education/Org/Gov Domain\n",
              "                 ...           \n",
              "967          Consultancy Domain\n",
              "348          Consultancy Domain\n",
              "242    Education/Org/Gov Domain\n",
              "464            Syndicate Domain\n",
              "329    Education/Org/Gov Domain\n",
              "Name: Domain_Type, Length: 225, dtype: object"
            ]
          },
          "metadata": {
            "tags": []
          },
          "execution_count": 84
        }
      ]
    },
    {
      "cell_type": "code",
      "metadata": {
        "colab": {
          "base_uri": "https://localhost:8080/"
        },
        "id": "_0W7n83812w7",
        "outputId": "4e3b5144-87b6-4b1d-e014-9c8abdb9693c"
      },
      "source": [
        "calc = model.predict(X_test)\n",
        "calc"
      ],
      "execution_count": null,
      "outputs": [
        {
          "output_type": "execute_result",
          "data": {
            "text/plain": [
              "array(['Emerging Technologies  ', 'Emerging Technologies  ',\n",
              "       'Emerging Technologies  ', 'company announcements or information',\n",
              "       'Technology Development', 'awards and recognition',\n",
              "       'Technology Development', 'Emerging Technologies  ',\n",
              "       'Technology Development', 'company announcements or information',\n",
              "       'Emerging Technologies  ', 'company announcements or information',\n",
              "       'Emerging Technologies  ', 'company announcements or information',\n",
              "       'Technology Development', 'company announcements or information',\n",
              "       'Emerging Technologies  ', 'company announcements or information',\n",
              "       'Emerging Technologies  ', 'Technology Development',\n",
              "       'Emerging Technologies  ', 'Innovation ', 'Technology Development',\n",
              "       'Emerging Technologies  ', 'Innovation ',\n",
              "       'Emerging Technologies  ', 'company announcements or information',\n",
              "       'research and development ', 'Technology Development',\n",
              "       'Technology Development', 'Emerging Technologies  ',\n",
              "       'collaboration or agreement or partnerships',\n",
              "       'Emerging Technologies  ', 'Innovation ',\n",
              "       'company announcements or information', 'Emerging Technologies  ',\n",
              "       'Innovation ', 'Innovation ', 'Emerging Technologies  ',\n",
              "       'Technology Development', 'Emerging Technologies  ',\n",
              "       'awards and recognition', 'company announcements or information',\n",
              "       'Innovation ', 'Emerging Technologies  ',\n",
              "       'Emerging Technologies  ', 'Emerging Technologies  ',\n",
              "       'Technology Development', 'company announcements or information',\n",
              "       'company announcements or information',\n",
              "       'collaboration or agreement or partnerships',\n",
              "       'research and development ', 'Technology Development',\n",
              "       'company announcements or information', 'Technology Development',\n",
              "       'company announcements or information',\n",
              "       'collaboration or agreement or partnerships',\n",
              "       'company announcements or information', 'awards and recognition',\n",
              "       'Emerging Technologies  ', 'company announcements or information',\n",
              "       'Innovation ', 'Technology Development', 'Innovation ',\n",
              "       'Technology Development', 'Emerging Technologies  ',\n",
              "       'Technology Development', 'Technology Development',\n",
              "       'Technology Development', 'Technology Development',\n",
              "       'company announcements or information',\n",
              "       'company announcements or information',\n",
              "       'company announcements or information', 'Technology Development',\n",
              "       'awards and recognition', 'company announcements or information',\n",
              "       'Technology Development', 'Innovation ', 'Emerging Technologies  ',\n",
              "       'company announcements or information', 'awards and recognition',\n",
              "       'Emerging Technologies  ', 'Emerging Technologies  ',\n",
              "       'collaboration or agreement or partnerships',\n",
              "       'company announcements or information', 'Emerging Technologies  ',\n",
              "       'research and development ',\n",
              "       'company announcements or information', 'Emerging Technologies  ',\n",
              "       'company announcements or information',\n",
              "       'research and development ',\n",
              "       'collaboration or agreement or partnerships',\n",
              "       'Emerging Technologies  ',\n",
              "       'collaboration or agreement or partnerships',\n",
              "       'Technology Development', 'Innovation ',\n",
              "       'company announcements or information', 'Emerging Technologies  ',\n",
              "       'Emerging Technologies  ',\n",
              "       'collaboration or agreement or partnerships',\n",
              "       'collaboration or agreement or partnerships',\n",
              "       'Emerging Technologies  ', 'company announcements or information',\n",
              "       'company announcements or information',\n",
              "       'collaboration or agreement or partnerships',\n",
              "       'Technology Development', 'awards and recognition',\n",
              "       'Technology Development', 'Emerging Technologies  ',\n",
              "       'Emerging Technologies  ', 'research and development ',\n",
              "       'collaboration or agreement or partnerships',\n",
              "       'Technology Development', 'Innovation ', 'Emerging Technologies  ',\n",
              "       'Emerging Technologies  ', 'Technology Development',\n",
              "       'Emerging Technologies  ', 'company announcements or information',\n",
              "       'awards and recognition', 'Emerging Technologies  ', 'Innovation ',\n",
              "       'Technology Development', 'Emerging Technologies  ',\n",
              "       'company announcements or information', 'Technology Development',\n",
              "       'Emerging Technologies  ', 'Emerging Technologies  ',\n",
              "       'Innovation ', 'research and development ',\n",
              "       'Emerging Technologies  ', 'Technology Development',\n",
              "       'company announcements or information',\n",
              "       'company announcements or information', 'Innovation ',\n",
              "       'company announcements or information', 'Innovation ',\n",
              "       'Emerging Technologies  ', 'company announcements or information',\n",
              "       'Technology Development', 'Technology Development',\n",
              "       'company announcements or information', 'Emerging Technologies  ',\n",
              "       'Innovation ', 'company announcements or information',\n",
              "       'Emerging Technologies  ', 'Emerging Technologies  ',\n",
              "       'Emerging Technologies  ', 'Emerging Technologies  ',\n",
              "       'Emerging Technologies  ', 'Technology Development',\n",
              "       'Emerging Technologies  '], dtype='<U42')"
            ]
          },
          "metadata": {
            "tags": []
          },
          "execution_count": 21
        }
      ]
    },
    {
      "cell_type": "code",
      "metadata": {
        "colab": {
          "base_uri": "https://localhost:8080/"
        },
        "id": "shrJF5WFKJQM",
        "outputId": "d3a53f72-ae49-4d3e-b85e-1e7d0d51398e"
      },
      "source": [
        "from sklearn.metrics import accuracy_score\n",
        "accuracy_score(y_test, calc)"
      ],
      "execution_count": null,
      "outputs": [
        {
          "output_type": "execute_result",
          "data": {
            "text/plain": [
              "0.13815789473684212"
            ]
          },
          "metadata": {
            "tags": []
          },
          "execution_count": 23
        }
      ]
    },
    {
      "cell_type": "code",
      "metadata": {
        "id": "ciTMe5uiHXUb"
      },
      "source": [
        "calc = pd.DataFrame(calc)\n",
        "calc.to_csv(\"calc2.csv\")"
      ],
      "execution_count": null,
      "outputs": []
    },
    {
      "cell_type": "code",
      "metadata": {
        "id": "z63IAAQG1Z2i"
      },
      "source": [
        "c=pd.concat([pd.DataFrame(X_test),pd.DataFrame(y_test),pd.DataFrame(calc)], axis=1)\n",
        "c.to_csv(\"Description2.csv\", index=True)\n"
      ],
      "execution_count": null,
      "outputs": []
    },
    {
      "cell_type": "markdown",
      "metadata": {
        "id": "8YVYtz9PQRv9"
      },
      "source": [
        "#Testing for new data\n"
      ]
    },
    {
      "cell_type": "code",
      "metadata": {
        "id": "XJCT0hwiQRTU",
        "colab": {
          "base_uri": "https://localhost:8080/"
        },
        "outputId": "b36bf1bd-f258-4583-c2d2-d74beb4ecc5d"
      },
      "source": [
        "import pickle\n",
        "\n",
        "filename = '/content/TC_final_model.sav'\n",
        "loaded_model = pickle.load(open(filename, 'rb'))\n",
        "\n",
        "\n",
        "from sklearn.model_selection import train_test_split\n",
        "from sklearn.pipeline import Pipeline\n",
        "from sklearn.calibration import CalibratedClassifierCV\n",
        "from sklearn.linear_model import LogisticRegression\n",
        "\n",
        "import nltk\n",
        "nltk.download('wordnet')\n",
        "from nltk.stem import WordNetLemmatizer\n",
        "lemma = WordNetLemmatizer()"
      ],
      "execution_count": 49,
      "outputs": [
        {
          "output_type": "stream",
          "text": [
            "[nltk_data] Downloading package wordnet to /root/nltk_data...\n",
            "[nltk_data]   Package wordnet is already up-to-date!\n"
          ],
          "name": "stdout"
        }
      ]
    },
    {
      "cell_type": "code",
      "metadata": {
        "id": "MZALBrV8QZC6"
      },
      "source": [
        "import pandas as pd\n",
        "\n",
        "def class_prediction(output):\n",
        "    class_names = []\n",
        "    try:\n",
        "        output=output.lower()\n",
        "        output=output.replace('[^\\w\\s]','')\n",
        "        output = output.split()\n",
        "        # review = d2['sentence_no_punctuation'][i].split()# splitting sentences\n",
        "        output = [lemma.lemmatize(word) for word in output if not word in stopwords.words('english')]  # removing stop words\n",
        "        output = ' '.join(output)\n",
        "\n",
        "        filename = '/content/TC_final_model.sav'\n",
        "        loaded_model = pickle.load(open(filename, 'rb'))\n",
        "        class_names = loaded_model.predict([output])\n",
        "        #print(class_name)\n",
        "    except Exception as exe:\n",
        "        print(\"Exception in domain_prediction\", exe)\n",
        "    return class_names\n",
        "\n",
        "\n",
        "\n",
        "if __name__=='__main__':\n",
        "\n",
        "    df = pd.read_excel(\"/content/Text_classification_training_data_100 (7).xlsx\",sheet_name='model_testing_with_junk')\n",
        "    #t1 = time.time()\n",
        "    lst1=[]\n",
        "    lst2=[]\n",
        "    for i in df['Sentences'].values:\n",
        "        sentence = i\n",
        "        #description = company_description_extraction(url)\n",
        "        #lst1.append(description)\n",
        "        class_name=class_prediction(sentence)\n",
        "        lst2.append(class_name)\n",
        "\n",
        "    ab=pd.concat([df,pd.DataFrame(lst2)], axis=1)\n",
        "    ab.to_csv(\"Class_Prediction.csv\", index=True)\n",
        "    #t2 = time.time()"
      ],
      "execution_count": 50,
      "outputs": []
    },
    {
      "cell_type": "code",
      "metadata": {
        "id": "QWJlw6fqZYRk"
      },
      "source": [
        "\n",
        "    \n",
        "\n",
        "def get_pdf_url():\n",
        "    try:\n",
        "        input_df = pd.read_excel('/content/Text_classification_training_data_100 (4).xlsx',sheet_name='test')\n",
        "        df = pd.DataFrame(columns=['input_url', 'extracted_url', 'domain_url'])\n",
        "        for i in range(input_df.shape[0]):\n",
        "            url = input_df.iloc[i, input_df.columns.get_loc(\"input_urls\")]\n",
        "            manual_class = input_df.iloc[i, input_df.columns.get_loc(\"manual_class\")]\n",
        "            \n",
        "            url = url.replace(' ', '%20')\n",
        "            print('input url is--->', url)\n",
        "            result = extract_pdf_url(url)\n",
        "            print(result)\n",
        "            print('no of urls----->', len(result))\n",
        "            for pdf_url in result:\n",
        "                domain_url = get_domain_name(pdf_url)\n",
        "                ouput_dt = [{​​​​​​​​'input_url': url, 'extracted_url': pdf_url, 'domain_url': domain_url}​​​​​​​​]\n",
        "                df = df.append(ouput_dt, ignore_index=True)\n",
        "            print(df)\n",
        "        df.to_csv('pdf_url.csv', index=False)\n",
        "    except Exception as exe:\n",
        "        print(\"Exception in get_pdf_url\", exe)\n",
        "\n",
        "\n"
      ],
      "execution_count": null,
      "outputs": []
    },
    {
      "cell_type": "code",
      "metadata": {
        "id": "gO9dDP-sZWbf"
      },
      "source": [
        ""
      ],
      "execution_count": null,
      "outputs": []
    },
    {
      "cell_type": "code",
      "metadata": {
        "id": "mBo9ZRvSty1n"
      },
      "source": [
        "X=data['lemma']"
      ],
      "execution_count": null,
      "outputs": []
    },
    {
      "cell_type": "code",
      "metadata": {
        "id": "x7Ym_LNKVvz4",
        "colab": {
          "base_uri": "https://localhost:8080/"
        },
        "outputId": "d6c7352f-1a60-4e5b-e339-adb6cd1f7edb"
      },
      "source": [
        "import pickle\n",
        "from sklearn.model_selection import train_test_split\n",
        "from sklearn.pipeline import Pipeline\n",
        "from sklearn.calibration import CalibratedClassifierCV\n",
        "from sklearn.svm import LinearSVC\n",
        "\n",
        "from sklearn.model_selection import train_test_split\n",
        "X_train,X_test,y_train,y_test=train_test_split(corpus,y,test_size=0.2)\n",
        "#shape of train dataset - \n",
        "model = Pipeline([('vectorizer', CountVectorizer(ngram_range=(1,3))),\n",
        "    ('tfidf', TfidfTransformer(use_idf=True)),\n",
        "    ('clf', CalibratedClassifierCV(LinearSVC(class_weight=\"balanced\")))])\n",
        "\n",
        "trained_model = model.fit(X_train,y_train)\n",
        "trained_model.fit(X_train,y_train)\n",
        "calc = model.predict(X_test)\n",
        "#model.predict(When it comes to protecting whats most valuable to you, dont settle on second best. ADT is America's #1 security provider for home and business. It was the first home security company in America and now helps protect more than 6 million customers in North America. Whether you are welcoming a new family member into your home or looking to replace outdated security monitoring, SafeStreets has the latest equipment and a knowledgeable service team to deliver the best protection possible. With an ADT monitored alarm system from SafeStreets, your home is connected to a comprehensive monitoring network of command centers located throughout the United States. The advanced home security technology along with expertly trained professionals exhibit ADT's dedication to protecting customers. When you sign up for ADT home security monitoring, you join over 6 million people who trust ADT monitoring to help protect their families. ADT is America's #1 home security monitoring company with over 140 years of experience in the industry. When you choose SafeStreets, you can get same-day installation in most areas. ADT Monitoring comes with an ADT Money-back Service Guarantee (certain restrictions apply), making sure you are a satisfied customer. When you compare ADT monitoring from SafeStreets to other providers, you'll see why ADT monitoring continues to be one of the number one choices for customers across the country. Use your keychain remote to arm or disarm your security system with a simple touch of a button. With a SafeStreets security system, you dont have to learn an intricate system in order to get the home monitoring security you want. If your home alarm signals, ADT will call the primary contacts first before notifying local authorities for help in an emergency situation so they can respond promptly at your home. Delivering peace of mind is the number one goal. ADT monitored home protection from SafeStreets is available for a low monthly price so you can get the protection your family needs without breaking your budget. ADT monitoring from SafeStreets doesn't stop. Even when the power goes out, your backup battery will keep your system up and running. You can choose from basic home security, basic plus wireless functionality, remote access, and video control optionsall at affordable monthly prices. Let SafeStreets help you get the right security system to help protect your home and family today. Countless people are moving to Austin, TX every year to take part in this diverse and prosperous cityand perhaps you are too. As the state capital, its a thriving metropolis that isnt short on personality and charm. Some of Austins greatest attractions include the citys weather, culture and ample employment opportunitiesbut its not without its [] Learn more about ADT Monitoring near you: Alabama | Alaska | Arizona | Arkansas | California | Colorado | Connecticut | Delaware | District of Columbia | Florida | Georgia | Hawaii | Idaho | Illinois | Indiana | Iowa | Kansas | Kentucky | Louisiana | Maine | Massachusetts | Maryland | Michigan | Minnesota | Missouri | Mississippi | Montana | Nebraska | Nevada | New Hampshire | New Jersey | New Mexico | New York | North Carolina | North Dakota | Ohio | Oklahoma | Oregon | Pennsylvania | Rhode Island | South Carolina | South Dakota | Tennessee | Texas | Utah |  Vermont | Virginia | Washington | West Virginia | Wisconsin | Wyoming)\n",
        "#final_value = \n",
        "from sklearn import metrics\n",
        "from sklearn.metrics import roc_curve,roc_auc_score,accuracy_score,f1_score,confusion_matrix,classification_report,cohen_kappa_score\n",
        "\n",
        "\n",
        "print(\"Train Accuracy :\", accuracy_score(y_train,trained_model.predict(X_train)))\n",
        "print(\"Test Accuracy :\", accuracy_score(y_test, calc))\n",
        "print(\"Confusion Matrix :\", confusion_matrix(y_test, calc) )"
      ],
      "execution_count": 40,
      "outputs": [
        {
          "output_type": "stream",
          "text": [
            "Train Accuracy : 0.9984662576687117\n",
            "Test Accuracy : 0.7361963190184049\n",
            "Confusion Matrix : [[18  1  1  0  3  0  1  4]\n",
            " [ 0 24  0  0  1  0  0  1]\n",
            " [ 1  0 22  0  0  0  0  1]\n",
            " [ 0  0  0  9  2  0  1  1]\n",
            " [ 0  1  0  1 16  0  1  3]\n",
            " [ 0  0  0  0  0 13  1  0]\n",
            " [ 2  1  1  3  0  0  9  2]\n",
            " [ 5  2  0  0  2  0  0  9]]\n"
          ],
          "name": "stdout"
        }
      ]
    },
    {
      "cell_type": "code",
      "metadata": {
        "id": "tQmfzHLWV9Nd"
      },
      "source": [
        "# (y_train)\n",
        "import pickle\n",
        "#result = model.predict(X_test)\n",
        "#print(result)\n",
        "\n",
        "filename = 'TC_final_model.sav'\n",
        "pickle.dump(model, open(filename, 'wb'))\n",
        "\n",
        "\n",
        "#load the model from disk\n",
        "#filename = 'Final_model.sav'\n",
        "#loaded_model = pickle.load(open(filename, 'rb'))"
      ],
      "execution_count": 48,
      "outputs": []
    },
    {
      "cell_type": "code",
      "metadata": {
        "id": "G85ct5xhXAuQ"
      },
      "source": [
        "from sklearn import metrics\n",
        "from sklearn.metrics import roc_curve,roc_auc_score,accuracy_score,f1_score,confusion_matrix,classification_report,cohen_kappa_score\n",
        "\n",
        "result = model.predict([X_test])\n",
        "accuracy_score(y_test,result)"
      ],
      "execution_count": null,
      "outputs": []
    },
    {
      "cell_type": "code",
      "metadata": {
        "colab": {
          "base_uri": "https://localhost:8080/"
        },
        "id": "CVEjXreRKE8r",
        "outputId": "f9affc41-a70b-41ec-c176-cae120646325"
      },
      "source": [
        "input='They build algorithms focused on stream processing for detection and detailed analysis for investigation. after an initial project to detect online payment fraud, the centai is broadening its research scope to other aspects of cybersecurity'\n",
        "model.predict([input])"
      ],
      "execution_count": null,
      "outputs": [
        {
          "output_type": "execute_result",
          "data": {
            "text/plain": [
              "array(['research and development  or research '], dtype='<U62')"
            ]
          },
          "metadata": {
            "tags": []
          },
          "execution_count": 40
        }
      ]
    },
    {
      "cell_type": "code",
      "metadata": {
        "colab": {
          "base_uri": "https://localhost:8080/"
        },
        "id": "41X0Ett__1pL",
        "outputId": "8d7bd894-72c1-44d0-a8e8-31de57987139"
      },
      "source": [
        "input='Here at thales in the uk, we re innovators. in partnership with leaders in academia and industry we deliver ground-breaking research, cutting-edge design and transformative technology that drives growth in the uk and beyond'\n",
        "model.predict([input])"
      ],
      "execution_count": null,
      "outputs": [
        {
          "output_type": "execute_result",
          "data": {
            "text/plain": [
              "array(['collaboration or agreement or partnerships'], dtype='<U62')"
            ]
          },
          "metadata": {
            "tags": []
          },
          "execution_count": 41
        }
      ]
    },
    {
      "cell_type": "code",
      "metadata": {
        "colab": {
          "base_uri": "https://localhost:8080/"
        },
        "id": "TEUt-11yALgs",
        "outputId": "8e4d15db-f4e8-4edb-be9c-a44ba10bea3c"
      },
      "source": [
        "input='5g and iot - 5g and iot technology is more than just a new generation of wireless technology. it represents a fundamental change in the mobile ecosystem, unleashing a powerful combination of extraordinary speed, expanded bandwidth, low latency, and increased power efficiency that is driving billions more connections in the next five years and changing our world.'\n",
        "model.predict([input])"
      ],
      "execution_count": null,
      "outputs": [
        {
          "output_type": "execute_result",
          "data": {
            "text/plain": [
              "array(['innovation'], dtype='<U62')"
            ]
          },
          "metadata": {
            "tags": []
          },
          "execution_count": 42
        }
      ]
    },
    {
      "cell_type": "code",
      "metadata": {
        "colab": {
          "base_uri": "https://localhost:8080/"
        },
        "id": "erqL137fBPwd",
        "outputId": "595146dc-ffed-467d-bf0f-dff7f8dc5d24"
      },
      "source": [
        "input='We ve learnt that magic happens when the lines blur between work and play. thats why we invest in regular team hackathons, innovation sprints  design sprints.'\n",
        "model.predict([input])"
      ],
      "execution_count": null,
      "outputs": [
        {
          "output_type": "execute_result",
          "data": {
            "text/plain": [
              "array(['company announcements or information'], dtype='<U62')"
            ]
          },
          "metadata": {
            "tags": []
          },
          "execution_count": 43
        }
      ]
    },
    {
      "cell_type": "code",
      "metadata": {
        "colab": {
          "base_uri": "https://localhost:8080/"
        },
        "id": "FVihxH_IB__i",
        "outputId": "3238f61b-081d-4b58-e6c3-4c5ffabf9a94"
      },
      "source": [
        "input='For over 100 years, thales has been at the heart of all the major technological revolutions, including electricity, electronics, and computing.'\n",
        "model.predict([input])"
      ],
      "execution_count": null,
      "outputs": [
        {
          "output_type": "execute_result",
          "data": {
            "text/plain": [
              "array(['innovation'], dtype='<U62')"
            ]
          },
          "metadata": {
            "tags": []
          },
          "execution_count": 82
        }
      ]
    },
    {
      "cell_type": "code",
      "metadata": {
        "colab": {
          "base_uri": "https://localhost:8080/"
        },
        "id": "Rp5R3PL-C-1V",
        "outputId": "15978db7-55ae-43bb-ef37-b655d3b6bcf3"
      },
      "source": [
        "input='Thales electrical systems for aircraft are replacing pneumatic and hydraulic technologies, helping to reduce weight and save fuel. thales aims to achieve a 50% cut in co2 emissions and 80% cut in nox emissions by 2020 and is working towards the all-electric aircraft of the future.'\n",
        "model.predict([input])"
      ],
      "execution_count": null,
      "outputs": [
        {
          "output_type": "execute_result",
          "data": {
            "text/plain": [
              "array(['innovation'], dtype='<U62')"
            ]
          },
          "metadata": {
            "tags": []
          },
          "execution_count": 83
        }
      ]
    },
    {
      "cell_type": "code",
      "metadata": {
        "colab": {
          "base_uri": "https://localhost:8080/"
        },
        "id": "A9DdkPsYDO3j",
        "outputId": "2326f032-914c-4b8f-f7c4-a4883194fafd"
      },
      "source": [
        "input='You will also discover the unexpected riches of diamonds as well as the latest advances in augmented reality.'\n",
        "model.predict([input])"
      ],
      "execution_count": null,
      "outputs": [
        {
          "output_type": "execute_result",
          "data": {
            "text/plain": [
              "array(['Product Launch'], dtype='<U62')"
            ]
          },
          "metadata": {
            "tags": []
          },
          "execution_count": 84
        }
      ]
    },
    {
      "cell_type": "code",
      "metadata": {
        "colab": {
          "base_uri": "https://localhost:8080/"
        },
        "id": "6e1x0eUPDkna",
        "outputId": "9fc22d90-536b-4ad7-e754-37afa3ed41b2"
      },
      "source": [
        "input='University of bologna - department of electronics, information technology and systems theory - collaboration contract on the impulse radio for multidomain applications (irma) research topic; starting collaboration contract on the cognitive radio for the spectrum dynamic management\" research topic'\n",
        "model.predict([input])"
      ],
      "execution_count": null,
      "outputs": [
        {
          "output_type": "execute_result",
          "data": {
            "text/plain": [
              "array(['research and development  or research '], dtype='<U62')"
            ]
          },
          "metadata": {
            "tags": []
          },
          "execution_count": 85
        }
      ]
    },
    {
      "cell_type": "code",
      "metadata": {
        "colab": {
          "base_uri": "https://localhost:8080/"
        },
        "id": "cnWhQvir9zQl",
        "outputId": "312d1623-ecd9-491f-8ddd-a8c7db4180a9"
      },
      "source": [
        "input='Microsoft Azure is a growing collection of integrated cloud services—analytics, computing, database, mobile, networking, storage, and web—for moving faster, achieving more, and saving money. Here’s what you can do with Azure…'\n",
        "model.predict([input])"
      ],
      "execution_count": null,
      "outputs": [
        {
          "output_type": "execute_result",
          "data": {
            "text/plain": [
              "array(['Technology Development or Emerging Technologies (Technologies)'],\n",
              "      dtype='<U62')"
            ]
          },
          "metadata": {
            "tags": []
          },
          "execution_count": 48
        }
      ]
    },
    {
      "cell_type": "code",
      "metadata": {
        "colab": {
          "base_uri": "https://localhost:8080/"
        },
        "id": "ymLQotd7-sV4",
        "outputId": "d3ceb769-f056-457c-fedd-62aa1e8c8f7a"
      },
      "source": [
        "input='NEC is engaged in R&D to create new social value by establishing six technology areas “recognition AI,” “analytics AI,” “control AI,” “system platform,” “communication,” and “security & network.'\n",
        "model.predict([input])"
      ],
      "execution_count": null,
      "outputs": [
        {
          "output_type": "execute_result",
          "data": {
            "text/plain": [
              "array(['Technology Development or Emerging Technologies (Technologies)'],\n",
              "      dtype='<U62')"
            ]
          },
          "metadata": {
            "tags": []
          },
          "execution_count": 74
        }
      ]
    },
    {
      "cell_type": "code",
      "metadata": {
        "colab": {
          "base_uri": "https://localhost:8080/"
        },
        "id": "IuS974EEBL5T",
        "outputId": "acbc69de-984d-4214-a9a4-b493c4372827"
      },
      "source": [
        "input='NEC is engaged in Research and Development'\n",
        "model.predict([input])"
      ],
      "execution_count": null,
      "outputs": [
        {
          "output_type": "execute_result",
          "data": {
            "text/plain": [
              "array(['research and development  or research '], dtype='<U62')"
            ]
          },
          "metadata": {
            "tags": []
          },
          "execution_count": 76
        }
      ]
    },
    {
      "cell_type": "code",
      "metadata": {
        "colab": {
          "base_uri": "https://localhost:8080/"
        },
        "id": "Z4HHkD3fCScH",
        "outputId": "90d441e4-33af-4d03-a901-7f35ba22200c"
      },
      "source": [
        "input='Innovation cannot happen without ideas. by generating many ideas, the teams explore new possibilities to innovate and look beyond what has already been done. the ideas are developed into strong concepts that solves real business problems.'\n",
        "model.predict([input])"
      ],
      "execution_count": null,
      "outputs": [
        {
          "output_type": "execute_result",
          "data": {
            "text/plain": [
              "array(['innovation'], dtype='<U62')"
            ]
          },
          "metadata": {
            "tags": []
          },
          "execution_count": 81
        }
      ]
    },
    {
      "cell_type": "code",
      "metadata": {
        "id": "9pD83myiCo4J"
      },
      "source": [
        ""
      ],
      "execution_count": null,
      "outputs": []
    },
    {
      "cell_type": "code",
      "metadata": {
        "id": "Q2k6DbTwBp10"
      },
      "source": [
        ""
      ],
      "execution_count": null,
      "outputs": []
    },
    {
      "cell_type": "markdown",
      "metadata": {
        "id": "leWJiTeKuVOg"
      },
      "source": [
        "# KFold"
      ]
    },
    {
      "cell_type": "code",
      "metadata": {
        "id": "ElUJBIfefI5K"
      },
      "source": [
        "from sklearn.model_selection import KFold\n",
        "kfold = KFold(n_splits=4, shuffle=True, random_state = 42)\n"
      ],
      "execution_count": 41,
      "outputs": []
    },
    {
      "cell_type": "code",
      "metadata": {
        "colab": {
          "base_uri": "https://localhost:8080/"
        },
        "id": "w22Lv9zin8Y-",
        "outputId": "6adb29a5-a2e3-4526-eb9d-78925ceebbd4"
      },
      "source": [
        "from numpy import mean\n",
        "from numpy import std\n",
        "from sklearn.pipeline import Pipeline\n",
        "from sklearn.calibration import CalibratedClassifierCV\n",
        "from sklearn.svm import LinearSVC\n",
        "from sklearn.model_selection import cross_val_score, cross_val_predict\n",
        "\n",
        "model = Pipeline([('vectorizer', CountVectorizer(ngram_range=(1,3))),\n",
        "    ('tfidf', TfidfTransformer(use_idf=True)),\n",
        "    ('clf', CalibratedClassifierCV(LinearSVC(class_weight=\"balanced\")))])\n",
        "\n",
        "scores = cross_val_score(model, corpus, y, scoring = 'accuracy', cv=kfold, n_jobs = -1)\n",
        "print('Accuracy: %.3f (%.3f)' % (mean(scores), std(scores)))"
      ],
      "execution_count": 43,
      "outputs": [
        {
          "output_type": "stream",
          "text": [
            "Accuracy: 0.702 (0.017)\n"
          ],
          "name": "stdout"
        }
      ]
    },
    {
      "cell_type": "markdown",
      "metadata": {
        "id": "Zz8MAMIHwRHB"
      },
      "source": [
        "#Rep"
      ]
    },
    {
      "cell_type": "code",
      "metadata": {
        "id": "lcm-LTcMvx38"
      },
      "source": [
        "from sklearn.model_selection import RepeatedKFold\n",
        "fold = RepeatedKFold(n_splits=5, n_repeats = 5, random_state=1)"
      ],
      "execution_count": null,
      "outputs": []
    },
    {
      "cell_type": "code",
      "metadata": {
        "colab": {
          "base_uri": "https://localhost:8080/"
        },
        "id": "Z_A-euAJwLmx",
        "outputId": "75facdf7-6608-48f1-9573-0bf86c557001"
      },
      "source": [
        "from numpy import mean\n",
        "from numpy import std\n",
        "from sklearn.model_selection import cross_val_score, cross_val_predict\n",
        "\n",
        "model = Pipeline([('vectorizer', CountVectorizer(ngram_range=(1,3))),\n",
        "    ('tfidf', TfidfTransformer(use_idf=True)),\n",
        "    ('clf', CalibratedClassifierCV(LinearSVC(class_weight=\"balanced\")))])\n",
        "\n",
        "scores = cross_val_score(model, d2['lemma'], y, scoring = 'accuracy', cv=fold, n_jobs = -1)\n",
        "print('Accuracy: %.3f (%.3f)' % (mean(scores), std(scores)))"
      ],
      "execution_count": null,
      "outputs": [
        {
          "output_type": "stream",
          "text": [
            "Accuracy: 0.623 (0.024)\n"
          ],
          "name": "stdout"
        }
      ]
    },
    {
      "cell_type": "code",
      "metadata": {
        "colab": {
          "base_uri": "https://localhost:8080/"
        },
        "id": "OvDiKFOsPdJr",
        "outputId": "2beef856-4629-46cb-b74a-91fb28cfc3e7"
      },
      "source": [
        "#input=\"ascendant consulting firm offer first class market research service focus providing client information allows accurate confident decision making market assessment market entry expansion planning client depend ascendant consulting firm market research result drive creation strategy solution effectively achieve customer retention new customer acquisition competitive advantage accurate market viabilityfeasibility team comprised academic professional collectively 95 year practical expertise qualitative quantitative market research analysis advanced quantitative analytics strategic marketing financial analysis analytics\"\n",
        "input=\"latest television news including story relating channel network tv broadcaster get newest story new season lineup series premiere sport coverage find information growing link traditional television new medium announcement new partnership online contest opportunity audience engagement keep eye recent viewing figure financial report major network communication group songtradr world largest b2b music licensing marketplace announced today acquired song zu awarded music sound timetofinds mission simple want help consumer speed dating authorised retailer watch want stock home entertainment industry transition digital streaming look nearly complete digital content streaming industry still enghouse network pleased announce conway corporation leveraged enghouse espialtv saas platform strengthen delivery tv xiaomi partnering airconsole distribution airconsoles multiplayer cloud gaming platform app featured xiaomis harvard study published last july reported communist party china cpc high rate support satisfaction among chinese c seed proudly present revolutionary m1 marking new state art package tv technology design sculpturelike column rise new eightepisode documentary poverty explores inside story china successful eradication extreme poverty produced fundamental purpose serving people heart soul communist party china cpc devoted leading nation towards cfi financial group leading online trading service provider announced new partnership famous middle eastern tv presenter corsearch inc pleased announce acquisition entura pioneer protection content online piracy following starzplay region home anime 1000 episode anime content brought subscriber tv tokyo corporation evening february 12 gmt 800 first day new year 2021 according chinese lunar calendar video program hakka disturb uk number 1 musicbased tv channel thats tv rebrand thats 60 freeview weekend first time sponsored overseas chinese affair office state council organized hunan broadcasting system worldwide celebration chinese new year strong tv campaign help increase awareness echo online nh prescription service online pharmacy agency called ekstasy may seem annual spring festival gala one china mostwatched program year festival also feature new us technology according house givenchy pleased announce canadian singer weeknd wore custom outfit designed creative director matthew amazon original series hitoshi matsumoto present freeze season 2 produced japan yoshimoto kogyo co ltd streamed amazon iwedia leading provider software solution tv device pleased announce appointment xavier marl director sale wednesday mark lichun first solar term year considered beginning spring chinese saying go whole year work according new market research report cloud tv market deployment type public cloud private cloud device type stbs mobilelondon march 10 2021 prnewswire highlight average spend uk credit card fell 14 percent 570 payment percentage balance reached two year high percentage account balance missing two payment continued increase proportion consumer using cash continued\"\n",
        "model.predict([input])"
      ],
      "execution_count": null,
      "outputs": [
        {
          "output_type": "execute_result",
          "data": {
            "text/plain": [
              "array(['News Domain'], dtype='<U18')"
            ]
          },
          "metadata": {
            "tags": []
          },
          "execution_count": 34
        }
      ]
    },
    {
      "cell_type": "markdown",
      "metadata": {
        "id": "wSRZ793mQ0gA"
      },
      "source": [
        "## Logistic Regression"
      ]
    },
    {
      "cell_type": "code",
      "metadata": {
        "id": "zvZCjiSntpjz"
      },
      "source": [
        "X=data['lemma']\n",
        "\n",
        "model = Pipeline([('vectorizer', CountVectorizer(ngram_range=(1,3))),\n",
        "                  ('tfidf', TfidfTransformer(use_idf=True)),\n",
        "    ('clf', CalibratedClassifierCV(LogisticRegression(multi_class='ovr')))])"
      ],
      "execution_count": null,
      "outputs": []
    },
    {
      "cell_type": "code",
      "metadata": {
        "colab": {
          "base_uri": "https://localhost:8080/"
        },
        "id": "E-6VoJLUQCbR",
        "outputId": "2788bc59-13dc-4355-a561-14e41f11ba02"
      },
      "source": [
        "import pickle\n",
        "from sklearn.model_selection import train_test_split\n",
        "from sklearn.pipeline import Pipeline\n",
        "from sklearn.calibration import CalibratedClassifierCV\n",
        "from sklearn.linear_model import LogisticRegression\n",
        "\n",
        "from sklearn.model_selection import train_test_split\n",
        "X_train,X_test,y_train,y_test=train_test_split(corpus,y,test_size=0.2,random_state=1)\n",
        "\n",
        "model = Pipeline([('vectorizer', CountVectorizer(ngram_range=(1,3))),\n",
        "                  ('tfidf', TfidfTransformer(use_idf=True)),\n",
        "    ('clf', CalibratedClassifierCV(LogisticRegression(multi_class='ovr')))])\n",
        "\n",
        "trained_model = model.fit(X_train, y_train)\n",
        "out = model.predict(X_test)\n",
        "print(\"Train Accuracy: \", accuracy_score(y_train, trained_model.predict(X_train)))\n",
        "print(\"Test Accuracy: \",accuracy_score(y_test,out))"
      ],
      "execution_count": 47,
      "outputs": [
        {
          "output_type": "stream",
          "text": [
            "Train Accuracy:  0.995398773006135\n",
            "Test Accuracy:  0.7300613496932515\n"
          ],
          "name": "stdout"
        }
      ]
    },
    {
      "cell_type": "code",
      "metadata": {
        "colab": {
          "base_uri": "https://localhost:8080/"
        },
        "id": "iAtZCMnErEl5",
        "outputId": "5be4e9a0-bab3-4766-f8aa-0c2f8f1953fe"
      },
      "source": [
        "from numpy import mean\n",
        "from numpy import std\n",
        "from sklearn.model_selection import cross_val_score, cross_val_predict\n",
        "\n",
        "from sklearn.model_selection import KFold\n",
        "kfold = KFold(n_splits=4, shuffle=True, random_state = 1)\n",
        "\n",
        "model = Pipeline([('vectorizer', CountVectorizer(ngram_range=(1,3))),\n",
        "                  ('tfidf', TfidfTransformer(use_idf=True)),\n",
        "    ('clf', CalibratedClassifierCV(LogisticRegression(multi_class='ovr')))])\n",
        "\n",
        "scores = cross_val_score(model, corpus, y, scoring = 'accuracy', cv=kfold, n_jobs = -1)\n",
        "print('Accuracy: %.3f (%.3f)' % (mean(scores), std(scores)))"
      ],
      "execution_count": 46,
      "outputs": [
        {
          "output_type": "stream",
          "text": [
            "Accuracy: 0.734 (0.014)\n"
          ],
          "name": "stdout"
        }
      ]
    },
    {
      "cell_type": "code",
      "metadata": {
        "colab": {
          "base_uri": "https://localhost:8080/"
        },
        "id": "xaq5tmdlwyHq",
        "outputId": "ebcff4a9-d5b8-40e1-bb14-20630f2632ce"
      },
      "source": [
        "from sklearn.model_selection import RepeatedKFold\n",
        "fold = RepeatedKFold(n_splits=4, n_repeats = 3, random_state=1)\n",
        "\n",
        "from numpy import mean\n",
        "from numpy import std\n",
        "from sklearn.model_selection import cross_val_score, cross_val_predict\n",
        "\n",
        "model = Pipeline([('vectorizer', CountVectorizer(ngram_range=(1,3))),\n",
        "                  ('tfidf', TfidfTransformer(use_idf=True)),\n",
        "    ('clf', CalibratedClassifierCV(LogisticRegression(multi_class='ovr')))])\n",
        "\n",
        "scores = cross_val_score(model, d2['lemma'], y, scoring = 'accuracy', cv=fold, n_jobs = -1)\n",
        "print('Accuracy: %.3f (%.3f)' % (mean(scores), std(scores)))"
      ],
      "execution_count": null,
      "outputs": [
        {
          "output_type": "stream",
          "text": [
            "/usr/local/lib/python3.7/dist-packages/joblib/externals/loky/process_executor.py:691: UserWarning: A worker stopped while some jobs were given to the executor. This can be caused by a too short worker timeout or by a memory leak.\n",
            "  \"timeout or by a memory leak.\", UserWarning\n"
          ],
          "name": "stderr"
        },
        {
          "output_type": "stream",
          "text": [
            "Accuracy: 0.614 (0.020)\n"
          ],
          "name": "stdout"
        }
      ]
    },
    {
      "cell_type": "markdown",
      "metadata": {
        "id": "gkBnvSf-w22b"
      },
      "source": [
        "######"
      ]
    },
    {
      "cell_type": "markdown",
      "metadata": {
        "id": "AI0FuNjA3Y93"
      },
      "source": [
        "#Hyper-Parameter Tuning"
      ]
    },
    {
      "cell_type": "code",
      "metadata": {
        "id": "tXxsczqC3ehh"
      },
      "source": [
        "model=LogisticRegression(multi_class='ovr')\n",
        "space = dict()\n",
        "space['solver']=['newton-cg','lbfgs', 'liblinear']\n",
        "space['penalty']=['none', 'l1', 'l2', 'elasticnet']\n",
        "#space['multi_class']=['auto','ovr','multinomial']\n",
        "space['C']=[100,10,1.0,0.1,0.01]\n",
        "#solvers=\n",
        "#penalty=\n",
        "#c_values=\n",
        "\n",
        "#Grid Search\n",
        "\n",
        "#grid = dict(solvers=solvers, penalty=penalty, C=C)\n",
        "#cv = RepeatedStratifiedKFold(n_splits=10, n_repeats=3, random_state=1)\n",
        "search = GridSearchCV(estimator=model, param_grid=space, n_jobs=-1, scoring='accuracy',error_score=0)\n",
        "result = search.fit(X_train, y_train)\n",
        "print('Best Score: %s' % result.best_score_)\n",
        "print('Best Hyperparameters: %s' % result.best_params_)\n",
        "\n"
      ],
      "execution_count": null,
      "outputs": []
    },
    {
      "cell_type": "code",
      "metadata": {
        "colab": {
          "base_uri": "https://localhost:8080/"
        },
        "id": "M98w__FiDXzw",
        "outputId": "4ac05651-0be9-4603-f7a8-a7085dbacf7d"
      },
      "source": [
        "model.get_params().keys()"
      ],
      "execution_count": null,
      "outputs": [
        {
          "output_type": "execute_result",
          "data": {
            "text/plain": [
              "dict_keys(['C', 'class_weight', 'dual', 'fit_intercept', 'intercept_scaling', 'l1_ratio', 'max_iter', 'multi_class', 'n_jobs', 'penalty', 'random_state', 'solver', 'tol', 'verbose', 'warm_start'])"
            ]
          },
          "metadata": {
            "tags": []
          },
          "execution_count": 71
        }
      ]
    },
    {
      "cell_type": "code",
      "metadata": {
        "colab": {
          "base_uri": "https://localhost:8080/"
        },
        "id": "dNuIS5WJlzeB",
        "outputId": "859b2674-812d-443f-e197-0bd004c4beb6"
      },
      "source": [
        "model = Pipeline([('tfidf', TfidfTransformer(use_idf=True)),\n",
        "    ('clf', CalibratedClassifierCV(LinearSVC(class_weight=\"balanced\")))])\n",
        "#model=LogisticRegression(multi_class='ovr')\n",
        "space = dict()\n",
        "space['clf__base_estimator__multi_class']=['ovr', 'crammer_singer']\n",
        "space['clf__base_estimator__penalty']=['l1', 'l2']\n",
        "#space['multi_class']=['auto','ovr','multinomial']\n",
        "space['clf__base_estimator__C']=[100,10,1.0,0.1,0.01]\n",
        "#solvers=\n",
        "#penalty=\n",
        "#c_values=\n",
        "\n",
        "#Grid Search\n",
        "\n",
        "#grid = dict(solvers=solvers, penalty=penalty, C=C)\n",
        "#cv = RepeatedStratifiedKFold(n_splits=10, n_repeats=3, random_state=1)\n",
        "search = GridSearchCV(estimator=model, param_grid=space, n_jobs=-1, scoring='accuracy', error_score=0)\n",
        "result = search.fit(X_train, y_train)\n",
        "print('Best Score: %s' % result.best_score_)\n",
        "print('Best Hyperparameters: %s' % result.best_params_)\n",
        "\n",
        "\n"
      ],
      "execution_count": null,
      "outputs": [
        {
          "output_type": "stream",
          "text": [
            "Best Score: 0.5527905785970302\n",
            "Best Hyperparameters: {'clf__base_estimator__C': 1.0, 'clf__base_estimator__multi_class': 'ovr', 'clf__base_estimator__penalty': 'l2'}\n"
          ],
          "name": "stdout"
        }
      ]
    },
    {
      "cell_type": "code",
      "metadata": {
        "colab": {
          "base_uri": "https://localhost:8080/"
        },
        "id": "91SSfw9umDPF",
        "outputId": "203191a8-d3a4-4c3a-f3fa-68196f706a3e"
      },
      "source": [
        "model.get_params().keys()"
      ],
      "execution_count": null,
      "outputs": [
        {
          "output_type": "execute_result",
          "data": {
            "text/plain": [
              "dict_keys(['memory', 'steps', 'verbose', 'tfidf', 'clf', 'tfidf__norm', 'tfidf__smooth_idf', 'tfidf__sublinear_tf', 'tfidf__use_idf', 'clf__base_estimator__C', 'clf__base_estimator__class_weight', 'clf__base_estimator__dual', 'clf__base_estimator__fit_intercept', 'clf__base_estimator__intercept_scaling', 'clf__base_estimator__l1_ratio', 'clf__base_estimator__max_iter', 'clf__base_estimator__multi_class', 'clf__base_estimator__n_jobs', 'clf__base_estimator__penalty', 'clf__base_estimator__random_state', 'clf__base_estimator__solver', 'clf__base_estimator__tol', 'clf__base_estimator__verbose', 'clf__base_estimator__warm_start', 'clf__base_estimator', 'clf__cv', 'clf__method'])"
            ]
          },
          "metadata": {
            "tags": []
          },
          "execution_count": 133
        }
      ]
    },
    {
      "cell_type": "code",
      "metadata": {
        "colab": {
          "base_uri": "https://localhost:8080/"
        },
        "id": "wk6r_Gl2mQnq",
        "outputId": "87b4d7b4-14f7-42d3-d11f-6f98b239c518"
      },
      "source": [
        "#Randomised Search\n",
        "\n",
        "model = Pipeline([('tfidf', TfidfTransformer(use_idf=True)),\n",
        "    ('clf', CalibratedClassifierCV(LogisticRegression(multi_class='ovr')))])\n",
        "#model=LogisticRegression(multi_class='ovr')\n",
        "space = dict()\n",
        "space['clf__base_estimator__solver']=['newton-cg','lbfgs', 'liblinear']\n",
        "space['clf__base_estimator__penalty']=['none', 'l1', 'l2', 'elasticnet']\n",
        "#space['multi_class']=['auto','ovr','multinomial']\n",
        "space['clf__base_estimator__C']=[100,10,1.0,0.1,0.01]\n",
        "\n",
        "\n",
        "#cv = RepeatedStratifiedKFold(n_splits=10, n_repeats=3, random_state=1)\n",
        "#space = dict(solvers=solvers, penalty=penalty, C=c_values)\n",
        "search = RandomizedSearchCV(model, space, n_iter=200, scoring='accuracy', n_jobs=-1, random_state=1)\n",
        "result = search.fit(X_train,y_train)\n",
        "print('Best Score: %s' % result.best_score_)\n",
        "print('Best Hyperparameters: %s' % result.best_params_)"
      ],
      "execution_count": null,
      "outputs": [
        {
          "output_type": "stream",
          "text": [
            "/usr/local/lib/python3.7/dist-packages/sklearn/model_selection/_search.py:281: UserWarning: The total space of parameters 60 is smaller than n_iter=200. Running 60 iterations. For exhaustive searches, use GridSearchCV.\n",
            "  % (grid_size, self.n_iter, grid_size), UserWarning)\n",
            "/usr/local/lib/python3.7/dist-packages/sklearn/svm/_base.py:947: ConvergenceWarning: Liblinear failed to converge, increase the number of iterations.\n",
            "  \"the number of iterations.\", ConvergenceWarning)\n"
          ],
          "name": "stderr"
        },
        {
          "output_type": "stream",
          "text": [
            "Best Score: 0.5625192012288787\n",
            "Best Hyperparameters: {'clf__base_estimator__solver': 'liblinear', 'clf__base_estimator__penalty': 'l1', 'clf__base_estimator__C': 10}\n"
          ],
          "name": "stdout"
        }
      ]
    },
    {
      "cell_type": "markdown",
      "metadata": {
        "id": "cMFo3a5FytDn"
      },
      "source": [
        "#FastText"
      ]
    },
    {
      "cell_type": "code",
      "metadata": {
        "colab": {
          "base_uri": "https://localhost:8080/"
        },
        "id": "uJUqCCmd34jB",
        "outputId": "494296a8-67ba-4da7-a4c2-5151bc41a2cb"
      },
      "source": [
        "! git clone https://github.com/facebookresearch/fastText.git"
      ],
      "execution_count": null,
      "outputs": [
        {
          "output_type": "stream",
          "text": [
            "Cloning into 'fastText'...\n",
            "remote: Enumerating objects: 3854, done.\u001b[K\n",
            "remote: Total 3854 (delta 0), reused 0 (delta 0), pack-reused 3854\u001b[K\n",
            "Receiving objects: 100% (3854/3854), 8.22 MiB | 22.28 MiB/s, done.\n",
            "Resolving deltas: 100% (2417/2417), done.\n"
          ],
          "name": "stdout"
        }
      ]
    },
    {
      "cell_type": "code",
      "metadata": {
        "colab": {
          "base_uri": "https://localhost:8080/"
        },
        "id": "-G_NVWBszX-m",
        "outputId": "569f0665-fcb6-400a-8bed-75d295472133"
      },
      "source": [
        "%cd fastText\n",
        "!make"
      ],
      "execution_count": null,
      "outputs": [
        {
          "output_type": "stream",
          "text": [
            "/content/fastText\n",
            "c++ -pthread -std=c++11 -march=native -O3 -funroll-loops -DNDEBUG -c src/args.cc\n",
            "c++ -pthread -std=c++11 -march=native -O3 -funroll-loops -DNDEBUG -c src/autotune.cc\n",
            "c++ -pthread -std=c++11 -march=native -O3 -funroll-loops -DNDEBUG -c src/matrix.cc\n",
            "c++ -pthread -std=c++11 -march=native -O3 -funroll-loops -DNDEBUG -c src/dictionary.cc\n",
            "c++ -pthread -std=c++11 -march=native -O3 -funroll-loops -DNDEBUG -c src/loss.cc\n",
            "c++ -pthread -std=c++11 -march=native -O3 -funroll-loops -DNDEBUG -c src/productquantizer.cc\n",
            "c++ -pthread -std=c++11 -march=native -O3 -funroll-loops -DNDEBUG -c src/densematrix.cc\n",
            "c++ -pthread -std=c++11 -march=native -O3 -funroll-loops -DNDEBUG -c src/quantmatrix.cc\n",
            "c++ -pthread -std=c++11 -march=native -O3 -funroll-loops -DNDEBUG -c src/vector.cc\n",
            "c++ -pthread -std=c++11 -march=native -O3 -funroll-loops -DNDEBUG -c src/model.cc\n",
            "c++ -pthread -std=c++11 -march=native -O3 -funroll-loops -DNDEBUG -c src/utils.cc\n",
            "c++ -pthread -std=c++11 -march=native -O3 -funroll-loops -DNDEBUG -c src/meter.cc\n",
            "c++ -pthread -std=c++11 -march=native -O3 -funroll-loops -DNDEBUG -c src/fasttext.cc\n",
            "c++ -pthread -std=c++11 -march=native -O3 -funroll-loops -DNDEBUG args.o autotune.o matrix.o dictionary.o loss.o productquantizer.o densematrix.o quantmatrix.o vector.o model.o utils.o meter.o fasttext.o src/main.cc -o fasttext\n"
          ],
          "name": "stdout"
        }
      ]
    },
    {
      "cell_type": "code",
      "metadata": {
        "colab": {
          "base_uri": "https://localhost:8080/"
        },
        "id": "nMijwRxO1kdr",
        "outputId": "1c15f01c-1738-421d-d5c2-66d3892ecca0"
      },
      "source": [
        "! ./fasttext"
      ],
      "execution_count": null,
      "outputs": [
        {
          "output_type": "stream",
          "text": [
            "usage: fasttext <command> <args>\n",
            "\n",
            "The commands supported by fasttext are:\n",
            "\n",
            "  supervised              train a supervised classifier\n",
            "  quantize                quantize a model to reduce the memory usage\n",
            "  test                    evaluate a supervised classifier\n",
            "  test-label              print labels with precision and recall scores\n",
            "  predict                 predict most likely labels\n",
            "  predict-prob            predict most likely labels with probabilities\n",
            "  skipgram                train a skipgram model\n",
            "  cbow                    train a cbow model\n",
            "  print-word-vectors      print word vectors given a trained model\n",
            "  print-sentence-vectors  print sentence vectors given a trained model\n",
            "  print-ngrams            print ngrams given a trained model and word\n",
            "  nn                      query for nearest neighbors\n",
            "  analogies               query for analogies\n",
            "  dump                    dump arguments,dictionary,input/output vectors\n",
            "\n"
          ],
          "name": "stdout"
        }
      ]
    },
    {
      "cell_type": "code",
      "metadata": {
        "colab": {
          "base_uri": "https://localhost:8080/",
          "height": 578
        },
        "id": "A2NSDTrIawII",
        "outputId": "a8227908-9f0d-45a3-ef30-1b5326723b5a"
      },
      "source": [
        "d2.head()"
      ],
      "execution_count": null,
      "outputs": [
        {
          "output_type": "execute_result",
          "data": {
            "text/html": [
              "<div>\n",
              "<style scoped>\n",
              "    .dataframe tbody tr th:only-of-type {\n",
              "        vertical-align: middle;\n",
              "    }\n",
              "\n",
              "    .dataframe tbody tr th {\n",
              "        vertical-align: top;\n",
              "    }\n",
              "\n",
              "    .dataframe thead th {\n",
              "        text-align: right;\n",
              "    }\n",
              "</style>\n",
              "<table border=\"1\" class=\"dataframe\">\n",
              "  <thead>\n",
              "    <tr style=\"text-align: right;\">\n",
              "      <th></th>\n",
              "      <th>Domain</th>\n",
              "      <th>Description</th>\n",
              "      <th>Domain_Type</th>\n",
              "      <th>sentence_lower</th>\n",
              "      <th>sentence_no_punctuation</th>\n",
              "      <th>lemma</th>\n",
              "    </tr>\n",
              "  </thead>\n",
              "  <tbody>\n",
              "    <tr>\n",
              "      <th>0</th>\n",
              "      <td>https://bciglobal.com</td>\n",
              "      <td>Supply Chain Strategy Supply Chain Network Des...</td>\n",
              "      <td>Consultancy Domain</td>\n",
              "      <td>supply chain strategy supply chain network des...</td>\n",
              "      <td>supply chain strategy supply chain network des...</td>\n",
              "      <td>supply chain strategy supply chain network des...</td>\n",
              "    </tr>\n",
              "    <tr>\n",
              "      <th>1</th>\n",
              "      <td>https://ummid.com</td>\n",
              "      <td>Ummid.com is owned and published by  Awaz Mult...</td>\n",
              "      <td>News Domain</td>\n",
              "      <td>ummid.com is owned and published by  awaz mult...</td>\n",
              "      <td>ummidcom is owned and published by  awaz multi...</td>\n",
              "      <td>ummidcom owned published awaz multimedia publi...</td>\n",
              "    </tr>\n",
              "    <tr>\n",
              "      <th>2</th>\n",
              "      <td>http://jll.de</td>\n",
              "      <td>Die halbjhrlich erscheinende Publikation liefe...</td>\n",
              "      <td>Priority Domain</td>\n",
              "      <td>die halbjhrlich erscheinende publikation liefe...</td>\n",
              "      <td>die halbjhrlich erscheinende publikation liefe...</td>\n",
              "      <td>die halbjhrlich erscheinende publikation liefe...</td>\n",
              "    </tr>\n",
              "    <tr>\n",
              "      <th>3</th>\n",
              "      <td>https://mindcommerce.com</td>\n",
              "      <td>Mind Commerce is an information services compa...</td>\n",
              "      <td>Consultancy Domain</td>\n",
              "      <td>mind commerce is an information services compa...</td>\n",
              "      <td>mind commerce is an information services compa...</td>\n",
              "      <td>mind commerce information service company focu...</td>\n",
              "    </tr>\n",
              "    <tr>\n",
              "      <th>4</th>\n",
              "      <td>http://saglobal.com</td>\n",
              "      <td>We are a group of consultants  a bunch of keen...</td>\n",
              "      <td>Priority Domain</td>\n",
              "      <td>we are a group of consultants  a bunch of keen...</td>\n",
              "      <td>we are a group of consultants  a bunch of keen...</td>\n",
              "      <td>group consultant bunch keen listener troop pro...</td>\n",
              "    </tr>\n",
              "  </tbody>\n",
              "</table>\n",
              "</div>"
            ],
            "text/plain": [
              "                     Domain  ...                                              lemma\n",
              "0     https://bciglobal.com  ...  supply chain strategy supply chain network des...\n",
              "1         https://ummid.com  ...  ummidcom owned published awaz multimedia publi...\n",
              "2             http://jll.de  ...  die halbjhrlich erscheinende publikation liefe...\n",
              "3  https://mindcommerce.com  ...  mind commerce information service company focu...\n",
              "4       http://saglobal.com  ...  group consultant bunch keen listener troop pro...\n",
              "\n",
              "[5 rows x 6 columns]"
            ]
          },
          "metadata": {
            "tags": []
          },
          "execution_count": 17
        }
      ]
    },
    {
      "cell_type": "code",
      "metadata": {
        "colab": {
          "base_uri": "https://localhost:8080/"
        },
        "id": "gVjWDU3JQ-uw",
        "outputId": "a98b59b6-a7f3-4409-8484-eab59c01bf74"
      },
      "source": [
        "d3=d2[['Domain_Type','stemmed']]\n",
        "d3.head()\n",
        "d3['Domain_Type'].value_counts()"
      ],
      "execution_count": null,
      "outputs": [
        {
          "output_type": "execute_result",
          "data": {
            "text/plain": [
              "News Domain           172\n",
              "Consultancy Domain    166\n",
              "Syndicate Domain      154\n",
              "Name: Domain_Type, dtype: int64"
            ]
          },
          "metadata": {
            "tags": []
          },
          "execution_count": 35
        }
      ]
    },
    {
      "cell_type": "code",
      "metadata": {
        "colab": {
          "base_uri": "https://localhost:8080/",
          "height": 326
        },
        "id": "icgNHtj4UEef",
        "outputId": "e7bb8442-86f8-4c04-d9a2-b7a25efd0401"
      },
      "source": [
        "d3['Domain_Type']=['__label__'+s.replace(' or ', '$').replace(', or ','$').replace(',','$').replace(' ','_').replace(',','__label__').replace('$$','$').replace('___','__') for s in d3['Domain_Type']]\n",
        "#d3['Domain_Type'].head()\n",
        "d3.head()"
      ],
      "execution_count": null,
      "outputs": [
        {
          "output_type": "stream",
          "text": [
            "/usr/local/lib/python3.7/dist-packages/ipykernel_launcher.py:1: SettingWithCopyWarning: \n",
            "A value is trying to be set on a copy of a slice from a DataFrame.\n",
            "Try using .loc[row_indexer,col_indexer] = value instead\n",
            "\n",
            "See the caveats in the documentation: https://pandas.pydata.org/pandas-docs/stable/user_guide/indexing.html#returning-a-view-versus-a-copy\n",
            "  \"\"\"Entry point for launching an IPython kernel.\n"
          ],
          "name": "stderr"
        },
        {
          "output_type": "execute_result",
          "data": {
            "text/html": [
              "<div>\n",
              "<style scoped>\n",
              "    .dataframe tbody tr th:only-of-type {\n",
              "        vertical-align: middle;\n",
              "    }\n",
              "\n",
              "    .dataframe tbody tr th {\n",
              "        vertical-align: top;\n",
              "    }\n",
              "\n",
              "    .dataframe thead th {\n",
              "        text-align: right;\n",
              "    }\n",
              "</style>\n",
              "<table border=\"1\" class=\"dataframe\">\n",
              "  <thead>\n",
              "    <tr style=\"text-align: right;\">\n",
              "      <th></th>\n",
              "      <th>Domain_Type</th>\n",
              "      <th>stemmed</th>\n",
              "    </tr>\n",
              "  </thead>\n",
              "  <tbody>\n",
              "    <tr>\n",
              "      <th>0</th>\n",
              "      <td>__label__Syndicate_Domain</td>\n",
              "      <td>group seniorlevel execut identifi need busi ex...</td>\n",
              "    </tr>\n",
              "    <tr>\n",
              "      <th>1</th>\n",
              "      <td>__label__Consultancy_Domain</td>\n",
              "      <td>ezybiz india multidisciplinari consult firm fu...</td>\n",
              "    </tr>\n",
              "    <tr>\n",
              "      <th>2</th>\n",
              "      <td>__label__Syndicate_Domain</td>\n",
              "      <td>whether search market data across part worldw ...</td>\n",
              "    </tr>\n",
              "    <tr>\n",
              "      <th>3</th>\n",
              "      <td>__label__Syndicate_Domain</td>\n",
              "      <td>realli want alway get use websit applic app th...</td>\n",
              "    </tr>\n",
              "    <tr>\n",
              "      <th>4</th>\n",
              "      <td>__label__Consultancy_Domain</td>\n",
              "      <td>orion market research omr market research comp...</td>\n",
              "    </tr>\n",
              "  </tbody>\n",
              "</table>\n",
              "</div>"
            ],
            "text/plain": [
              "                   Domain_Type                                            stemmed\n",
              "0    __label__Syndicate_Domain  group seniorlevel execut identifi need busi ex...\n",
              "1  __label__Consultancy_Domain  ezybiz india multidisciplinari consult firm fu...\n",
              "2    __label__Syndicate_Domain  whether search market data across part worldw ...\n",
              "3    __label__Syndicate_Domain  realli want alway get use websit applic app th...\n",
              "4  __label__Consultancy_Domain  orion market research omr market research comp..."
            ]
          },
          "metadata": {
            "tags": []
          },
          "execution_count": 36
        }
      ]
    },
    {
      "cell_type": "code",
      "metadata": {
        "colab": {
          "base_uri": "https://localhost:8080/",
          "height": 204
        },
        "id": "ye0XnCTpUuaN",
        "outputId": "cd269164-546b-485b-93fa-b0fa8813f1e2"
      },
      "source": [
        "d3.tail()"
      ],
      "execution_count": null,
      "outputs": [
        {
          "output_type": "execute_result",
          "data": {
            "text/html": [
              "<div>\n",
              "<style scoped>\n",
              "    .dataframe tbody tr th:only-of-type {\n",
              "        vertical-align: middle;\n",
              "    }\n",
              "\n",
              "    .dataframe tbody tr th {\n",
              "        vertical-align: top;\n",
              "    }\n",
              "\n",
              "    .dataframe thead th {\n",
              "        text-align: right;\n",
              "    }\n",
              "</style>\n",
              "<table border=\"1\" class=\"dataframe\">\n",
              "  <thead>\n",
              "    <tr style=\"text-align: right;\">\n",
              "      <th></th>\n",
              "      <th>Domain_Type</th>\n",
              "      <th>stemmed</th>\n",
              "    </tr>\n",
              "  </thead>\n",
              "  <tbody>\n",
              "    <tr>\n",
              "      <th>487</th>\n",
              "      <td>__label__Consultancy_Domain</td>\n",
              "      <td>found 1855 savil one world lead properti agenc...</td>\n",
              "    </tr>\n",
              "    <tr>\n",
              "      <th>488</th>\n",
              "      <td>__label__News_Domain</td>\n",
              "      <td>horizont media brand cover wide rang machin pr...</td>\n",
              "    </tr>\n",
              "    <tr>\n",
              "      <th>489</th>\n",
              "      <td>__label__News_Domain</td>\n",
              "      <td>book written becom essenti read mani professio...</td>\n",
              "    </tr>\n",
              "    <tr>\n",
              "      <th>490</th>\n",
              "      <td>__label__News_Domain</td>\n",
              "      <td>bowl center market 2020 vital geograph region ...</td>\n",
              "    </tr>\n",
              "    <tr>\n",
              "      <th>491</th>\n",
              "      <td>__label__News_Domain</td>\n",
              "      <td>unless exercis cancel right pursuant section e...</td>\n",
              "    </tr>\n",
              "  </tbody>\n",
              "</table>\n",
              "</div>"
            ],
            "text/plain": [
              "                     Domain_Type                                            stemmed\n",
              "487  __label__Consultancy_Domain  found 1855 savil one world lead properti agenc...\n",
              "488         __label__News_Domain  horizont media brand cover wide rang machin pr...\n",
              "489         __label__News_Domain  book written becom essenti read mani professio...\n",
              "490         __label__News_Domain  bowl center market 2020 vital geograph region ...\n",
              "491         __label__News_Domain  unless exercis cancel right pursuant section e..."
            ]
          },
          "metadata": {
            "tags": []
          },
          "execution_count": 37
        }
      ]
    },
    {
      "cell_type": "code",
      "metadata": {
        "id": "QtLC04odU4f8"
      },
      "source": [
        "d3.to_csv(\"Domain_data.txt\", index=False, sep='\\t', header='False') "
      ],
      "execution_count": null,
      "outputs": []
    },
    {
      "cell_type": "code",
      "metadata": {
        "id": "3c9qZLNBXBqS"
      },
      "source": [
        "!head Domain_data.txt"
      ],
      "execution_count": null,
      "outputs": []
    },
    {
      "cell_type": "code",
      "metadata": {
        "id": "OnpMEQvlXH_O",
        "colab": {
          "base_uri": "https://localhost:8080/"
        },
        "outputId": "69d50000-5046-4e26-81dc-ed0bdfc35863"
      },
      "source": [
        "! wc Domain_data.txt"
      ],
      "execution_count": null,
      "outputs": [
        {
          "output_type": "stream",
          "text": [
            "    493  496420 3350363 Domain_data.txt\n"
          ],
          "name": "stdout"
        }
      ]
    },
    {
      "cell_type": "code",
      "metadata": {
        "id": "yr7KA3fAX6TM"
      },
      "source": [
        "! head -n 343 Domain_data.txt > Domain_data.train.txt\n",
        "# Domain_data.train.txt"
      ],
      "execution_count": null,
      "outputs": []
    },
    {
      "cell_type": "code",
      "metadata": {
        "id": "06Zvr9akbe-J"
      },
      "source": [
        "! tail -n 150 Domain_data.txt > Domain_data.valid.txt"
      ],
      "execution_count": null,
      "outputs": []
    },
    {
      "cell_type": "code",
      "metadata": {
        "id": "yHfFJJ7swamg"
      },
      "source": [
        "! head Domain_data.valid.txt"
      ],
      "execution_count": null,
      "outputs": []
    },
    {
      "cell_type": "code",
      "metadata": {
        "colab": {
          "base_uri": "https://localhost:8080/"
        },
        "id": "uFmCNBmtcYk6",
        "outputId": "df7ea221-f300-4c2a-f27a-0857e1dd7722"
      },
      "source": [
        "! ./fasttext supervised -input Domain_data.train.txt -output model_Domain_data -lr 1.0 -epoch 50"
      ],
      "execution_count": null,
      "outputs": [
        {
          "output_type": "stream",
          "text": [
            "\rRead 0M words\n",
            "Number of words:  24246\n",
            "Number of labels: 3\n",
            "Progress: 100.0% words/sec/thread:  438617 lr:  0.000000 avg.loss:  0.126594 ETA:   0h 0m 0s\n"
          ],
          "name": "stdout"
        }
      ]
    },
    {
      "cell_type": "code",
      "metadata": {
        "id": "Jo0du3BecwBR"
      },
      "source": [
        "! ./fasttext predict model_Domain_data.bin Domain_data.train.txt"
      ],
      "execution_count": null,
      "outputs": []
    },
    {
      "cell_type": "code",
      "metadata": {
        "colab": {
          "base_uri": "https://localhost:8080/"
        },
        "id": "24ppB8jlv3oN",
        "outputId": "5cb42062-dbeb-45f5-e81f-233575b7ca47"
      },
      "source": [
        "! ./fasttext test model_Domain_data.bin Domain_data.valid.txt"
      ],
      "execution_count": null,
      "outputs": [
        {
          "output_type": "stream",
          "text": [
            "N\t150\n",
            "P@1\t0.667\n",
            "R@1\t0.667\n"
          ],
          "name": "stdout"
        }
      ]
    },
    {
      "cell_type": "code",
      "metadata": {
        "colab": {
          "base_uri": "https://localhost:8080/"
        },
        "id": "fgxWMdZedcfL",
        "outputId": "03ba0bae-177f-4294-92c7-31505c52659e"
      },
      "source": [
        "! ./fasttext supervised -input Domain_data.train.txt -output model_Domain_data -lr 1.0 -epoch 50 -wordNgrams 5"
      ],
      "execution_count": null,
      "outputs": [
        {
          "output_type": "stream",
          "text": [
            "\rRead 0M words\n",
            "Number of words:  24246\n",
            "Number of labels: 3\n",
            "Progress: 100.0% words/sec/thread:   57246 lr:  0.000000 avg.loss:  0.516118 ETA:   0h 0m 0s\n"
          ],
          "name": "stdout"
        }
      ]
    },
    {
      "cell_type": "code",
      "metadata": {
        "colab": {
          "base_uri": "https://localhost:8080/"
        },
        "id": "v0xNRaqudz1L",
        "outputId": "14c47ab5-1553-4a27-e069-53ecdfa59397"
      },
      "source": [
        "! ./fasttext test model_Domain_data.bin Domain_data.valid.txt"
      ],
      "execution_count": null,
      "outputs": [
        {
          "output_type": "stream",
          "text": [
            "N\t150\n",
            "P@1\t0.707\n",
            "R@1\t0.707\n"
          ],
          "name": "stdout"
        }
      ]
    },
    {
      "cell_type": "markdown",
      "metadata": {
        "id": "QWrbb4p_q7mv"
      },
      "source": [
        " Lemma content"
      ]
    },
    {
      "cell_type": "code",
      "metadata": {
        "colab": {
          "base_uri": "https://localhost:8080/",
          "height": 204
        },
        "id": "gXJLtlCLrAqQ",
        "outputId": "e74a696f-12c3-4dab-d66f-cd937d32f502"
      },
      "source": [
        "d4=d2[['Domain_Type','lemma']]\n",
        "d4.head()"
      ],
      "execution_count": null,
      "outputs": [
        {
          "output_type": "execute_result",
          "data": {
            "text/html": [
              "<div>\n",
              "<style scoped>\n",
              "    .dataframe tbody tr th:only-of-type {\n",
              "        vertical-align: middle;\n",
              "    }\n",
              "\n",
              "    .dataframe tbody tr th {\n",
              "        vertical-align: top;\n",
              "    }\n",
              "\n",
              "    .dataframe thead th {\n",
              "        text-align: right;\n",
              "    }\n",
              "</style>\n",
              "<table border=\"1\" class=\"dataframe\">\n",
              "  <thead>\n",
              "    <tr style=\"text-align: right;\">\n",
              "      <th></th>\n",
              "      <th>Domain_Type</th>\n",
              "      <th>lemma</th>\n",
              "    </tr>\n",
              "  </thead>\n",
              "  <tbody>\n",
              "    <tr>\n",
              "      <th>0</th>\n",
              "      <td>Consultancy Domain</td>\n",
              "      <td>supply chain strategy supply chain network des...</td>\n",
              "    </tr>\n",
              "    <tr>\n",
              "      <th>1</th>\n",
              "      <td>News Domain</td>\n",
              "      <td>ummidcom owned published awaz multimedia publi...</td>\n",
              "    </tr>\n",
              "    <tr>\n",
              "      <th>2</th>\n",
              "      <td>Priority Domain</td>\n",
              "      <td>die halbjhrlich erscheinende publikation liefe...</td>\n",
              "    </tr>\n",
              "    <tr>\n",
              "      <th>3</th>\n",
              "      <td>Consultancy Domain</td>\n",
              "      <td>mind commerce information service company focu...</td>\n",
              "    </tr>\n",
              "    <tr>\n",
              "      <th>4</th>\n",
              "      <td>Priority Domain</td>\n",
              "      <td>group consultant bunch keen listener troop pro...</td>\n",
              "    </tr>\n",
              "  </tbody>\n",
              "</table>\n",
              "</div>"
            ],
            "text/plain": [
              "          Domain_Type                                              lemma\n",
              "0  Consultancy Domain  supply chain strategy supply chain network des...\n",
              "1         News Domain  ummidcom owned published awaz multimedia publi...\n",
              "2     Priority Domain  die halbjhrlich erscheinende publikation liefe...\n",
              "3  Consultancy Domain  mind commerce information service company focu...\n",
              "4     Priority Domain  group consultant bunch keen listener troop pro..."
            ]
          },
          "metadata": {
            "tags": []
          },
          "execution_count": 18
        }
      ]
    },
    {
      "cell_type": "code",
      "metadata": {
        "colab": {
          "base_uri": "https://localhost:8080/"
        },
        "id": "jnsijqWArUg6",
        "outputId": "af509633-e960-467f-e8e7-c8bad1d6bc6a"
      },
      "source": [
        "d4['Domain_Type']=['__label__'+s.replace(' or ', '$').replace(', or ','$').replace(',','$').replace(' ','_').replace('$$','$').replace('___','__') for s in d4['Domain_Type']]\n",
        "#d3['Domain_Type'].head()\n",
        "#d4.head()"
      ],
      "execution_count": null,
      "outputs": [
        {
          "output_type": "stream",
          "text": [
            "/usr/local/lib/python3.7/dist-packages/ipykernel_launcher.py:1: SettingWithCopyWarning: \n",
            "A value is trying to be set on a copy of a slice from a DataFrame.\n",
            "Try using .loc[row_indexer,col_indexer] = value instead\n",
            "\n",
            "See the caveats in the documentation: https://pandas.pydata.org/pandas-docs/stable/user_guide/indexing.html#returning-a-view-versus-a-copy\n",
            "  \"\"\"Entry point for launching an IPython kernel.\n"
          ],
          "name": "stderr"
        }
      ]
    },
    {
      "cell_type": "code",
      "metadata": {
        "colab": {
          "base_uri": "https://localhost:8080/",
          "height": 204
        },
        "id": "OIVbwn4on-Ft",
        "outputId": "61ad8a78-87ca-4225-ba38-93a3c85d7cf7"
      },
      "source": [
        "d4.head()"
      ],
      "execution_count": null,
      "outputs": [
        {
          "output_type": "execute_result",
          "data": {
            "text/html": [
              "<div>\n",
              "<style scoped>\n",
              "    .dataframe tbody tr th:only-of-type {\n",
              "        vertical-align: middle;\n",
              "    }\n",
              "\n",
              "    .dataframe tbody tr th {\n",
              "        vertical-align: top;\n",
              "    }\n",
              "\n",
              "    .dataframe thead th {\n",
              "        text-align: right;\n",
              "    }\n",
              "</style>\n",
              "<table border=\"1\" class=\"dataframe\">\n",
              "  <thead>\n",
              "    <tr style=\"text-align: right;\">\n",
              "      <th></th>\n",
              "      <th>Domain_Type</th>\n",
              "      <th>lemma</th>\n",
              "    </tr>\n",
              "  </thead>\n",
              "  <tbody>\n",
              "    <tr>\n",
              "      <th>0</th>\n",
              "      <td>__label__Consultancy_Domain</td>\n",
              "      <td>supply chain strategy supply chain network des...</td>\n",
              "    </tr>\n",
              "    <tr>\n",
              "      <th>1</th>\n",
              "      <td>__label__News_Domain</td>\n",
              "      <td>ummidcom owned published awaz multimedia publi...</td>\n",
              "    </tr>\n",
              "    <tr>\n",
              "      <th>2</th>\n",
              "      <td>__label__Priority_Domain</td>\n",
              "      <td>die halbjhrlich erscheinende publikation liefe...</td>\n",
              "    </tr>\n",
              "    <tr>\n",
              "      <th>3</th>\n",
              "      <td>__label__Consultancy_Domain</td>\n",
              "      <td>mind commerce information service company focu...</td>\n",
              "    </tr>\n",
              "    <tr>\n",
              "      <th>4</th>\n",
              "      <td>__label__Priority_Domain</td>\n",
              "      <td>group consultant bunch keen listener troop pro...</td>\n",
              "    </tr>\n",
              "  </tbody>\n",
              "</table>\n",
              "</div>"
            ],
            "text/plain": [
              "                   Domain_Type                                              lemma\n",
              "0  __label__Consultancy_Domain  supply chain strategy supply chain network des...\n",
              "1         __label__News_Domain  ummidcom owned published awaz multimedia publi...\n",
              "2     __label__Priority_Domain  die halbjhrlich erscheinende publikation liefe...\n",
              "3  __label__Consultancy_Domain  mind commerce information service company focu...\n",
              "4     __label__Priority_Domain  group consultant bunch keen listener troop pro..."
            ]
          },
          "metadata": {
            "tags": []
          },
          "execution_count": 20
        }
      ]
    },
    {
      "cell_type": "code",
      "metadata": {
        "id": "9Bpska5SpoC-"
      },
      "source": [
        "d4.to_csv(\"Domain_data.txt\", index=False, sep='\\t', header='False') "
      ],
      "execution_count": null,
      "outputs": []
    },
    {
      "cell_type": "code",
      "metadata": {
        "colab": {
          "base_uri": "https://localhost:8080/"
        },
        "id": "WbL_bQDk4OFD",
        "outputId": "857f6978-d9f5-4761-dcf5-440d79a3fd3c"
      },
      "source": [
        "! wc Domain_data.txt"
      ],
      "execution_count": null,
      "outputs": [
        {
          "output_type": "stream",
          "text": [
            "   1124  938360 7323251 Domain_data.txt\n"
          ],
          "name": "stdout"
        }
      ]
    },
    {
      "cell_type": "code",
      "metadata": {
        "id": "mOIS95FepvxD"
      },
      "source": [
        "! head -n 899 Domain_data.txt > Domain_data.train.txt"
      ],
      "execution_count": null,
      "outputs": []
    },
    {
      "cell_type": "code",
      "metadata": {
        "id": "Mah1L_Y7p4GS"
      },
      "source": [
        "! tail -n 225 Domain_data.txt > Domain_data.valid.txt"
      ],
      "execution_count": null,
      "outputs": []
    },
    {
      "cell_type": "code",
      "metadata": {
        "colab": {
          "base_uri": "https://localhost:8080/"
        },
        "id": "BefmD13pp87H",
        "outputId": "28343543-e568-4f4d-acae-45eec278c1db"
      },
      "source": [
        "! ./fasttext supervised -input Domain_data.train.txt -output model_Domain_data -lr 1.0 -epoch 30"
      ],
      "execution_count": null,
      "outputs": [
        {
          "output_type": "stream",
          "text": [
            "\rRead 0M words\n",
            "Number of words:  49710\n",
            "Number of labels: 6\n",
            "Progress: 100.0% words/sec/thread:  402421 lr:  0.000000 avg.loss:  0.259740 ETA:   0h 0m 0s\n"
          ],
          "name": "stdout"
        }
      ]
    },
    {
      "cell_type": "code",
      "metadata": {
        "colab": {
          "base_uri": "https://localhost:8080/"
        },
        "id": "9XlUP0Q0qDUu",
        "outputId": "c59044b2-55c0-40e0-f2b2-ac211070d781"
      },
      "source": [
        "! ./fasttext test model_Domain_data.bin Domain_data.valid.txt"
      ],
      "execution_count": null,
      "outputs": [
        {
          "output_type": "stream",
          "text": [
            "N\t225\n",
            "P@1\t0.622\n",
            "R@1\t0.622\n"
          ],
          "name": "stdout"
        }
      ]
    },
    {
      "cell_type": "code",
      "metadata": {
        "colab": {
          "base_uri": "https://localhost:8080/"
        },
        "id": "PX9S5y0_qWB1",
        "outputId": "24ac4080-55e1-48e2-b4f7-f25d2f6ff55e"
      },
      "source": [
        "! ./fasttext supervised -input Domain_data.train.txt -output model_Domain_data -lr 1.0 -epoch 50 -wordNgrams 6 "
      ],
      "execution_count": null,
      "outputs": [
        {
          "output_type": "stream",
          "text": [
            "\rRead 0M words\n",
            "Number of words:  49710\n",
            "Number of labels: 6\n",
            "Progress: 100.0% words/sec/thread:   44403 lr:  0.000000 avg.loss:  0.654819 ETA:   0h 0m 0s\n"
          ],
          "name": "stdout"
        }
      ]
    },
    {
      "cell_type": "code",
      "metadata": {
        "colab": {
          "base_uri": "https://localhost:8080/"
        },
        "id": "QoiTai-Uqeh2",
        "outputId": "71813103-a658-4946-b25d-08e18311878c"
      },
      "source": [
        "! ./fasttext test model_Domain_data.bin Domain_data.valid.txt"
      ],
      "execution_count": null,
      "outputs": [
        {
          "output_type": "stream",
          "text": [
            "N\t225\n",
            "P@1\t0.6\n",
            "R@1\t0.6\n"
          ],
          "name": "stdout"
        }
      ]
    }
  ]
}